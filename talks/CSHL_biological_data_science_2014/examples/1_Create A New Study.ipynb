{
 "metadata": {
  "name": "",
  "signature": "sha256:52469317cb5ef478ec1b883eb76ae66571d0109493c60110ff65f591b491da6d"
 },
 "nbformat": 3,
 "nbformat_minor": 0,
 "worksheets": [
  {
   "cells": [
    {
     "cell_type": "markdown",
     "metadata": {
      "slideshow": {
       "slide_type": "slide"
      }
     },
     "source": [
      "##In this notebook: \n",
      "###Make a new `flotilla.Study`"
     ]
    },
    {
     "cell_type": "code",
     "collapsed": false,
     "input": [
      "import css_styling"
     ],
     "language": "python",
     "metadata": {
      "slideshow": {
       "slide_type": "skip"
      }
     },
     "outputs": [
      {
       "html": [
        "<link rel=\"stylesheet\" href=\"http://bootswatch.com/paper/bootstrap.css\">"
       ],
       "metadata": {},
       "output_type": "display_data",
       "text": [
        "<IPython.core.display.HTML at 0x101e6f990>"
       ]
      }
     ],
     "prompt_number": 1
    },
    {
     "cell_type": "markdown",
     "metadata": {},
     "source": [
      "##Requirements for this demonstration.\n",
      "<br>\n",
      "  * Metrics\n",
      "  \n",
      "    * Mapping statistics data file<br>\n",
      "    Combined output from aligner, quantifying number of reads mapped in each sample\n",
      "    <br>\n",
      "    <br>\n",
      "    * Expression data file<br>\n",
      "    [Gencode](http://www.gencodegenes.org/) gene IDs\n",
      "    <br>\n",
      "    <br>\n",
      "    * Splicing data file<br>[MISO](http://miso.readthedocs.org/) qunatification and ids"
     ]
    },
    {
     "cell_type": "markdown",
     "metadata": {
      "slideshow": {
       "slide_type": "fragment"
      }
     },
     "source": [
      "* Metadata\n",
      "\n",
      "  * Sample Colors\n",
      "  \n",
      "  * Pooled samples vs single cells labels\n",
      "  \n",
      "  * A _phenotype_ attribute."
     ]
    },
    {
     "cell_type": "markdown",
     "metadata": {
      "slideshow": {
       "slide_type": "notes"
      }
     },
     "source": [
      "We assume you already have a pipeline in place to analyze and quantify data. If you don't the pipeline is available on the `docker` image. While it is possible to create custom species, that is left for another notebook. Here we assume you have human (hg19/GRCh37) or mouse (mm10/GRCm38) data. "
     ]
    },
    {
     "cell_type": "markdown",
     "metadata": {
      "slideshow": {
       "slide_type": "slide"
      }
     },
     "source": [
      "##Our data\n",
      "<H2 align='center'>_In vitro_ directed differentiation of Craig Venter's fibroblasts</H2>\n",
      "<br>\n",
      "<div align='right'>![craig2](img/craig2.jpg)</div>\n",
      "<H3><div align='right'><font color=#0066CC> Induced pluripotent cells (P) </font> <br>\n",
      "<font color=#29A329> Neural progenitor cells (N) </font><br>\n",
      "<font color=#CC0000> Motor neurons (M) </font><br>\n",
      "<font color=#FF9900> Motor neurons stressed treated with sodium arenite (oxidative stressor) (S) <br> </font></div></H3>"
     ]
    },
    {
     "cell_type": "markdown",
     "metadata": {
      "slideshow": {
       "slide_type": "subslide"
      }
     },
     "source": [
      "<img src=\"img/differentiation.png\">"
     ]
    },
    {
     "cell_type": "markdown",
     "metadata": {
      "slideshow": {
       "slide_type": "slide"
      }
     },
     "source": [
      "##Study Setup\n",
      "<H3 align='center'>Import and Save Data</H3>\n",
      "<br>\n",
      "<div align='right'>Use `pandas` package to manipulate on-disk files.<br>Save the data into a `flotilla` 'datapackage.'</div>"
     ]
    },
    {
     "cell_type": "code",
     "collapsed": false,
     "input": [
      "import flotilla #automatically calls %matplotlib inline\n",
      "import pandas\n",
      "import os\n",
      "from time import time\n",
      "import numpy as np\n",
      "home = os.environ[\"HOME\"]"
     ],
     "language": "python",
     "metadata": {
      "slideshow": {
       "slide_type": "fragment"
      }
     },
     "outputs": [],
     "prompt_number": 2
    },
    {
     "cell_type": "code",
     "collapsed": false,
     "input": [
      "start_time = time()"
     ],
     "language": "python",
     "metadata": {
      "slideshow": {
       "slide_type": "skip"
      }
     },
     "outputs": [],
     "prompt_number": 3
    },
    {
     "cell_type": "markdown",
     "metadata": {
      "slideshow": {
       "slide_type": "slide"
      }
     },
     "source": [
      "<div align='left'><H2>Technical data</H2></div>\n",
      "<H3 align='center'>Mapping statistics.</H3>\n",
      "<br>\n",
      "<div align='right'>Output of [RNA-STAR](https://code.google.com/p/rna-star/) genome aligner.</div>"
     ]
    },
    {
     "cell_type": "code",
     "collapsed": false,
     "input": [
      "a = time()"
     ],
     "language": "python",
     "metadata": {
      "slideshow": {
       "slide_type": "skip"
      }
     },
     "outputs": [],
     "prompt_number": 4
    },
    {
     "cell_type": "code",
     "collapsed": false,
     "input": [
      "mapstats_data_file = os.path.join(home, \"Projects/neural_diff/mapping_stats.tsv\")\n",
      "mapstats_data = pandas.read_table(mapstats_data_file, index_col=0)\n",
      "print \"Loaded data table, size is (samples, genes):\", mapstats_data.shape"
     ],
     "language": "python",
     "metadata": {
      "slideshow": {
       "slide_type": "fragment"
      }
     },
     "outputs": [
      {
       "output_type": "stream",
       "stream": "stdout",
       "text": [
        "Loaded data table, size is (samples, genes): (256, 32)\n"
       ]
      }
     ],
     "prompt_number": 5
    },
    {
     "cell_type": "code",
     "collapsed": false,
     "input": [
      "b = time()\n",
      "\n",
      "print \"This operation took {:.5f} seconds.\".format(b - a)"
     ],
     "language": "python",
     "metadata": {
      "slideshow": {
       "slide_type": "skip"
      }
     },
     "outputs": [
      {
       "output_type": "stream",
       "stream": "stdout",
       "text": [
        "This operation took 0.01587 seconds.\n"
       ]
      }
     ],
     "prompt_number": 6
    },
    {
     "cell_type": "code",
     "collapsed": false,
     "input": [
      "mapstats_data.head()"
     ],
     "language": "python",
     "metadata": {
      "slideshow": {
       "slide_type": "fragment"
      }
     },
     "outputs": [
      {
       "html": [
        "<div style=\"max-height:1000px;max-width:1500px;overflow:auto;\">\n",
        "<table border=\"1\" class=\"dataframe\">\n",
        "  <thead>\n",
        "    <tr style=\"text-align: right;\">\n",
        "      <th></th>\n",
        "      <th>Started job on</th>\n",
        "      <th>Started mapping on</th>\n",
        "      <th>Finished on</th>\n",
        "      <th>Mapping speed, Million of reads per hour</th>\n",
        "      <th>Number of input reads</th>\n",
        "      <th>Average input read length</th>\n",
        "      <th>Uniquely mapped reads number</th>\n",
        "      <th>Uniquely mapped reads %</th>\n",
        "      <th>Average mapped length</th>\n",
        "      <th>Number of splices: Total</th>\n",
        "      <th>Number of splices: Annotated (sjdb)</th>\n",
        "      <th>Number of splices: GT/AG</th>\n",
        "      <th>Number of splices: GC/AG</th>\n",
        "      <th>Number of splices: AT/AC</th>\n",
        "      <th>Number of splices: Non-canonical</th>\n",
        "      <th>Mismatch rate per base, %</th>\n",
        "      <th>Deletion rate per base</th>\n",
        "      <th>Deletion average length</th>\n",
        "      <th>Insertion rate per base</th>\n",
        "      <th>Insertion average length</th>\n",
        "      <th></th>\n",
        "    </tr>\n",
        "  </thead>\n",
        "  <tbody>\n",
        "    <tr>\n",
        "      <th>M_M1_01</th>\n",
        "      <td> Apr 29 19:58:18</td>\n",
        "      <td> Apr 29 19:58:40</td>\n",
        "      <td> Apr 29 20:01:22</td>\n",
        "      <td> 274.58</td>\n",
        "      <td> 12356210</td>\n",
        "      <td> 184</td>\n",
        "      <td> 10684874</td>\n",
        "      <td> 86.47</td>\n",
        "      <td> 181.36</td>\n",
        "      <td> 4629200</td>\n",
        "      <td> 4559773</td>\n",
        "      <td> 4594566</td>\n",
        "      <td> 23888</td>\n",
        "      <td> 5051</td>\n",
        "      <td> 5695</td>\n",
        "      <td> 0.37</td>\n",
        "      <td> 0.01</td>\n",
        "      <td> 1.57</td>\n",
        "      <td> 0.01</td>\n",
        "      <td> 1.43</td>\n",
        "      <td>...</td>\n",
        "    </tr>\n",
        "    <tr>\n",
        "      <th>M_M1_02</th>\n",
        "      <td> Apr 29 17:59:28</td>\n",
        "      <td> Apr 29 18:01:21</td>\n",
        "      <td> Apr 29 18:19:15</td>\n",
        "      <td>  41.62</td>\n",
        "      <td> 12416854</td>\n",
        "      <td> 184</td>\n",
        "      <td> 11235549</td>\n",
        "      <td> 90.49</td>\n",
        "      <td> 181.70</td>\n",
        "      <td> 2706035</td>\n",
        "      <td> 2656128</td>\n",
        "      <td> 2679768</td>\n",
        "      <td> 20734</td>\n",
        "      <td> 2084</td>\n",
        "      <td> 3449</td>\n",
        "      <td> 0.38</td>\n",
        "      <td> 0.01</td>\n",
        "      <td> 1.59</td>\n",
        "      <td> 0.01</td>\n",
        "      <td> 1.44</td>\n",
        "      <td>...</td>\n",
        "    </tr>\n",
        "    <tr>\n",
        "      <th>M_M1_03</th>\n",
        "      <td> Apr 29 19:35:13</td>\n",
        "      <td> Apr 29 19:35:39</td>\n",
        "      <td> Apr 29 19:39:41</td>\n",
        "      <td> 294.61</td>\n",
        "      <td> 19804563</td>\n",
        "      <td> 184</td>\n",
        "      <td> 17584862</td>\n",
        "      <td> 88.79</td>\n",
        "      <td> 181.38</td>\n",
        "      <td> 8496381</td>\n",
        "      <td> 8409406</td>\n",
        "      <td> 8422815</td>\n",
        "      <td> 53739</td>\n",
        "      <td> 9947</td>\n",
        "      <td> 9880</td>\n",
        "      <td> 0.38</td>\n",
        "      <td> 0.01</td>\n",
        "      <td> 1.55</td>\n",
        "      <td> 0.01</td>\n",
        "      <td> 1.50</td>\n",
        "      <td>...</td>\n",
        "    </tr>\n",
        "    <tr>\n",
        "      <th>M_M1_04</th>\n",
        "      <td> Apr 29 18:30:05</td>\n",
        "      <td> Apr 29 18:30:31</td>\n",
        "      <td> Apr 29 18:32:29</td>\n",
        "      <td> 263.10</td>\n",
        "      <td>  8623786</td>\n",
        "      <td> 184</td>\n",
        "      <td>  7599917</td>\n",
        "      <td> 88.13</td>\n",
        "      <td> 181.29</td>\n",
        "      <td> 4547233</td>\n",
        "      <td> 4501975</td>\n",
        "      <td> 4503758</td>\n",
        "      <td> 32611</td>\n",
        "      <td> 4811</td>\n",
        "      <td> 6053</td>\n",
        "      <td> 0.36</td>\n",
        "      <td> 0.01</td>\n",
        "      <td> 1.54</td>\n",
        "      <td> 0.01</td>\n",
        "      <td> 1.46</td>\n",
        "      <td>...</td>\n",
        "    </tr>\n",
        "    <tr>\n",
        "      <th>M_M1_05</th>\n",
        "      <td> Apr 29 19:19:31</td>\n",
        "      <td> Apr 29 19:19:53</td>\n",
        "      <td> Apr 29 19:22:28</td>\n",
        "      <td> 267.28</td>\n",
        "      <td> 11507835</td>\n",
        "      <td> 184</td>\n",
        "      <td>  9726225</td>\n",
        "      <td> 84.52</td>\n",
        "      <td> 181.33</td>\n",
        "      <td> 3429570</td>\n",
        "      <td> 3371387</td>\n",
        "      <td> 3391403</td>\n",
        "      <td> 30907</td>\n",
        "      <td> 4029</td>\n",
        "      <td> 3231</td>\n",
        "      <td> 0.37</td>\n",
        "      <td> 0.01</td>\n",
        "      <td> 1.55</td>\n",
        "      <td> 0.01</td>\n",
        "      <td> 1.42</td>\n",
        "      <td>...</td>\n",
        "    </tr>\n",
        "  </tbody>\n",
        "</table>\n",
        "<p>5 rows \u00d7 32 columns</p>\n",
        "</div>"
       ],
       "metadata": {},
       "output_type": "pyout",
       "prompt_number": 7,
       "text": [
        "          Started job on Started mapping on      Finished on  \\\n",
        "M_M1_01  Apr 29 19:58:18    Apr 29 19:58:40  Apr 29 20:01:22   \n",
        "M_M1_02  Apr 29 17:59:28    Apr 29 18:01:21  Apr 29 18:19:15   \n",
        "M_M1_03  Apr 29 19:35:13    Apr 29 19:35:39  Apr 29 19:39:41   \n",
        "M_M1_04  Apr 29 18:30:05    Apr 29 18:30:31  Apr 29 18:32:29   \n",
        "M_M1_05  Apr 29 19:19:31    Apr 29 19:19:53  Apr 29 19:22:28   \n",
        "\n",
        "         Mapping speed, Million of reads per hour  Number of input reads  \\\n",
        "M_M1_01                                    274.58               12356210   \n",
        "M_M1_02                                     41.62               12416854   \n",
        "M_M1_03                                    294.61               19804563   \n",
        "M_M1_04                                    263.10                8623786   \n",
        "M_M1_05                                    267.28               11507835   \n",
        "\n",
        "         Average input read length  Uniquely mapped reads number  \\\n",
        "M_M1_01                        184                      10684874   \n",
        "M_M1_02                        184                      11235549   \n",
        "M_M1_03                        184                      17584862   \n",
        "M_M1_04                        184                       7599917   \n",
        "M_M1_05                        184                       9726225   \n",
        "\n",
        "         Uniquely mapped reads %  Average mapped length  \\\n",
        "M_M1_01                    86.47                 181.36   \n",
        "M_M1_02                    90.49                 181.70   \n",
        "M_M1_03                    88.79                 181.38   \n",
        "M_M1_04                    88.13                 181.29   \n",
        "M_M1_05                    84.52                 181.33   \n",
        "\n",
        "         Number of splices: Total  Number of splices: Annotated (sjdb)  \\\n",
        "M_M1_01                   4629200                              4559773   \n",
        "M_M1_02                   2706035                              2656128   \n",
        "M_M1_03                   8496381                              8409406   \n",
        "M_M1_04                   4547233                              4501975   \n",
        "M_M1_05                   3429570                              3371387   \n",
        "\n",
        "         Number of splices: GT/AG  Number of splices: GC/AG  \\\n",
        "M_M1_01                   4594566                     23888   \n",
        "M_M1_02                   2679768                     20734   \n",
        "M_M1_03                   8422815                     53739   \n",
        "M_M1_04                   4503758                     32611   \n",
        "M_M1_05                   3391403                     30907   \n",
        "\n",
        "         Number of splices: AT/AC  Number of splices: Non-canonical  \\\n",
        "M_M1_01                      5051                              5695   \n",
        "M_M1_02                      2084                              3449   \n",
        "M_M1_03                      9947                              9880   \n",
        "M_M1_04                      4811                              6053   \n",
        "M_M1_05                      4029                              3231   \n",
        "\n",
        "         Mismatch rate per base, %  Deletion rate per base  \\\n",
        "M_M1_01                       0.37                    0.01   \n",
        "M_M1_02                       0.38                    0.01   \n",
        "M_M1_03                       0.38                    0.01   \n",
        "M_M1_04                       0.36                    0.01   \n",
        "M_M1_05                       0.37                    0.01   \n",
        "\n",
        "         Deletion average length  Insertion rate per base  \\\n",
        "M_M1_01                     1.57                     0.01   \n",
        "M_M1_02                     1.59                     0.01   \n",
        "M_M1_03                     1.55                     0.01   \n",
        "M_M1_04                     1.54                     0.01   \n",
        "M_M1_05                     1.55                     0.01   \n",
        "\n",
        "         Insertion average length      \n",
        "M_M1_01                      1.43 ...  \n",
        "M_M1_02                      1.44 ...  \n",
        "M_M1_03                      1.50 ...  \n",
        "M_M1_04                      1.46 ...  \n",
        "M_M1_05                      1.42 ...  \n",
        "\n",
        "[5 rows x 32 columns]"
       ]
      }
     ],
     "prompt_number": 7
    },
    {
     "cell_type": "markdown",
     "metadata": {
      "slideshow": {
       "slide_type": "subslide"
      }
     },
     "source": [
      "##Expression Data\n",
      "\n",
      "<H3><div align='center'>TPM - Transcripts-per-million.</div></H3>\n",
      "<div align='right'>\n",
      "Quantified with <a href='http://www.cs.cmu.edu/~ckingsf/software/sailfish/'>Sailfish</a>\n",
      "</div>"
     ]
    },
    {
     "cell_type": "code",
     "collapsed": false,
     "input": [
      "a = time()"
     ],
     "language": "python",
     "metadata": {
      "slideshow": {
       "slide_type": "skip"
      }
     },
     "outputs": [],
     "prompt_number": 8
    },
    {
     "cell_type": "code",
     "collapsed": false,
     "input": [
      "expression_data_file = os.path.join(home, \"Projects/neural_diff/tpm.tsv\")\n",
      "expression_data = pandas.read_table(expression_data_file, index_col=0)\n",
      "print \"Loaded data table, size is (samples, genes):\", expression_data.shape"
     ],
     "language": "python",
     "metadata": {
      "slideshow": {
       "slide_type": "fragment"
      }
     },
     "outputs": [
      {
       "output_type": "stream",
       "stream": "stdout",
       "text": [
        "Loaded data table, size is (samples, genes): (258, 34609)\n"
       ]
      }
     ],
     "prompt_number": 9
    },
    {
     "cell_type": "code",
     "collapsed": false,
     "input": [
      "b = time()\n",
      "\n",
      "print \"This operation took {:.1f} seconds.\".format(b - a)"
     ],
     "language": "python",
     "metadata": {
      "slideshow": {
       "slide_type": "skip"
      }
     },
     "outputs": [
      {
       "output_type": "stream",
       "stream": "stdout",
       "text": [
        "This operation took 10.0 seconds.\n"
       ]
      }
     ],
     "prompt_number": 10
    },
    {
     "cell_type": "code",
     "collapsed": false,
     "input": [
      "expression_data.head()"
     ],
     "language": "python",
     "metadata": {
      "slideshow": {
       "slide_type": "fragment"
      }
     },
     "outputs": [
      {
       "html": [
        "<div style=\"max-height:1000px;max-width:1500px;overflow:auto;\">\n",
        "<table border=\"1\" class=\"dataframe\">\n",
        "  <thead>\n",
        "    <tr style=\"text-align: right;\">\n",
        "      <th></th>\n",
        "      <th>ENSG00000000003</th>\n",
        "      <th>ENSG00000000005</th>\n",
        "      <th>ENSG00000000419</th>\n",
        "      <th>ENSG00000000457</th>\n",
        "      <th>ENSG00000000460</th>\n",
        "      <th>ENSG00000000938</th>\n",
        "      <th>ENSG00000000971</th>\n",
        "      <th>ENSG00000001036</th>\n",
        "      <th>ENSG00000001084</th>\n",
        "      <th>ENSG00000001167</th>\n",
        "      <th>ENSG00000001460</th>\n",
        "      <th>ENSG00000001461</th>\n",
        "      <th>ENSG00000001497</th>\n",
        "      <th>ENSG00000001561</th>\n",
        "      <th>ENSG00000001617</th>\n",
        "      <th>ENSG00000001626</th>\n",
        "      <th>ENSG00000001629</th>\n",
        "      <th>ENSG00000001630</th>\n",
        "      <th>ENSG00000001631</th>\n",
        "      <th>ENSG00000002016</th>\n",
        "      <th></th>\n",
        "    </tr>\n",
        "    <tr>\n",
        "      <th>sample_id</th>\n",
        "      <th></th>\n",
        "      <th></th>\n",
        "      <th></th>\n",
        "      <th></th>\n",
        "      <th></th>\n",
        "      <th></th>\n",
        "      <th></th>\n",
        "      <th></th>\n",
        "      <th></th>\n",
        "      <th></th>\n",
        "      <th></th>\n",
        "      <th></th>\n",
        "      <th></th>\n",
        "      <th></th>\n",
        "      <th></th>\n",
        "      <th></th>\n",
        "      <th></th>\n",
        "      <th></th>\n",
        "      <th></th>\n",
        "      <th></th>\n",
        "    </tr>\n",
        "  </thead>\n",
        "  <tbody>\n",
        "    <tr>\n",
        "      <th>N_CVN_01</th>\n",
        "      <td> 9.566147</td>\n",
        "      <td> 0</td>\n",
        "      <td> 3.708346</td>\n",
        "      <td> 0.845283</td>\n",
        "      <td> 0.000000</td>\n",
        "      <td> 0</td>\n",
        "      <td> 0</td>\n",
        "      <td> 2.885440</td>\n",
        "      <td> 0</td>\n",
        "      <td> 1.685366</td>\n",
        "      <td> 0</td>\n",
        "      <td> 0.258005</td>\n",
        "      <td> 7.499054</td>\n",
        "      <td> 0.000000</td>\n",
        "      <td> 0</td>\n",
        "      <td> 0</td>\n",
        "      <td> 7.920973</td>\n",
        "      <td> 8.354972</td>\n",
        "      <td> 0.208705</td>\n",
        "      <td> 7.033610</td>\n",
        "      <td>...</td>\n",
        "    </tr>\n",
        "    <tr>\n",
        "      <th>N_CVN_02</th>\n",
        "      <td> 5.420152</td>\n",
        "      <td> 0</td>\n",
        "      <td> 0.000000</td>\n",
        "      <td> 2.120757</td>\n",
        "      <td> 0.131755</td>\n",
        "      <td> 0</td>\n",
        "      <td> 0</td>\n",
        "      <td> 0.967639</td>\n",
        "      <td> 0</td>\n",
        "      <td> 0.458685</td>\n",
        "      <td> 0</td>\n",
        "      <td> 1.299609</td>\n",
        "      <td> 6.401504</td>\n",
        "      <td> 0.000000</td>\n",
        "      <td> 0</td>\n",
        "      <td> 0</td>\n",
        "      <td> 9.048664</td>\n",
        "      <td> 9.233733</td>\n",
        "      <td> 8.222007</td>\n",
        "      <td> 0.462878</td>\n",
        "      <td>...</td>\n",
        "    </tr>\n",
        "    <tr>\n",
        "      <th>N_CVN_03</th>\n",
        "      <td> 0.193107</td>\n",
        "      <td> 0</td>\n",
        "      <td> 0.000000</td>\n",
        "      <td> 2.243700</td>\n",
        "      <td> 0.000000</td>\n",
        "      <td> 0</td>\n",
        "      <td> 0</td>\n",
        "      <td> 0.000000</td>\n",
        "      <td> 0</td>\n",
        "      <td> 0.308378</td>\n",
        "      <td> 0</td>\n",
        "      <td> 0.468575</td>\n",
        "      <td> 0.000000</td>\n",
        "      <td> 0.150421</td>\n",
        "      <td> 0</td>\n",
        "      <td> 0</td>\n",
        "      <td> 8.152043</td>\n",
        "      <td> 6.299115</td>\n",
        "      <td> 0.000000</td>\n",
        "      <td> 4.553803</td>\n",
        "      <td>...</td>\n",
        "    </tr>\n",
        "    <tr>\n",
        "      <th>N_CVN_04</th>\n",
        "      <td> 8.482937</td>\n",
        "      <td> 0</td>\n",
        "      <td> 2.719663</td>\n",
        "      <td> 1.485720</td>\n",
        "      <td> 0.000000</td>\n",
        "      <td> 0</td>\n",
        "      <td> 0</td>\n",
        "      <td> 6.706779</td>\n",
        "      <td> 0</td>\n",
        "      <td> 8.244491</td>\n",
        "      <td> 0</td>\n",
        "      <td> 1.376518</td>\n",
        "      <td> 5.402504</td>\n",
        "      <td> 2.954587</td>\n",
        "      <td> 0</td>\n",
        "      <td> 0</td>\n",
        "      <td> 3.246922</td>\n",
        "      <td> 7.930185</td>\n",
        "      <td> 4.986076</td>\n",
        "      <td> 5.074758</td>\n",
        "      <td>...</td>\n",
        "    </tr>\n",
        "    <tr>\n",
        "      <th>N_CVN_05</th>\n",
        "      <td> 7.566518</td>\n",
        "      <td> 0</td>\n",
        "      <td> 5.322312</td>\n",
        "      <td> 1.693445</td>\n",
        "      <td> 4.447407</td>\n",
        "      <td> 0</td>\n",
        "      <td> 0</td>\n",
        "      <td> 1.161874</td>\n",
        "      <td> 0</td>\n",
        "      <td> 6.121991</td>\n",
        "      <td> 0</td>\n",
        "      <td> 0.906260</td>\n",
        "      <td> 8.609829</td>\n",
        "      <td> 2.111148</td>\n",
        "      <td> 0</td>\n",
        "      <td> 0</td>\n",
        "      <td> 0.172996</td>\n",
        "      <td> 8.493644</td>\n",
        "      <td> 7.911422</td>\n",
        "      <td> 6.398508</td>\n",
        "      <td>...</td>\n",
        "    </tr>\n",
        "  </tbody>\n",
        "</table>\n",
        "<p>5 rows \u00d7 34609 columns</p>\n",
        "</div>"
       ],
       "metadata": {},
       "output_type": "pyout",
       "prompt_number": 11,
       "text": [
        "           ENSG00000000003  ENSG00000000005  ENSG00000000419  ENSG00000000457  \\\n",
        "sample_id                                                                       \n",
        "N_CVN_01          9.566147                0         3.708346         0.845283   \n",
        "N_CVN_02          5.420152                0         0.000000         2.120757   \n",
        "N_CVN_03          0.193107                0         0.000000         2.243700   \n",
        "N_CVN_04          8.482937                0         2.719663         1.485720   \n",
        "N_CVN_05          7.566518                0         5.322312         1.693445   \n",
        "\n",
        "           ENSG00000000460  ENSG00000000938  ENSG00000000971  ENSG00000001036  \\\n",
        "sample_id                                                                       \n",
        "N_CVN_01          0.000000                0                0         2.885440   \n",
        "N_CVN_02          0.131755                0                0         0.967639   \n",
        "N_CVN_03          0.000000                0                0         0.000000   \n",
        "N_CVN_04          0.000000                0                0         6.706779   \n",
        "N_CVN_05          4.447407                0                0         1.161874   \n",
        "\n",
        "           ENSG00000001084  ENSG00000001167  ENSG00000001460  ENSG00000001461  \\\n",
        "sample_id                                                                       \n",
        "N_CVN_01                 0         1.685366                0         0.258005   \n",
        "N_CVN_02                 0         0.458685                0         1.299609   \n",
        "N_CVN_03                 0         0.308378                0         0.468575   \n",
        "N_CVN_04                 0         8.244491                0         1.376518   \n",
        "N_CVN_05                 0         6.121991                0         0.906260   \n",
        "\n",
        "           ENSG00000001497  ENSG00000001561  ENSG00000001617  ENSG00000001626  \\\n",
        "sample_id                                                                       \n",
        "N_CVN_01          7.499054         0.000000                0                0   \n",
        "N_CVN_02          6.401504         0.000000                0                0   \n",
        "N_CVN_03          0.000000         0.150421                0                0   \n",
        "N_CVN_04          5.402504         2.954587                0                0   \n",
        "N_CVN_05          8.609829         2.111148                0                0   \n",
        "\n",
        "           ENSG00000001629  ENSG00000001630  ENSG00000001631  ENSG00000002016  \\\n",
        "sample_id                                                                       \n",
        "N_CVN_01          7.920973         8.354972         0.208705         7.033610   \n",
        "N_CVN_02          9.048664         9.233733         8.222007         0.462878   \n",
        "N_CVN_03          8.152043         6.299115         0.000000         4.553803   \n",
        "N_CVN_04          3.246922         7.930185         4.986076         5.074758   \n",
        "N_CVN_05          0.172996         8.493644         7.911422         6.398508   \n",
        "\n",
        "               \n",
        "sample_id      \n",
        "N_CVN_01  ...  \n",
        "N_CVN_02  ...  \n",
        "N_CVN_03  ...  \n",
        "N_CVN_04  ...  \n",
        "N_CVN_05  ...  \n",
        "\n",
        "[5 rows x 34609 columns]"
       ]
      }
     ],
     "prompt_number": 11
    },
    {
     "cell_type": "markdown",
     "metadata": {
      "slideshow": {
       "slide_type": "subslide"
      }
     },
     "source": [
      "##Splicing Data\n",
      "<H3 align='center'> $\\psi$ - <u>P</u>ercent <u>S</u>pliced <u>I</u>n.</H3>\n",
      "<div align='right'>Quantified with <a href='http://genes.mit.edu/burgelab/miso/'>MISO</a></div>\n",
      "\n",
      "In this case, we filtered by $\\psi$ confidence interval $(CI\\_width < 0.5)$."
     ]
    },
    {
     "cell_type": "code",
     "collapsed": false,
     "input": [
      "a = time()"
     ],
     "language": "python",
     "metadata": {
      "slideshow": {
       "slide_type": "skip"
      }
     },
     "outputs": [],
     "prompt_number": 12
    },
    {
     "cell_type": "code",
     "collapsed": false,
     "input": [
      "splicing_data_file = os.path.join(home, \"Projects/neural_diff/psi.tsv\")\n",
      "splicing_data = pandas.read_table(splicing_data_file, index_col=0)\n",
      "print \"Loaded data table, size is (samples, genes):\", expression_data.shape\n",
      "print \"{:.2f}% of values are not NaN\".format(100.*splicing_data.count().sum() / np.product(splicing_data.shape))"
     ],
     "language": "python",
     "metadata": {
      "slideshow": {
       "slide_type": "fragment"
      }
     },
     "outputs": [
      {
       "output_type": "stream",
       "stream": "stdout",
       "text": [
        "Loaded data table, size is (samples, genes): (258, 34609)\n",
        "17.55% of values are not NaN"
       ]
      },
      {
       "output_type": "stream",
       "stream": "stdout",
       "text": [
        "\n"
       ]
      }
     ],
     "prompt_number": 13
    },
    {
     "cell_type": "code",
     "collapsed": false,
     "input": [
      "b = time()\n",
      "\n",
      "print \"This operation took {:.1f} seconds.\".format(b - a)"
     ],
     "language": "python",
     "metadata": {
      "slideshow": {
       "slide_type": "skip"
      }
     },
     "outputs": [
      {
       "output_type": "stream",
       "stream": "stdout",
       "text": [
        "This operation took 18.5 seconds.\n"
       ]
      }
     ],
     "prompt_number": 14
    },
    {
     "cell_type": "code",
     "collapsed": false,
     "input": [
      "splicing_data.head()"
     ],
     "language": "python",
     "metadata": {
      "slideshow": {
       "slide_type": "fragment"
      }
     },
     "outputs": [
      {
       "html": [
        "<div style=\"max-height:1000px;max-width:1500px;overflow:auto;\">\n",
        "<table border=\"1\" class=\"dataframe\">\n",
        "  <thead>\n",
        "    <tr style=\"text-align: right;\">\n",
        "      <th></th>\n",
        "      <th>chr10:100148111:100148265:-@chr10:100147622:100147841:-@chr10:100146958:100147064:-</th>\n",
        "      <th>chr10:100174766:100174978:-@chr10:100174489:100174591:-@chr10:100173705:100174052:-</th>\n",
        "      <th>chr10:100185575:100185742:-@chr10:100185441|100185477:100185298:-</th>\n",
        "      <th>chr10:100186972:100187021:-@chr10:100185575:100185742:-@chr10:100185298:100185477:-</th>\n",
        "      <th>chr10:100190328:100190427:-@chr10:100189548:100189646:-@chr10:100189330:100189399:-</th>\n",
        "      <th>chr10:100193697:100193848:-@chr10:100190888:100191048:-@chr10:100190328:100190427:-</th>\n",
        "      <th>chr10:100193740:100193848:-@chr10:100190888:100191048:-@chr10:100190328:100190427:-</th>\n",
        "      <th>chr10:100193848:100193697|100193740:-@chr10:100190328:100190427:-</th>\n",
        "      <th>chr10:100193848:100193697|100193740:-@chr10:100190888:100191048:-</th>\n",
        "      <th>chr10:100195392:100195529:-@chr10:100195029:100195171:-@chr10:100193740:100193848:-</th>\n",
        "      <th>chr10:100206564:100206704:-@chr10:100205161|100205170:100205057:-</th>\n",
        "      <th>chr10:101124712:101124759:+@chr10:101128375:101128437:+@chr10:101136812:101136975:+</th>\n",
        "      <th>chr10:101147577:101147760:+@chr10:101147909:101148058:+@chr10:101150063:101150164:+</th>\n",
        "      <th>chr10:101180562:101180370|101180381:-@chr10:101166483:101166606:-</th>\n",
        "      <th>chr10:101373453:101373681:-@chr10:101372300:101372356:-@chr10:101370642:101371215:-</th>\n",
        "      <th>chr10:101373681:101373173|101373453:-@chr10:101372300:101372356:-</th>\n",
        "      <th>chr10:101379802:101380221:-@chr10:101373173:101373681:-@chr10:101372300:101372356:-</th>\n",
        "      <th>chr10:101379802:101380221:-@chr10:101373453:101373681:-@chr10:101372300:101372356:-</th>\n",
        "      <th>chr10:101379802:101380221:-@chr10:101373453:101373681:-@chr10:101372300:101372356:-@chr10:101370642:101371215:-</th>\n",
        "      <th>chr10:101419619:101419721:+@chr10:101420057:101420239:+@chr10:101421203:101421385:+</th>\n",
        "      <th></th>\n",
        "    </tr>\n",
        "  </thead>\n",
        "  <tbody>\n",
        "    <tr>\n",
        "      <th>N_CVN_01</th>\n",
        "      <td>NaN</td>\n",
        "      <td>NaN</td>\n",
        "      <td>NaN</td>\n",
        "      <td>NaN</td>\n",
        "      <td>NaN</td>\n",
        "      <td>NaN</td>\n",
        "      <td>NaN</td>\n",
        "      <td>NaN</td>\n",
        "      <td>NaN</td>\n",
        "      <td>NaN</td>\n",
        "      <td>NaN</td>\n",
        "      <td>NaN</td>\n",
        "      <td>NaN</td>\n",
        "      <td> 0.05</td>\n",
        "      <td>NaN</td>\n",
        "      <td>NaN</td>\n",
        "      <td>NaN</td>\n",
        "      <td>NaN</td>\n",
        "      <td>NaN</td>\n",
        "      <td> 0.05</td>\n",
        "      <td>...</td>\n",
        "    </tr>\n",
        "    <tr>\n",
        "      <th>N_CVN_02</th>\n",
        "      <td>NaN</td>\n",
        "      <td>NaN</td>\n",
        "      <td>NaN</td>\n",
        "      <td>NaN</td>\n",
        "      <td>NaN</td>\n",
        "      <td>NaN</td>\n",
        "      <td>NaN</td>\n",
        "      <td>NaN</td>\n",
        "      <td>NaN</td>\n",
        "      <td>NaN</td>\n",
        "      <td>NaN</td>\n",
        "      <td>NaN</td>\n",
        "      <td>NaN</td>\n",
        "      <td>  NaN</td>\n",
        "      <td>NaN</td>\n",
        "      <td>NaN</td>\n",
        "      <td>NaN</td>\n",
        "      <td>NaN</td>\n",
        "      <td>NaN</td>\n",
        "      <td>  NaN</td>\n",
        "      <td>...</td>\n",
        "    </tr>\n",
        "    <tr>\n",
        "      <th>N_CVN_03</th>\n",
        "      <td>NaN</td>\n",
        "      <td>NaN</td>\n",
        "      <td>NaN</td>\n",
        "      <td>NaN</td>\n",
        "      <td>NaN</td>\n",
        "      <td>NaN</td>\n",
        "      <td>NaN</td>\n",
        "      <td>NaN</td>\n",
        "      <td>NaN</td>\n",
        "      <td>NaN</td>\n",
        "      <td>NaN</td>\n",
        "      <td>NaN</td>\n",
        "      <td>NaN</td>\n",
        "      <td> 0.02</td>\n",
        "      <td>NaN</td>\n",
        "      <td>NaN</td>\n",
        "      <td>NaN</td>\n",
        "      <td>NaN</td>\n",
        "      <td>NaN</td>\n",
        "      <td>  NaN</td>\n",
        "      <td>...</td>\n",
        "    </tr>\n",
        "    <tr>\n",
        "      <th>N_CVN_04</th>\n",
        "      <td>NaN</td>\n",
        "      <td>NaN</td>\n",
        "      <td>NaN</td>\n",
        "      <td>NaN</td>\n",
        "      <td>NaN</td>\n",
        "      <td>NaN</td>\n",
        "      <td>NaN</td>\n",
        "      <td>NaN</td>\n",
        "      <td>NaN</td>\n",
        "      <td>NaN</td>\n",
        "      <td>NaN</td>\n",
        "      <td>NaN</td>\n",
        "      <td>NaN</td>\n",
        "      <td>  NaN</td>\n",
        "      <td>NaN</td>\n",
        "      <td>NaN</td>\n",
        "      <td>NaN</td>\n",
        "      <td>NaN</td>\n",
        "      <td>NaN</td>\n",
        "      <td>  NaN</td>\n",
        "      <td>...</td>\n",
        "    </tr>\n",
        "    <tr>\n",
        "      <th>N_CVN_05</th>\n",
        "      <td>NaN</td>\n",
        "      <td>NaN</td>\n",
        "      <td>NaN</td>\n",
        "      <td>NaN</td>\n",
        "      <td>NaN</td>\n",
        "      <td>NaN</td>\n",
        "      <td>NaN</td>\n",
        "      <td>NaN</td>\n",
        "      <td>NaN</td>\n",
        "      <td>NaN</td>\n",
        "      <td>NaN</td>\n",
        "      <td>NaN</td>\n",
        "      <td>NaN</td>\n",
        "      <td> 0.02</td>\n",
        "      <td>NaN</td>\n",
        "      <td>NaN</td>\n",
        "      <td>NaN</td>\n",
        "      <td>NaN</td>\n",
        "      <td>NaN</td>\n",
        "      <td>  NaN</td>\n",
        "      <td>...</td>\n",
        "    </tr>\n",
        "  </tbody>\n",
        "</table>\n",
        "<p>5 rows \u00d7 56830 columns</p>\n",
        "</div>"
       ],
       "metadata": {},
       "output_type": "pyout",
       "prompt_number": 15,
       "text": [
        "          chr10:100148111:100148265:-@chr10:100147622:100147841:-@chr10:100146958:100147064:-  \\\n",
        "N_CVN_01                                                NaN                                     \n",
        "N_CVN_02                                                NaN                                     \n",
        "N_CVN_03                                                NaN                                     \n",
        "N_CVN_04                                                NaN                                     \n",
        "N_CVN_05                                                NaN                                     \n",
        "\n",
        "          chr10:100174766:100174978:-@chr10:100174489:100174591:-@chr10:100173705:100174052:-  \\\n",
        "N_CVN_01                                                NaN                                     \n",
        "N_CVN_02                                                NaN                                     \n",
        "N_CVN_03                                                NaN                                     \n",
        "N_CVN_04                                                NaN                                     \n",
        "N_CVN_05                                                NaN                                     \n",
        "\n",
        "          chr10:100185575:100185742:-@chr10:100185441|100185477:100185298:-  \\\n",
        "N_CVN_01                                                NaN                   \n",
        "N_CVN_02                                                NaN                   \n",
        "N_CVN_03                                                NaN                   \n",
        "N_CVN_04                                                NaN                   \n",
        "N_CVN_05                                                NaN                   \n",
        "\n",
        "          chr10:100186972:100187021:-@chr10:100185575:100185742:-@chr10:100185298:100185477:-  \\\n",
        "N_CVN_01                                                NaN                                     \n",
        "N_CVN_02                                                NaN                                     \n",
        "N_CVN_03                                                NaN                                     \n",
        "N_CVN_04                                                NaN                                     \n",
        "N_CVN_05                                                NaN                                     \n",
        "\n",
        "          chr10:100190328:100190427:-@chr10:100189548:100189646:-@chr10:100189330:100189399:-  \\\n",
        "N_CVN_01                                                NaN                                     \n",
        "N_CVN_02                                                NaN                                     \n",
        "N_CVN_03                                                NaN                                     \n",
        "N_CVN_04                                                NaN                                     \n",
        "N_CVN_05                                                NaN                                     \n",
        "\n",
        "          chr10:100193697:100193848:-@chr10:100190888:100191048:-@chr10:100190328:100190427:-  \\\n",
        "N_CVN_01                                                NaN                                     \n",
        "N_CVN_02                                                NaN                                     \n",
        "N_CVN_03                                                NaN                                     \n",
        "N_CVN_04                                                NaN                                     \n",
        "N_CVN_05                                                NaN                                     \n",
        "\n",
        "          chr10:100193740:100193848:-@chr10:100190888:100191048:-@chr10:100190328:100190427:-  \\\n",
        "N_CVN_01                                                NaN                                     \n",
        "N_CVN_02                                                NaN                                     \n",
        "N_CVN_03                                                NaN                                     \n",
        "N_CVN_04                                                NaN                                     \n",
        "N_CVN_05                                                NaN                                     \n",
        "\n",
        "          chr10:100193848:100193697|100193740:-@chr10:100190328:100190427:-  \\\n",
        "N_CVN_01                                                NaN                   \n",
        "N_CVN_02                                                NaN                   \n",
        "N_CVN_03                                                NaN                   \n",
        "N_CVN_04                                                NaN                   \n",
        "N_CVN_05                                                NaN                   \n",
        "\n",
        "          chr10:100193848:100193697|100193740:-@chr10:100190888:100191048:-  \\\n",
        "N_CVN_01                                                NaN                   \n",
        "N_CVN_02                                                NaN                   \n",
        "N_CVN_03                                                NaN                   \n",
        "N_CVN_04                                                NaN                   \n",
        "N_CVN_05                                                NaN                   \n",
        "\n",
        "          chr10:100195392:100195529:-@chr10:100195029:100195171:-@chr10:100193740:100193848:-  \\\n",
        "N_CVN_01                                                NaN                                     \n",
        "N_CVN_02                                                NaN                                     \n",
        "N_CVN_03                                                NaN                                     \n",
        "N_CVN_04                                                NaN                                     \n",
        "N_CVN_05                                                NaN                                     \n",
        "\n",
        "          chr10:100206564:100206704:-@chr10:100205161|100205170:100205057:-  \\\n",
        "N_CVN_01                                                NaN                   \n",
        "N_CVN_02                                                NaN                   \n",
        "N_CVN_03                                                NaN                   \n",
        "N_CVN_04                                                NaN                   \n",
        "N_CVN_05                                                NaN                   \n",
        "\n",
        "          chr10:101124712:101124759:+@chr10:101128375:101128437:+@chr10:101136812:101136975:+  \\\n",
        "N_CVN_01                                                NaN                                     \n",
        "N_CVN_02                                                NaN                                     \n",
        "N_CVN_03                                                NaN                                     \n",
        "N_CVN_04                                                NaN                                     \n",
        "N_CVN_05                                                NaN                                     \n",
        "\n",
        "          chr10:101147577:101147760:+@chr10:101147909:101148058:+@chr10:101150063:101150164:+  \\\n",
        "N_CVN_01                                                NaN                                     \n",
        "N_CVN_02                                                NaN                                     \n",
        "N_CVN_03                                                NaN                                     \n",
        "N_CVN_04                                                NaN                                     \n",
        "N_CVN_05                                                NaN                                     \n",
        "\n",
        "          chr10:101180562:101180370|101180381:-@chr10:101166483:101166606:-  \\\n",
        "N_CVN_01                                               0.05                   \n",
        "N_CVN_02                                                NaN                   \n",
        "N_CVN_03                                               0.02                   \n",
        "N_CVN_04                                                NaN                   \n",
        "N_CVN_05                                               0.02                   \n",
        "\n",
        "          chr10:101373453:101373681:-@chr10:101372300:101372356:-@chr10:101370642:101371215:-  \\\n",
        "N_CVN_01                                                NaN                                     \n",
        "N_CVN_02                                                NaN                                     \n",
        "N_CVN_03                                                NaN                                     \n",
        "N_CVN_04                                                NaN                                     \n",
        "N_CVN_05                                                NaN                                     \n",
        "\n",
        "          chr10:101373681:101373173|101373453:-@chr10:101372300:101372356:-  \\\n",
        "N_CVN_01                                                NaN                   \n",
        "N_CVN_02                                                NaN                   \n",
        "N_CVN_03                                                NaN                   \n",
        "N_CVN_04                                                NaN                   \n",
        "N_CVN_05                                                NaN                   \n",
        "\n",
        "          chr10:101379802:101380221:-@chr10:101373173:101373681:-@chr10:101372300:101372356:-  \\\n",
        "N_CVN_01                                                NaN                                     \n",
        "N_CVN_02                                                NaN                                     \n",
        "N_CVN_03                                                NaN                                     \n",
        "N_CVN_04                                                NaN                                     \n",
        "N_CVN_05                                                NaN                                     \n",
        "\n",
        "          chr10:101379802:101380221:-@chr10:101373453:101373681:-@chr10:101372300:101372356:-  \\\n",
        "N_CVN_01                                                NaN                                     \n",
        "N_CVN_02                                                NaN                                     \n",
        "N_CVN_03                                                NaN                                     \n",
        "N_CVN_04                                                NaN                                     \n",
        "N_CVN_05                                                NaN                                     \n",
        "\n",
        "          chr10:101379802:101380221:-@chr10:101373453:101373681:-@chr10:101372300:101372356:-@chr10:101370642:101371215:-  \\\n",
        "N_CVN_01                                                NaN                                                                 \n",
        "N_CVN_02                                                NaN                                                                 \n",
        "N_CVN_03                                                NaN                                                                 \n",
        "N_CVN_04                                                NaN                                                                 \n",
        "N_CVN_05                                                NaN                                                                 \n",
        "\n",
        "          chr10:101419619:101419721:+@chr10:101420057:101420239:+@chr10:101421203:101421385:+  \\\n",
        "N_CVN_01                                               0.05                                     \n",
        "N_CVN_02                                                NaN                                     \n",
        "N_CVN_03                                                NaN                                     \n",
        "N_CVN_04                                                NaN                                     \n",
        "N_CVN_05                                                NaN                                     \n",
        "\n",
        "              \n",
        "N_CVN_01 ...  \n",
        "N_CVN_02 ...  \n",
        "N_CVN_03 ...  \n",
        "N_CVN_04 ...  \n",
        "N_CVN_05 ...  \n",
        "\n",
        "[5 rows x 56830 columns]"
       ]
      }
     ],
     "prompt_number": 15
    },
    {
     "cell_type": "markdown",
     "metadata": {
      "slideshow": {
       "slide_type": "subslide"
      }
     },
     "source": [
      "##Metadata\n",
      "<marker id=\"metadata\"/>\n",
      "<H3 align='center'> Data about data. </H3>\n",
      "<br>\n",
      "<div align='right'>This takes a few minutes the first time,<br> but will never need to be done again.</div>"
     ]
    },
    {
     "cell_type": "code",
     "collapsed": false,
     "input": [
      "metadata = pandas.DataFrame(index = expression_data.index & splicing_data.index)\n",
      "\n",
      "metadata['pooled_samples'] = False\n",
      "\n",
      "metadata['pooled_samples'].ix[['P_M2nd_33', 'P_M2nd_34', \n",
      "                              'N_CVN_17', 'N_CVN_35',\n",
      "                              'M_M2_05', 'M_M2nd_13', 'M_M2nd_21', \n",
      "                              'S_MSA_19', 'S_MSA_29']] = True"
     ],
     "language": "python",
     "metadata": {
      "slideshow": {
       "slide_type": "fragment"
      }
     },
     "outputs": [],
     "prompt_number": 16
    },
    {
     "cell_type": "markdown",
     "metadata": {
      "slideshow": {
       "slide_type": "fragment"
      }
     },
     "source": [
      "###Set sample \"phenotype.\" In this case, the phenotype is encoded in the first letter of the sample label."
     ]
    },
    {
     "cell_type": "code",
     "collapsed": false,
     "input": [
      "metadata['phenotype'] = [x[0] for x in metadata.index]"
     ],
     "language": "python",
     "metadata": {
      "slideshow": {
       "slide_type": "fragment"
      }
     },
     "outputs": [],
     "prompt_number": 17
    },
    {
     "cell_type": "markdown",
     "metadata": {
      "slideshow": {
       "slide_type": "fragment"
      }
     },
     "source": [
      "\n",
      "###Get some help to choose pleasing colors. [`Set1`](http://matplotlib.org/examples/color/colormaps_reference.html) is my favoriate color palette."
     ]
    },
    {
     "cell_type": "code",
     "collapsed": false,
     "input": [
      "seaborn = flotilla.visualize.seaborn # or import seaborn\n",
      "mpl = flotilla.visualize.generic.mpl # or import matplotlib as mpl\n",
      "palette = map(mpl.colors.rgb2hex, seaborn.color_palette('Set1'))\n",
      "seaborn.palplot(palette)"
     ],
     "language": "python",
     "metadata": {},
     "outputs": [
      {
       "metadata": {},
       "output_type": "display_data",
       "png": "[encoded data removed]",
       "text": [
        "<matplotlib.figure.Figure at 0x10d058810>"
       ]
      }
     ],
     "prompt_number": 18
    },
    {
     "cell_type": "markdown",
     "metadata": {
      "slideshow": {
       "slide_type": "fragment"
      }
     },
     "source": [
      "###Assign colors for phenotypes."
     ]
    },
    {
     "cell_type": "code",
     "collapsed": false,
     "input": [
      "color_map = {'P': palette[1], # blue\n",
      "             'N': palette[2], # green\n",
      "             'M': palette[0], # red\n",
      "             'S': palette[4]} # orange"
     ],
     "language": "python",
     "metadata": {
      "slideshow": {
       "slide_type": "fragment"
      }
     },
     "outputs": [],
     "prompt_number": 19
    },
    {
     "cell_type": "markdown",
     "metadata": {
      "slideshow": {
       "slide_type": "subslide"
      }
     },
     "source": [
      "###Create boolean columns for each phenotype, this will be useful later."
     ]
    },
    {
     "cell_type": "markdown",
     "metadata": {
      "slideshow": {
       "slide_type": "slide"
      }
     },
     "source": [
      "###Assemble data into a <code>flotilla.Study</code> object"
     ]
    },
    {
     "cell_type": "code",
     "collapsed": false,
     "input": [
      "for phenotype in ['P', 'N', 'M', 'S']:\n",
      "    metadata[phenotype + '_cell'] = metadata['phenotype'] == phenotype"
     ],
     "language": "python",
     "metadata": {},
     "outputs": [],
     "prompt_number": 20
    },
    {
     "cell_type": "code",
     "collapsed": false,
     "input": [
      "a = time()"
     ],
     "language": "python",
     "metadata": {
      "slideshow": {
       "slide_type": "skip"
      }
     },
     "outputs": [],
     "prompt_number": 21
    },
    {
     "cell_type": "code",
     "collapsed": false,
     "input": [
      "study = flotilla.Study(#study metadata\n",
      "                       sample_metadata=metadata,\n",
      "                       #a version for this study, to track changes\n",
      "                       version='0.1.0',\n",
      "                       #pandas.DataFrame with expression data, created above\n",
      "                       expression_data=expression_data, \n",
      "                       #column in study.expression.feature_data to map ensg id to symbols\n",
      "                       #(default feature_data is in flotilla_packages/<species>)\n",
      "                       expression_feature_rename_col='gene_name',\n",
      "                       #pandas.DataFrame with splicing data, created above\n",
      "                       splicing_data=splicing_data,\n",
      "                       #column in study.splicing.feature_data to map ensg id to symbols \n",
      "                       #(default feature_data is in flotilla_packages/<species>)\n",
      "                       splicing_feature_rename_col='gene_name',\n",
      "                       #pandas.DataFrame with mapping statistics, created above\n",
      "                       mapping_stats_data=mapstats_data,\n",
      "                       #column with number of mapped reads\n",
      "                       mapping_stats_number_mapped_col='Uniquely mapped reads number',\n",
      "                       #specify species. So far we've built hg19/mm10\n",
      "                       species='hg19',\n",
      "                       #specify which column of metadata holds phenotype information\n",
      "                       metadata_phenotype_col ='phenotype',\n",
      "                       #specify a dictionary mapping phenotype to colors\n",
      "                       metadata_phenotype_to_color=color_map,\n",
      "                       #specify the order which you would like samples to be plotted:\n",
      "                       metadata_phenotype_order=[\"P\", \"N\", \"M\", \"S\"],\n",
      "                       #specify a column that indicates whether a sample is pooled or single-cell\n",
      "                       metadata_pooled_col='pooled_samples',\n",
      "                       default_sample_subset='all_samples',\n",
      "                       )"
     ],
     "language": "python",
     "metadata": {
      "slideshow": {
       "slide_type": "fragment"
      }
     },
     "outputs": [
      {
       "output_type": "stream",
       "stream": "stdout",
       "text": [
        "2014-10-31 00:18:09\tInitializing Study\n",
        "2014-10-31 00:18:09\tInitializing Predictor configuration manager for Study\n",
        "2014-10-31 00:18:09\tPredictor ExtraTreesClassifier is of type <class 'sklearn.ensemble.forest.ExtraTreesClassifier'>\n",
        "2014-10-31 00:18:09\tAdded ExtraTreesClassifier to default predictors\n",
        "2014-10-31 00:18:09\tPredictor ExtraTreesRegressor is of type <class 'sklearn.ensemble.forest.ExtraTreesRegressor'>\n",
        "2014-10-31 00:18:09\tAdded ExtraTreesRegressor to default predictors\n",
        "2014-10-31 00:18:09\tPredictor GradientBoostingClassifier is of type <class 'sklearn.ensemble.gradient_boosting.GradientBoostingClassifier'>\n",
        "2014-10-31 00:18:09\tAdded GradientBoostingClassifier to default predictors\n",
        "2014-10-31 00:18:09\tPredictor GradientBoostingRegressor is of type <class 'sklearn.ensemble.gradient_boosting.GradientBoostingRegressor'>\n",
        "2014-10-31 00:18:09\tAdded GradientBoostingRegressor to default predictors\n",
        "2014-10-31 00:18:09\tLoading metadata\n",
        "2014-10-31 00:18:09\tLoading species metadata from ~/flotilla_packages\n",
        "2014-10-31 00:18:31\tLoading expression data\n"
       ]
      },
      {
       "output_type": "stream",
       "stream": "stdout",
       "text": [
        "2014-10-31 00:18:31\tInitializing expression\n",
        "2014-10-31 00:18:31\tDone initializing expression\n"
       ]
      },
      {
       "output_type": "stream",
       "stream": "stdout",
       "text": [
        "2014-10-31 00:18:34\tLoading splicing data\n",
        "2014-10-31 00:18:34\tInitializing splicing\n",
        "2014-10-31 00:18:34\tDone initializing splicing\n"
       ]
      },
      {
       "output_type": "stream",
       "stream": "stdout",
       "text": [
        "2014-10-31 00:18:34\tSuccessfully initialized a Study object!\n"
       ]
      },
      {
       "output_type": "stream",
       "stream": "stderr",
       "text": [
        "No phenotype to marker (matplotlib plotting symbol) was provided, so each phenotype will be plotted as a circle in the PCA visualizations.\n"
       ]
      }
     ],
     "prompt_number": 22
    },
    {
     "cell_type": "code",
     "collapsed": false,
     "input": [
      "b = time()\n",
      "print \"This operation took {:.1f} seconds.\".format(b - a)"
     ],
     "language": "python",
     "metadata": {
      "slideshow": {
       "slide_type": "skip"
      }
     },
     "outputs": [
      {
       "output_type": "stream",
       "stream": "stdout",
       "text": [
        "This operation took 25.6 seconds.\n"
       ]
      }
     ],
     "prompt_number": 23
    },
    {
     "cell_type": "markdown",
     "metadata": {
      "slideshow": {
       "slide_type": "subslide"
      }
     },
     "source": [
      "##Save data and metadata\n",
      "<br>\n",
      "<div align='center'><H3>To be loaded in other notebooks for analysis.</H3></div>"
     ]
    },
    {
     "cell_type": "code",
     "collapsed": false,
     "input": [
      "a = time()"
     ],
     "language": "python",
     "metadata": {
      "slideshow": {
       "slide_type": "skip"
      }
     },
     "outputs": [],
     "prompt_number": 24
    },
    {
     "cell_type": "code",
     "collapsed": false,
     "input": [
      "study.save('neural_diff_demo')"
     ],
     "language": "python",
     "metadata": {
      "slideshow": {
       "slide_type": "fragment"
      }
     },
     "outputs": [
      {
       "output_type": "stream",
       "stream": "stdout",
       "text": [
        "Wrote datapackage to /Users/lovci/flotilla_projects/neural_diff_demo/datapackage.json"
       ]
      }
     ],
     "prompt_number": 25
    },
    {
     "cell_type": "code",
     "collapsed": false,
     "input": [
      "b = time()\n",
      "print \"This operation took {:.1f} seconds.\".format(b - a)"
     ],
     "language": "python",
     "metadata": {
      "slideshow": {
       "slide_type": "skip"
      }
     },
     "outputs": [
      {
       "output_type": "stream",
       "stream": "stdout",
       "text": [
        "This operation took 100.8 seconds.\n"
       ]
      }
     ],
     "prompt_number": 26
    },
    {
     "cell_type": "code",
     "collapsed": false,
     "input": [
      "finish_time = time()\n",
      "total_time = finish_time - start_time"
     ],
     "language": "python",
     "metadata": {
      "slideshow": {
       "slide_type": "skip"
      }
     },
     "outputs": [],
     "prompt_number": 27
    },
    {
     "cell_type": "markdown",
     "metadata": {
      "slideshow": {
       "slide_type": "slide"
      }
     },
     "source": [
      "##Summary"
     ]
    },
    {
     "cell_type": "markdown",
     "metadata": {
      "slideshow": {
       "slide_type": "fragment"
      }
     },
     "source": [
      "  * Loaded data from multiple sources into a `flotilla.Study` object.\n",
      "  <br>\n",
      "  <br>\n",
      "  * The `Study` object contains mapping data, expression data, splicing data, sample metadata and feature (gene/splicing event) metadata.\n",
      "  <br>\n",
      "  <br>\n",
      "  * This ensures that data will be identical across multiple notebooks where analysis might be performed.\n",
      "  <br>\n",
      "  <br>\n",
      "  * This puts the data in one place, to be shared easily _(AWS?)_."
     ]
    },
    {
     "cell_type": "markdown",
     "metadata": {
      "slideshow": {
       "slide_type": "subslide"
      }
     },
     "source": [
      "##Next steps\n",
      "<br>\n",
      "Now, continue to the [Dimensionality Reduction](2_Dimensionality%20Reduction.ipynb) notebook."
     ]
    },
    {
     "cell_type": "code",
     "collapsed": false,
     "input": [
      "print \"This notebook took {:.1f} seconds to run.\".format(total_time)"
     ],
     "language": "python",
     "metadata": {
      "slideshow": {
       "slide_type": "skip"
      }
     },
     "outputs": [
      {
       "output_type": "stream",
       "stream": "stdout",
       "text": [
        "This notebook took 155.6 seconds to run.\n"
       ]
      }
     ],
     "prompt_number": 28
    }
   ],
   "metadata": {}
  }
 ]
}