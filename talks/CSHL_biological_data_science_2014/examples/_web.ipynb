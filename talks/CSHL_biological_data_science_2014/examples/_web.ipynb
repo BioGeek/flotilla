{
 "metadata": {
  "name": "",
  "signature": "sha256:d35d32da87147abc3729ab8b513c45f1b4e9c534af7178e70a1e53807b25ec03"
 },
 "nbformat": 3,
 "nbformat_minor": 0,
 "worksheets": [
  {
   "cells": [
    {
     "cell_type": "markdown",
     "metadata": {},
     "source": [
      "#Sources for images in other notebooks"
     ]
    },
    {
     "cell_type": "code",
     "collapsed": false,
     "input": [
      "!curl http://media.utsandiego.com/img/brightcove/2014/03/04/15364600001_3292694914001_video-still-for-video-3293005666001_r620x349.jpg?75d51d0aea2efce5189afce216053cbc530c46a8 > ../img/craig1.jpg\n"
     ],
     "language": "python",
     "metadata": {},
     "outputs": []
    },
    {
     "cell_type": "code",
     "collapsed": false,
     "input": [
      "!curl http://media.syracuse.com/news/photo/2011/03/9419902-large.jpg > ../img/craig2.jpg    "
     ],
     "language": "python",
     "metadata": {},
     "outputs": []
    }
   ],
   "metadata": {}
  }
 ]
}