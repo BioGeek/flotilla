{
 "metadata": {
  "celltoolbar": "Slideshow",
  "name": "",
  "signature": "sha256:07821be421a2e23e1b15fe1a68f58266d7965a1ff07699b324603c1dd092d2c0"
 },
 "nbformat": 3,
 "nbformat_minor": 0,
 "worksheets": [
  {
   "cells": [
    {
     "cell_type": "markdown",
     "metadata": {
      "slideshow": {
       "slide_type": "slide"
      }
     },
     "source": [
      "##In this notebook:\n",
      "\n",
      "###Fit a classifier on interesting sample labels. Learn important features for the classifier."
     ]
    },
    {
     "cell_type": "code",
     "collapsed": false,
     "input": [
      "import css_styling"
     ],
     "language": "python",
     "metadata": {
      "slideshow": {
       "slide_type": "skip"
      }
     },
     "outputs": [
      {
       "html": [
        "<link rel=\"stylesheet\" href=\"http://bootswatch.com/paper/bootstrap.css\">"
       ],
       "metadata": {},
       "output_type": "display_data",
       "text": [
        "<IPython.core.display.HTML at 0x101e7b250>"
       ]
      }
     ],
     "prompt_number": 1
    },
    {
     "cell_type": "code",
     "collapsed": false,
     "input": [
      "import flotilla"
     ],
     "language": "python",
     "metadata": {
      "slideshow": {
       "slide_type": "fragment"
      }
     },
     "outputs": [],
     "prompt_number": 2
    },
    {
     "cell_type": "code",
     "collapsed": false,
     "input": [
      "flotilla.embark(\"neural_diff_demo\")"
     ],
     "language": "python",
     "metadata": {
      "slideshow": {
       "slide_type": "fragment"
      }
     },
     "outputs": [
      {
       "output_type": "stream",
       "stream": "stdout",
       "text": [
        "2014-10-31 12:08:53\tReading datapackage from /Users/lovci/flotilla_projects/neural_diff_demo/datapackage.json\n",
        "2014-10-31 12:08:53\tParsing datapackage to create a Study object\n",
        "2014-10-31 12:09:42\tInitializing Study\n"
       ]
      },
      {
       "output_type": "stream",
       "stream": "stdout",
       "text": [
        "2014-10-31 12:09:42\tInitializing Predictor configuration manager for Study\n",
        "2014-10-31 12:09:42\tPredictor ExtraTreesClassifier is of type <class 'sklearn.ensemble.forest.ExtraTreesClassifier'>\n",
        "2014-10-31 12:09:42\tAdded ExtraTreesClassifier to default predictors\n",
        "2014-10-31 12:09:42\tPredictor ExtraTreesRegressor is of type <class 'sklearn.ensemble.forest.ExtraTreesRegressor'>\n",
        "2014-10-31 12:09:42\tAdded ExtraTreesRegressor to default predictors\n",
        "2014-10-31 12:09:42\tPredictor GradientBoostingClassifier is of type <class 'sklearn.ensemble.gradient_boosting.GradientBoostingClassifier'>\n",
        "2014-10-31 12:09:42\tAdded GradientBoostingClassifier to default predictors\n",
        "2014-10-31 12:09:42\tPredictor GradientBoostingRegressor is of type <class 'sklearn.ensemble.gradient_boosting.GradientBoostingRegressor'>\n",
        "2014-10-31 12:09:42\tAdded GradientBoostingRegressor to default predictors\n",
        "2014-10-31 12:09:42\tLoading metadata\n",
        "2014-10-31 12:09:42\tLoading species metadata from ~/flotilla_packages\n",
        "2014-10-31 12:10:02\tLoading expression data\n"
       ]
      },
      {
       "output_type": "stream",
       "stream": "stdout",
       "text": [
        "2014-10-31 12:10:02\tInitializing expression\n",
        "2014-10-31 12:10:03\tDone initializing expression\n"
       ]
      },
      {
       "output_type": "stream",
       "stream": "stderr",
       "text": [
        "Removing technical outliers from consideration in expression:\n",
        "\tM_M2nd_23\n",
        "\tM_M2nd_30\n",
        "\tM_M2nd_31\n",
        "\tM_M2nd_32\n",
        "\tM_M3_10\n",
        "\tP_P4_2\n",
        "\tP_P8_12\n",
        "\tP_P8_3\n",
        "\tP_P8_4\n",
        "\tP_P8_7\n",
        "\tP_P8_8\n",
        "\tP_P8_9\n",
        "\tS_MSA_25\n",
        "Removing technical outliers from consideration in splicing:\n",
        "\tM_M2nd_23\n",
        "\tM_M2nd_30\n",
        "\tM_M2nd_31\n",
        "\tM_M2nd_32\n",
        "\tM_M3_10\n",
        "\tP_P4_2\n",
        "\tP_P8_12\n",
        "\tP_P8_3\n",
        "\tP_P8_4\n",
        "\tP_P8_7\n",
        "\tP_P8_8\n",
        "\tP_P8_9\n",
        "\tS_MSA_25\n"
       ]
      },
      {
       "output_type": "stream",
       "stream": "stdout",
       "text": [
        "2014-10-31 12:10:04\tLoading splicing data\n",
        "2014-10-31 12:10:04\tInitializing splicing\n",
        "2014-10-31 12:10:04\tDone initializing splicing\n"
       ]
      },
      {
       "output_type": "stream",
       "stream": "stdout",
       "text": [
        "2014-10-31 12:10:04\tSuccessfully initialized a Study object!\n"
       ]
      },
      {
       "metadata": {},
       "output_type": "pyout",
       "prompt_number": 3,
       "text": [
        "<flotilla.data_model.study.Study at 0x1143b2b90>"
       ]
      }
     ],
     "prompt_number": 3
    },
    {
     "cell_type": "code",
     "collapsed": false,
     "input": [
      "study.interactive_classifier()"
     ],
     "language": "python",
     "metadata": {
      "slideshow": {
       "slide_type": "fragment"
      }
     },
     "outputs": []
    }
   ],
   "metadata": {}
  }
 ]
}