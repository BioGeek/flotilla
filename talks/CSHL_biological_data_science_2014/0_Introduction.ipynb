{
 "metadata": {
  "celltoolbar": "Slideshow",
  "name": "",
  "signature": "sha256:f240f2bf4ee8da7099715e1d18950f056879120974d68181b1d90bb011de89de"
 },
 "nbformat": 3,
 "nbformat_minor": 0,
 "worksheets": [
  {
   "cells": [
    {
     "cell_type": "markdown",
     "metadata": {
      "slideshow": {
       "slide_type": "slide"
      }
     },
     "source": [
      "\n",
      "<div align='center'><img src=\"img/flotilla-logo.png\" width=310 ></div>\n",
      "<br>\n",
      "\n",
      "<H1 align='center'><b><code><font color=\"00628B\">flotilla</font></code> \u2014 An open-source toolkit for single-cell RNA-seq data analysis</b></H1>\n",
      "\n",
      "<H2 align='center'>2014 CSHL Biological Data Science Meeting</H2>\n",
      "<H2 align='center'>Michael T Lovci Ph.D.</H2>\n",
      "<br>\n",
      "\n",
      "<div align='center'><img src=\"img/yeolab_art.png\" height=250  width=230/></div>\n",
      "\n",
      "<H3 align='right'>@YeoLab</H3>\n"
     ]
    },
    {
     "cell_type": "code",
     "collapsed": false,
     "input": [
      "import css_styling"
     ],
     "language": "python",
     "metadata": {
      "slideshow": {
       "slide_type": "skip"
      }
     },
     "outputs": [
      {
       "html": [
        "<link rel=\"stylesheet\" href=\"http://bootswatch.com/paper/bootstrap.css\">"
       ],
       "metadata": {},
       "output_type": "display_data",
       "text": [
        "<IPython.core.display.HTML at 0x101e6f990>"
       ]
      }
     ],
     "prompt_number": 1
    },
    {
     "cell_type": "markdown",
     "metadata": {
      "slideshow": {
       "slide_type": "slide"
      }
     },
     "source": [
      "#Outline\n",
      "\n",
      "  * Goals of `flotilla`\n",
      "\n",
      "  * Create a new `flotilla.Study`\n",
      "\n",
      "  * Test-drive  \n",
      "\n",
      "  * Future work\n",
      "  "
     ]
    },
    {
     "cell_type": "markdown",
     "metadata": {
      "slideshow": {
       "slide_type": "slide"
      }
     },
     "source": [
      "<H1 align='center'>Bioinformatics is not the problem.</H1>"
     ]
    },
    {
     "cell_type": "markdown",
     "metadata": {
      "slideshow": {
       "slide_type": "slide"
      }
     },
     "source": [
      "# Goals\n",
      "<br>\n",
      "\n",
      "<H2>Data-driven conversations about _biology_</H2>"
     ]
    },
    {
     "cell_type": "markdown",
     "metadata": {
      "slideshow": {
       "slide_type": "fragment"
      }
     },
     "source": [
      " * interactive data exploration "
     ]
    },
    {
     "cell_type": "markdown",
     "metadata": {
      "slideshow": {
       "slide_type": "fragment"
      }
     },
     "source": [
      " * reduce the time from idea to answers"
     ]
    },
    {
     "cell_type": "markdown",
     "metadata": {
      "slideshow": {
       "slide_type": "fragment"
      }
     },
     "source": [
      " * \"let biologists do biology\" "
     ]
    },
    {
     "cell_type": "markdown",
     "metadata": {
      "slideshow": {
       "slide_type": "fragment"
      }
     },
     "source": [
      " * reproducibility"
     ]
    },
    {
     "cell_type": "markdown",
     "metadata": {
      "slideshow": {
       "slide_type": "fragment"
      }
     },
     "source": [
      " * transparency"
     ]
    },
    {
     "cell_type": "markdown",
     "metadata": {
      "slideshow": {
       "slide_type": "fragment"
      }
     },
     "source": [
      " * fight data senescence (genomics data have long-term value)"
     ]
    },
    {
     "cell_type": "markdown",
     "metadata": {
      "slideshow": {
       "slide_type": "slide"
      }
     },
     "source": [
      "##Applications"
     ]
    },
    {
     "cell_type": "markdown",
     "metadata": {
      "slideshow": {
       "slide_type": "fragment"
      }
     },
     "source": [
      "  * Live-coding in meetings\n",
      "  \n",
      "  * Data sharing\n",
      "  \n",
      "  * Replication in multiple computation environments."
     ]
    },
    {
     "cell_type": "markdown",
     "metadata": {
      "slideshow": {
       "slide_type": "slide"
      }
     },
     "source": [
      "## How to get `flotilla`\n",
      "\n",
      "There are several routes to obtaining `flotilla`.\n",
      "<br>\n",
      "<br>\n",
      "Depending on your interests pursue the following:"
     ]
    },
    {
     "cell_type": "markdown",
     "metadata": {
      "slideshow": {
       "slide_type": "subslide"
      }
     },
     "source": [
      "###Docker Hub\n",
      "<img src='img/docker_logo.png' align='left' width=220> \n",
      "<br>\n",
      "<br>\n",
      "<br>\n",
      "<br>\n",
      "The `docker` Virtual Machine is re-built on <a href=\"http://hub.docker.com\">Docker Hub</a> with every change to `flotilla`. Use `-v` to mount host directories in the VM for read/write.\n",
      "\n",
      "<code><font color=\"000000\">\n",
      "    docker run -v ${HOME}/flotilla_projects:/root/flotilla_projects \\\n",
      "               -v ${HOME}/flotilla_notebooks:/root/home/ipython \\\n",
      "               -it -P -p 8888:8888 \\\n",
      "               mlovci/flotilla:latest\n",
      "</font></code>\n",
      "\n",
      "\n",
      " ( or `mlovci/flotilla:dev`)\n",
      " "
     ]
    },
    {
     "cell_type": "markdown",
     "metadata": {
      "slideshow": {
       "slide_type": "subslide"
      }
     },
     "source": [
      "###PyPI\n",
      "\n",
      "<img src='img/python-logo.png' align='left' width=200> <br>\n",
      "<br>\n",
      "<br>\n",
      "<br>\n",
      "\n",
      "PyPI is updated with every versioned release of `flotilla`\n",
      "\n",
      "\n",
      "<code><font color=\"000000\">\n",
      "    pip install flotilla\n",
      "</code></font>"
     ]
    },
    {
     "cell_type": "markdown",
     "metadata": {
      "slideshow": {
       "slide_type": "subslide"
      }
     },
     "source": [
      "###GitHub\n",
      "<br>\n",
      "<img src='img/labtocat.png' align='left' width=150> \n",
      "<br>\n",
      "<br>\n",
      "<br>\n",
      "<br>\n",
      "<br>\n",
      "<br>\n",
      "<br>\n",
      "<br>\n",
      "<br>\n",
      "<br>\n",
      "\n",
      "New features are available here, community interaction (request new features, watch our progress), report bugs (of course there are none), contribute new features, browse code.\n",
      "<br>\n",
      "<br>\n",
      "<code><font color=\"000000\">\n",
      "    git clone https://github.com/YeoLab/flotilla.git\n",
      "    cd flotilla\n",
      "    pip install .\n",
      "</font></code>"
     ]
    },
    {
     "cell_type": "markdown",
     "metadata": {
      "slideshow": {
       "slide_type": "slide"
      }
     },
     "source": [
      "Now, proceed to the [examples](examples/) for demonstrations.\n",
      "\n",
      " 1. [Create A New Study](examples/1_Create%20A%20New%20Study.ipynb)\n",
      " \n",
      " 3. [Dimensionality Reduction](examples/2_Dimensionality%20Reduction.ipynb)\n",
      "\n",
      " 3. [Classification/Feature Selection](examples/3_Classification.ipynb)\n",
      "\n",
      " 4. [Perform Outlier Detection](examples/4_Outlier%20Detection.ipynb)\n",
      " "
     ]
    }
   ],
   "metadata": {}
  }
 ]
}