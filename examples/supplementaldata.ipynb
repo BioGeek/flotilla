{
 "metadata": {
  "name": "",
  "signature": "sha256:002384ba46548fc44c25619e666c4a00c25a9edd0412d1360d3300fb3075e169"
 },
 "nbformat": 3,
 "nbformat_minor": 0,
 "worksheets": [
  {
   "cells": [
    {
     "cell_type": "heading",
     "level": 1,
     "metadata": {},
     "source": [
      "Storing supplemental data on `Study` objects"
     ]
    },
    {
     "cell_type": "markdown",
     "metadata": {},
     "source": [
      "A recently added feature is the ability to store any arbitrary pandas dataframe on `study.supplemental`, and this will get re-loaded every time you `embark` on that datapackage. Let's start with the batch-corrected [BrainSpan](http://www.brainspan.org/) Allen Brain Institute's Brain Atlas data."
     ]
    },
    {
     "cell_type": "code",
     "collapsed": false,
     "input": [
      "import flotilla\n",
      "study = flotilla.embark(flotilla._brainspan)"
     ],
     "language": "python",
     "metadata": {},
     "outputs": [
      {
       "output_type": "stream",
       "stream": "stdout",
       "text": [
        "2015-03-16 15:56:43\tParsing datapackage to create a Study object\n",
        "2015-03-16 15:56:48\tInitializing Study\n"
       ]
      },
      {
       "output_type": "stream",
       "stream": "stdout",
       "text": [
        "2015-03-16 15:56:48\tInitializing Predictor configuration manager for Study\n",
        "2015-03-16 15:56:48\tPredictor ExtraTreesClassifier is of type <class 'sklearn.ensemble.forest.ExtraTreesClassifier'>\n",
        "2015-03-16 15:56:48\tAdded ExtraTreesClassifier to default predictors\n",
        "2015-03-16 15:56:48\tPredictor ExtraTreesRegressor is of type <class 'sklearn.ensemble.forest.ExtraTreesRegressor'>\n",
        "2015-03-16 15:56:48\tAdded ExtraTreesRegressor to default predictors\n",
        "2015-03-16 15:56:48\tPredictor GradientBoostingClassifier is of type <class 'sklearn.ensemble.gradient_boosting.GradientBoostingClassifier'>\n",
        "2015-03-16 15:56:48\tAdded GradientBoostingClassifier to default predictors\n",
        "2015-03-16 15:56:48\tPredictor GradientBoostingRegressor is of type <class 'sklearn.ensemble.gradient_boosting.GradientBoostingRegressor'>\n",
        "2015-03-16 15:56:48\tAdded GradientBoostingRegressor to default predictors\n",
        "2015-03-16 15:56:48\tLoading metadata\n",
        "2015-03-16 15:56:49\tLoading expression data\n"
       ]
      },
      {
       "output_type": "stream",
       "stream": "stdout",
       "text": [
        "2015-03-16 15:56:49\tInitializing expression\n",
        "2015-03-16 15:56:49\tDone initializing expression\n"
       ]
      },
      {
       "output_type": "stream",
       "stream": "stdout",
       "text": [
        "2015-03-16 15:56:49\tSuccessfully initialized a Study object!\n"
       ]
      }
     ],
     "prompt_number": 6
    },
    {
     "cell_type": "markdown",
     "metadata": {},
     "source": [
      "Let's take a look at how big this expression matrix is."
     ]
    },
    {
     "cell_type": "code",
     "collapsed": false,
     "input": [
      "study.expression.data.shape"
     ],
     "language": "python",
     "metadata": {},
     "outputs": [
      {
       "metadata": {},
       "output_type": "pyout",
       "prompt_number": 7,
       "text": [
        "(519, 14321)"
       ]
      }
     ],
     "prompt_number": 7
    },
    {
     "cell_type": "markdown",
     "metadata": {},
     "source": [
      "Yikes, 14,321 features is a lot! Let's subset on just the most variant genes. By default, this is the genes whose variance is two standard deviations away from the mean variance of all genes."
     ]
    },
    {
     "cell_type": "code",
     "collapsed": false,
     "input": [
      "variant_ids = study.expression.feature_subsets['variant']\n",
      "variant_expression = study.expression.data.ix[:, variant_ids]\n",
      "variant_expression.shape"
     ],
     "language": "python",
     "metadata": {},
     "outputs": [
      {
       "metadata": {},
       "output_type": "pyout",
       "prompt_number": 8,
       "text": [
        "(519, 564)"
       ]
      }
     ],
     "prompt_number": 8
    },
    {
     "cell_type": "markdown",
     "metadata": {},
     "source": [
      "564 features isn't so bad. Let's correlate all features to each other in this subset."
     ]
    },
    {
     "cell_type": "code",
     "collapsed": false,
     "input": [
      "%%time\n",
      "variant_expression_corr = variant_expression.corr()\n",
      "variant_expression_corr.head()"
     ],
     "language": "python",
     "metadata": {},
     "outputs": [
      {
       "output_type": "stream",
       "stream": "stdout",
       "text": [
        "CPU times: user 315 ms, sys: 3.16 ms, total: 318 ms\n",
        "Wall time: 317 ms\n"
       ]
      }
     ],
     "prompt_number": 9
    },
    {
     "cell_type": "markdown",
     "metadata": {},
     "source": [
      "That didn't take *too* long, but I'm sure you can imagine it would take a really long time for ALL genes!\n",
      "\n",
      "Now let's assign this to the `study.supplemental` object with a name of our choice. To keep things simple, I'm gonna give it the same name."
     ]
    },
    {
     "cell_type": "code",
     "collapsed": false,
     "input": [
      "study.supplemental.variant_expression_corr = variant_expression_corr"
     ],
     "language": "python",
     "metadata": {},
     "outputs": [],
     "prompt_number": 10
    },
    {
     "cell_type": "markdown",
     "metadata": {},
     "source": [
      "Now let's save the object and re-`embark` to make sure it's there."
     ]
    },
    {
     "cell_type": "code",
     "collapsed": false,
     "input": [
      "study.save('brainspan2')\n",
      "study2 = flotilla.embark('brainspan2')"
     ],
     "language": "python",
     "metadata": {},
     "outputs": [
      {
       "output_type": "stream",
       "stream": "stdout",
       "text": [
        "Wrote datapackage to /Users/olga/flotilla_projects/brainspan2/datapackage.json\n",
        "2015-03-16 15:57:43\tReading datapackage from /Users/olga/flotilla_projects/brainspan2/datapackage.json\n",
        "2015-03-16 15:57:43\tParsing datapackage to create a Study object\n",
        "2015-03-16 15:57:49\tInitializing Study\n"
       ]
      },
      {
       "output_type": "stream",
       "stream": "stdout",
       "text": [
        "2015-03-16 15:57:49\tInitializing Predictor configuration manager for Study\n",
        "2015-03-16 15:57:49\tPredictor ExtraTreesClassifier is of type <class 'sklearn.ensemble.forest.ExtraTreesClassifier'>\n",
        "2015-03-16 15:57:49\tAdded ExtraTreesClassifier to default predictors\n",
        "2015-03-16 15:57:49\tPredictor ExtraTreesRegressor is of type <class 'sklearn.ensemble.forest.ExtraTreesRegressor'>\n",
        "2015-03-16 15:57:49\tAdded ExtraTreesRegressor to default predictors\n",
        "2015-03-16 15:57:49\tPredictor GradientBoostingClassifier is of type <class 'sklearn.ensemble.gradient_boosting.GradientBoostingClassifier'>\n",
        "2015-03-16 15:57:49\tAdded GradientBoostingClassifier to default predictors\n",
        "2015-03-16 15:57:49\tPredictor GradientBoostingRegressor is of type <class 'sklearn.ensemble.gradient_boosting.GradientBoostingRegressor'>\n",
        "2015-03-16 15:57:49\tAdded GradientBoostingRegressor to default predictors\n",
        "2015-03-16 15:57:49\tLoading metadata\n",
        "2015-03-16 15:57:49\tLoading expression data\n"
       ]
      },
      {
       "output_type": "stream",
       "stream": "stdout",
       "text": [
        "2015-03-16 15:57:49\tInitializing expression\n",
        "2015-03-16 15:57:49\tDone initializing expression\n"
       ]
      },
      {
       "output_type": "stream",
       "stream": "stdout",
       "text": [
        "2015-03-16 15:57:50\tSuccessfully initialized a Study object!\n"
       ]
      }
     ],
     "prompt_number": 11
    },
    {
     "cell_type": "markdown",
     "metadata": {},
     "source": [
      "Let's make sure our `variant_expression_corr` dataframe is really there."
     ]
    },
    {
     "cell_type": "code",
     "collapsed": false,
     "input": [
      "study2.supplemental.variant_expression_corr.head()"
     ],
     "language": "python",
     "metadata": {},
     "outputs": [
      {
       "html": [
        "<div style=\"max-height:1000px;max-width:1500px;overflow:auto;\">\n",
        "<table border=\"1\" class=\"dataframe\">\n",
        "  <thead>\n",
        "    <tr style=\"text-align: right;\">\n",
        "      <th></th>\n",
        "      <th>ENSG00000003137</th>\n",
        "      <th>ENSG00000004848</th>\n",
        "      <th>ENSG00000006016</th>\n",
        "      <th>ENSG00000006116</th>\n",
        "      <th>ENSG00000006128</th>\n",
        "      <th>ENSG00000006377</th>\n",
        "      <th>ENSG00000007350</th>\n",
        "      <th>ENSG00000016082</th>\n",
        "      <th>ENSG00000041353</th>\n",
        "      <th>ENSG00000041982</th>\n",
        "      <th>...</th>\n",
        "      <th>ENSG00000258283</th>\n",
        "      <th>ENSG00000258403</th>\n",
        "      <th>ENSG00000258444</th>\n",
        "      <th>ENSG00000258518</th>\n",
        "      <th>ENSG00000258752</th>\n",
        "      <th>ENSG00000259190</th>\n",
        "      <th>ENSG00000259279</th>\n",
        "      <th>ENSG00000259373</th>\n",
        "      <th>ENSG00000259410</th>\n",
        "      <th>ENSG00000259603</th>\n",
        "    </tr>\n",
        "  </thead>\n",
        "  <tbody>\n",
        "    <tr>\n",
        "      <th>ENSG00000003137</th>\n",
        "      <td> 1.000000</td>\n",
        "      <td>-0.083809</td>\n",
        "      <td> 0.119793</td>\n",
        "      <td> 0.076050</td>\n",
        "      <td>-0.035254</td>\n",
        "      <td>-0.170881</td>\n",
        "      <td> 0.078876</td>\n",
        "      <td>-0.164944</td>\n",
        "      <td>-0.102906</td>\n",
        "      <td>-0.021128</td>\n",
        "      <td>...</td>\n",
        "      <td>-0.214898</td>\n",
        "      <td> 0.018936</td>\n",
        "      <td>-0.108965</td>\n",
        "      <td>-0.366995</td>\n",
        "      <td>-0.136422</td>\n",
        "      <td> 0.282414</td>\n",
        "      <td> 0.163946</td>\n",
        "      <td> 0.487711</td>\n",
        "      <td> 0.483485</td>\n",
        "      <td> 0.088631</td>\n",
        "    </tr>\n",
        "    <tr>\n",
        "      <th>ENSG00000004848</th>\n",
        "      <td>-0.083809</td>\n",
        "      <td> 1.000000</td>\n",
        "      <td> 0.535174</td>\n",
        "      <td> 0.658786</td>\n",
        "      <td> 0.481359</td>\n",
        "      <td> 0.670307</td>\n",
        "      <td> 0.109242</td>\n",
        "      <td> 0.187309</td>\n",
        "      <td> 0.378170</td>\n",
        "      <td>-0.033828</td>\n",
        "      <td>...</td>\n",
        "      <td> 0.671103</td>\n",
        "      <td> 0.313143</td>\n",
        "      <td>-0.001566</td>\n",
        "      <td>-0.500766</td>\n",
        "      <td>-0.091005</td>\n",
        "      <td>-0.174027</td>\n",
        "      <td> 0.139083</td>\n",
        "      <td>-0.659290</td>\n",
        "      <td>-0.580665</td>\n",
        "      <td>-0.653537</td>\n",
        "    </tr>\n",
        "    <tr>\n",
        "      <th>ENSG00000006016</th>\n",
        "      <td> 0.119793</td>\n",
        "      <td> 0.535174</td>\n",
        "      <td> 1.000000</td>\n",
        "      <td> 0.622833</td>\n",
        "      <td> 0.582943</td>\n",
        "      <td> 0.415254</td>\n",
        "      <td> 0.041606</td>\n",
        "      <td> 0.102551</td>\n",
        "      <td> 0.418882</td>\n",
        "      <td> 0.051724</td>\n",
        "      <td>...</td>\n",
        "      <td> 0.637911</td>\n",
        "      <td> 0.300402</td>\n",
        "      <td> 0.243334</td>\n",
        "      <td>-0.345219</td>\n",
        "      <td> 0.053212</td>\n",
        "      <td>-0.279398</td>\n",
        "      <td> 0.069264</td>\n",
        "      <td>-0.309780</td>\n",
        "      <td>-0.303773</td>\n",
        "      <td>-0.267244</td>\n",
        "    </tr>\n",
        "    <tr>\n",
        "      <th>ENSG00000006116</th>\n",
        "      <td> 0.076050</td>\n",
        "      <td> 0.658786</td>\n",
        "      <td> 0.622833</td>\n",
        "      <td> 1.000000</td>\n",
        "      <td> 0.471186</td>\n",
        "      <td> 0.391800</td>\n",
        "      <td>-0.131698</td>\n",
        "      <td>-0.074954</td>\n",
        "      <td> 0.424003</td>\n",
        "      <td>-0.297513</td>\n",
        "      <td>...</td>\n",
        "      <td> 0.673116</td>\n",
        "      <td> 0.533787</td>\n",
        "      <td>-0.056825</td>\n",
        "      <td>-0.572178</td>\n",
        "      <td>-0.211297</td>\n",
        "      <td> 0.022135</td>\n",
        "      <td> 0.242858</td>\n",
        "      <td>-0.479994</td>\n",
        "      <td>-0.401955</td>\n",
        "      <td>-0.614655</td>\n",
        "    </tr>\n",
        "    <tr>\n",
        "      <th>ENSG00000006128</th>\n",
        "      <td>-0.035254</td>\n",
        "      <td> 0.481359</td>\n",
        "      <td> 0.582943</td>\n",
        "      <td> 0.471186</td>\n",
        "      <td> 1.000000</td>\n",
        "      <td> 0.690821</td>\n",
        "      <td>-0.054401</td>\n",
        "      <td> 0.427592</td>\n",
        "      <td> 0.575299</td>\n",
        "      <td> 0.115128</td>\n",
        "      <td>...</td>\n",
        "      <td> 0.688362</td>\n",
        "      <td> 0.404930</td>\n",
        "      <td> 0.292495</td>\n",
        "      <td>-0.190202</td>\n",
        "      <td> 0.151798</td>\n",
        "      <td>-0.423034</td>\n",
        "      <td>-0.093961</td>\n",
        "      <td>-0.293967</td>\n",
        "      <td>-0.312149</td>\n",
        "      <td>-0.171620</td>\n",
        "    </tr>\n",
        "  </tbody>\n",
        "</table>\n",
        "<p>5 rows \u00d7 564 columns</p>\n",
        "</div>"
       ],
       "metadata": {},
       "output_type": "pyout",
       "prompt_number": 12,
       "text": [
        "                 ENSG00000003137  ENSG00000004848  ENSG00000006016  \\\n",
        "ENSG00000003137         1.000000        -0.083809         0.119793   \n",
        "ENSG00000004848        -0.083809         1.000000         0.535174   \n",
        "ENSG00000006016         0.119793         0.535174         1.000000   \n",
        "ENSG00000006116         0.076050         0.658786         0.622833   \n",
        "ENSG00000006128        -0.035254         0.481359         0.582943   \n",
        "\n",
        "                 ENSG00000006116  ENSG00000006128  ENSG00000006377  \\\n",
        "ENSG00000003137         0.076050        -0.035254        -0.170881   \n",
        "ENSG00000004848         0.658786         0.481359         0.670307   \n",
        "ENSG00000006016         0.622833         0.582943         0.415254   \n",
        "ENSG00000006116         1.000000         0.471186         0.391800   \n",
        "ENSG00000006128         0.471186         1.000000         0.690821   \n",
        "\n",
        "                 ENSG00000007350  ENSG00000016082  ENSG00000041353  \\\n",
        "ENSG00000003137         0.078876        -0.164944        -0.102906   \n",
        "ENSG00000004848         0.109242         0.187309         0.378170   \n",
        "ENSG00000006016         0.041606         0.102551         0.418882   \n",
        "ENSG00000006116        -0.131698        -0.074954         0.424003   \n",
        "ENSG00000006128        -0.054401         0.427592         0.575299   \n",
        "\n",
        "                 ENSG00000041982       ...         ENSG00000258283  \\\n",
        "ENSG00000003137        -0.021128       ...               -0.214898   \n",
        "ENSG00000004848        -0.033828       ...                0.671103   \n",
        "ENSG00000006016         0.051724       ...                0.637911   \n",
        "ENSG00000006116        -0.297513       ...                0.673116   \n",
        "ENSG00000006128         0.115128       ...                0.688362   \n",
        "\n",
        "                 ENSG00000258403  ENSG00000258444  ENSG00000258518  \\\n",
        "ENSG00000003137         0.018936        -0.108965        -0.366995   \n",
        "ENSG00000004848         0.313143        -0.001566        -0.500766   \n",
        "ENSG00000006016         0.300402         0.243334        -0.345219   \n",
        "ENSG00000006116         0.533787        -0.056825        -0.572178   \n",
        "ENSG00000006128         0.404930         0.292495        -0.190202   \n",
        "\n",
        "                 ENSG00000258752  ENSG00000259190  ENSG00000259279  \\\n",
        "ENSG00000003137        -0.136422         0.282414         0.163946   \n",
        "ENSG00000004848        -0.091005        -0.174027         0.139083   \n",
        "ENSG00000006016         0.053212        -0.279398         0.069264   \n",
        "ENSG00000006116        -0.211297         0.022135         0.242858   \n",
        "ENSG00000006128         0.151798        -0.423034        -0.093961   \n",
        "\n",
        "                 ENSG00000259373  ENSG00000259410  ENSG00000259603  \n",
        "ENSG00000003137         0.487711         0.483485         0.088631  \n",
        "ENSG00000004848        -0.659290        -0.580665        -0.653537  \n",
        "ENSG00000006016        -0.309780        -0.303773        -0.267244  \n",
        "ENSG00000006116        -0.479994        -0.401955        -0.614655  \n",
        "ENSG00000006128        -0.293967        -0.312149        -0.171620  \n",
        "\n",
        "[5 rows x 564 columns]"
       ]
      }
     ],
     "prompt_number": 12
    },
    {
     "cell_type": "markdown",
     "metadata": {},
     "source": [
      "Yay, it's here!"
     ]
    }
   ],
   "metadata": {}
  }
 ]
}