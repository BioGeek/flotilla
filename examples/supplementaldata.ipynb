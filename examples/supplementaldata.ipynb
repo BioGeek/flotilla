{
 "metadata": {
  "name": "",
  "signature": "sha256:eceb885bc450ca6fa56e1a6d6c4c0319f9bb5ea851944dc1b96eeffd554a284a"
 },
 "nbformat": 3,
 "nbformat_minor": 0,
 "worksheets": [
  {
   "cells": [
    {
     "cell_type": "heading",
     "level": 1,
     "metadata": {},
     "source": [
      "Storing supplemental data on `Study` objects"
     ]
    },
    {
     "cell_type": "markdown",
     "metadata": {},
     "source": [
      "A recently added feature is the ability to store any arbitrary pandas dataframe on `study.supplemental`, and this will get re-loaded every time you `embark` on that datapackage. Let's start with the batch-corrected [BrainSpan](http://www.brainspan.org/) Allen Brain Institute's Brain Atlas data."
     ]
    },
    {
     "cell_type": "code",
     "collapsed": false,
     "input": [
      "import flotilla\n",
      "study = flotilla.embark(flotilla._brainspan)"
     ],
     "language": "python",
     "metadata": {},
     "outputs": []
    },
    {
     "cell_type": "markdown",
     "metadata": {},
     "source": [
      "Let's take a look at how big this expression matrix is."
     ]
    },
    {
     "cell_type": "code",
     "collapsed": false,
     "input": [
      "study.expression.data.shape"
     ],
     "language": "python",
     "metadata": {},
     "outputs": []
    },
    {
     "cell_type": "markdown",
     "metadata": {},
     "source": [
      "Yikes, 14,321 features is a lot! Let's subset on just the most variant genes. By default, this is the genes whose variance is two standard deviations away from the mean variance of all genes."
     ]
    },
    {
     "cell_type": "code",
     "collapsed": false,
     "input": [
      "variant_ids = study.expression.feature_subsets['variant']\n",
      "variant_expression = study.expression.data.ix[:, variant_ids]\n",
      "variant_expression.shape"
     ],
     "language": "python",
     "metadata": {},
     "outputs": []
    },
    {
     "cell_type": "markdown",
     "metadata": {},
     "source": [
      "564 features isn't so bad. Let's correlate all features to each other in this subset."
     ]
    },
    {
     "cell_type": "code",
     "collapsed": false,
     "input": [
      "%%time\n",
      "variant_expression_corr = variant_expression.corr()\n",
      "variant_expression_corr.head()"
     ],
     "language": "python",
     "metadata": {},
     "outputs": []
    },
    {
     "cell_type": "markdown",
     "metadata": {},
     "source": [
      "That didn't take *too* long, but I'm sure you can imagine it would take a really long time for ALL genes!\n",
      "\n",
      "Now let's assign this to the `study.supplemental` object with a name of our choice. To keep things simple, I'm gonna give it the same name."
     ]
    },
    {
     "cell_type": "code",
     "collapsed": false,
     "input": [
      "study.supplemental.variant_expression_corr = variant_expression_corr"
     ],
     "language": "python",
     "metadata": {},
     "outputs": []
    },
    {
     "cell_type": "markdown",
     "metadata": {},
     "source": [
      "Now let's save the object and re-`embark` to make sure it's there."
     ]
    },
    {
     "cell_type": "code",
     "collapsed": false,
     "input": [
      "study.save('brainspan2')\n",
      "study2 = flotilla.embark('brainspan2')\n"
     ],
     "language": "python",
     "metadata": {},
     "outputs": []
    },
    {
     "cell_type": "code",
     "collapsed": false,
     "input": [
      "\n",
      "study2.supplemental.variant_expression_corr.head()"
     ],
     "language": "python",
     "metadata": {},
     "outputs": []
    },
    {
     "cell_type": "code",
     "collapsed": false,
     "input": [
      "%pdb"
     ],
     "language": "python",
     "metadata": {},
     "outputs": [
      {
       "output_type": "stream",
       "stream": "stdout",
       "text": [
        "Automatic pdb calling has been turned ON\n"
       ]
      }
     ],
     "prompt_number": 8
    },
    {
     "cell_type": "code",
     "collapsed": false,
     "input": [
      "study2 = flotilla.embark('brainspan2')"
     ],
     "language": "python",
     "metadata": {},
     "outputs": [
      {
       "output_type": "stream",
       "stream": "stdout",
       "text": [
        "2015-03-16 15:39:54\tReading datapackage from /Users/olga/flotilla_projects/brainspan2/datapackage.json\n",
        "2015-03-16 15:39:54\tParsing datapackage to create a Study object\n"
       ]
      },
      {
       "ename": "KeyError",
       "evalue": "'format'",
       "output_type": "pyerr",
       "traceback": [
        "\u001b[0;31m---------------------------------------------------------------------------\u001b[0m\n\u001b[0;31mKeyError\u001b[0m                                  Traceback (most recent call last)",
        "\u001b[0;32m<ipython-input-10-513e590b776b>\u001b[0m in \u001b[0;36m<module>\u001b[0;34m()\u001b[0m\n\u001b[0;32m----> 1\u001b[0;31m \u001b[0mstudy2\u001b[0m \u001b[0;34m=\u001b[0m \u001b[0mflotilla\u001b[0m\u001b[0;34m.\u001b[0m\u001b[0membark\u001b[0m\u001b[0;34m(\u001b[0m\u001b[0;34m'brainspan2'\u001b[0m\u001b[0;34m)\u001b[0m\u001b[0;34m\u001b[0m\u001b[0m\n\u001b[0m",
        "\u001b[0;32m/Users/olga/workspace-git/flotilla/flotilla/__init__.pyc\u001b[0m in \u001b[0;36membark\u001b[0;34m(study_name, load_species_data)\u001b[0m\n\u001b[1;32m     51\u001b[0m                                             study_name)))\n\u001b[1;32m     52\u001b[0m         return Study.from_datapackage_file(filename,\n\u001b[0;32m---> 53\u001b[0;31m                                            load_species_data=load_species_data)\n\u001b[0m\u001b[1;32m     54\u001b[0m     \u001b[0;32mexcept\u001b[0m \u001b[0mIOError\u001b[0m\u001b[0;34m:\u001b[0m\u001b[0;34m\u001b[0m\u001b[0m\n\u001b[1;32m     55\u001b[0m         return Study.from_datapackage_url(study_name,\n",
        "\u001b[0;32m/Users/olga/workspace-git/flotilla/flotilla/data_model/study.py\u001b[0m in \u001b[0;36mfrom_datapackage_file\u001b[0;34m(cls, datapackage_filename, load_species_data, species_datapackage_base_url)\u001b[0m\n\u001b[1;32m    453\u001b[0m             \u001b[0mdatapackage\u001b[0m\u001b[0;34m,\u001b[0m \u001b[0mdatapackage_dir\u001b[0m\u001b[0;34m=\u001b[0m\u001b[0mdatapackage_dir\u001b[0m\u001b[0;34m,\u001b[0m\u001b[0;34m\u001b[0m\u001b[0m\n\u001b[1;32m    454\u001b[0m             \u001b[0mload_species_data\u001b[0m\u001b[0;34m=\u001b[0m\u001b[0mload_species_data\u001b[0m\u001b[0;34m,\u001b[0m\u001b[0;34m\u001b[0m\u001b[0m\n\u001b[0;32m--> 455\u001b[0;31m             species_datapackage_base_url=species_datapackage_base_url)\n\u001b[0m\u001b[1;32m    456\u001b[0m \u001b[0;34m\u001b[0m\u001b[0m\n\u001b[1;32m    457\u001b[0m \u001b[0;34m\u001b[0m\u001b[0m\n",
        "\u001b[0;32m/Users/olga/workspace-git/flotilla/flotilla/data_model/study.py\u001b[0m in \u001b[0;36mfrom_datapackage\u001b[0;34m(cls, datapackage, datapackage_dir, load_species_data, species_datapackage_base_url)\u001b[0m\n\u001b[1;32m    528\u001b[0m                     \u001b[0mname\u001b[0m \u001b[0;34m=\u001b[0m \u001b[0mresource\u001b[0m\u001b[0;34m[\u001b[0m\u001b[0;34m'name'\u001b[0m\u001b[0;34m]\u001b[0m\u001b[0;34m\u001b[0m\u001b[0m\n\u001b[1;32m    529\u001b[0m \u001b[0;34m\u001b[0m\u001b[0m\n\u001b[0;32m--> 530\u001b[0;31m                     \u001b[0mreader\u001b[0m \u001b[0;34m=\u001b[0m \u001b[0mcls\u001b[0m\u001b[0;34m.\u001b[0m\u001b[0mreaders\u001b[0m\u001b[0;34m[\u001b[0m\u001b[0mresource\u001b[0m\u001b[0;34m[\u001b[0m\u001b[0;34m'format'\u001b[0m\u001b[0;34m]\u001b[0m\u001b[0;34m]\u001b[0m\u001b[0;34m\u001b[0m\u001b[0m\n\u001b[0m\u001b[1;32m    531\u001b[0m                     \u001b[0mcompression\u001b[0m \u001b[0;34m=\u001b[0m \u001b[0mNone\u001b[0m \u001b[0;32mif\u001b[0m \u001b[0;34m'compression'\u001b[0m \u001b[0;32mnot\u001b[0m \u001b[0;32min\u001b[0m \u001b[0mresource\u001b[0m \u001b[0;32melse\u001b[0m\u001b[0;31m \u001b[0m\u001b[0;31m\\\u001b[0m\u001b[0;34m\u001b[0m\u001b[0m\n\u001b[1;32m    532\u001b[0m                         \u001b[0mresource\u001b[0m\u001b[0;34m[\u001b[0m\u001b[0;34m'compression'\u001b[0m\u001b[0;34m]\u001b[0m\u001b[0;34m\u001b[0m\u001b[0m\n",
        "\u001b[0;31mKeyError\u001b[0m: 'format'"
       ]
      },
      {
       "output_type": "stream",
       "stream": "stdout",
       "text": [
        "> \u001b[0;32m/Users/olga/workspace-git/flotilla/flotilla/data_model/study.py\u001b[0m(530)\u001b[0;36mfrom_datapackage\u001b[0;34m()\u001b[0m\n",
        "\u001b[0;32m    529 \u001b[0;31m\u001b[0;34m\u001b[0m\u001b[0m\n",
        "\u001b[0m\u001b[0;32m--> 530 \u001b[0;31m                    \u001b[0mreader\u001b[0m \u001b[0;34m=\u001b[0m \u001b[0mcls\u001b[0m\u001b[0;34m.\u001b[0m\u001b[0mreaders\u001b[0m\u001b[0;34m[\u001b[0m\u001b[0mresource\u001b[0m\u001b[0;34m[\u001b[0m\u001b[0;34m'format'\u001b[0m\u001b[0;34m]\u001b[0m\u001b[0;34m]\u001b[0m\u001b[0;34m\u001b[0m\u001b[0m\n",
        "\u001b[0m\u001b[0;32m    531 \u001b[0;31m                    \u001b[0mcompression\u001b[0m \u001b[0;34m=\u001b[0m \u001b[0mNone\u001b[0m \u001b[0;32mif\u001b[0m \u001b[0;34m'compression'\u001b[0m \u001b[0;32mnot\u001b[0m \u001b[0;32min\u001b[0m \u001b[0mresource\u001b[0m \u001b[0;32melse\u001b[0m\u001b[0;31m \u001b[0m\u001b[0;31m\\\u001b[0m\u001b[0;34m\u001b[0m\u001b[0m\n",
        "\u001b[0m\n"
       ]
      },
      {
       "name": "stdout",
       "output_type": "stream",
       "stream": "stdout",
       "text": [
        "ipdb> resource\n"
       ]
      },
      {
       "output_type": "stream",
       "stream": "stdout",
       "text": [
        "{u'name': u'supplemental', u'resources': [{u'path': u'variant_expression_corr.csv.gz', u'compression': u'gzip', u'name': u'variant_expression_corr', u'format': u'csv'}]}\n"
       ]
      },
      {
       "name": "stdout",
       "output_type": "stream",
       "stream": "stdout",
       "text": [
        "ipdb> exit\n"
       ]
      }
     ],
     "prompt_number": 10
    },
    {
     "cell_type": "code",
     "collapsed": false,
     "input": [
      "cat /Users/olga/flotilla_projects/brainspan2/datapackage.json"
     ],
     "language": "python",
     "metadata": {},
     "outputs": [
      {
       "output_type": "stream",
       "stream": "stdout",
       "text": [
        "{\r\n",
        "  \"name\": \"brainspan2\", \r\n",
        "  \"title\": null, \r\n",
        "  \"datapackage_version\": \"0.1.2\", \r\n",
        "  \"sources\": null, \r\n",
        "  \"licenses\": null, \r\n",
        "  \"resources\": [\r\n",
        "    {\r\n",
        "      \"name\": \"expression_feature\", \r\n",
        "      \"format\": \"csv\", \r\n",
        "      \"rename_col\": \"gene_symbol\", \r\n",
        "      \"ignore_subset_cols\": [\r\n",
        "        \"gene_id\", \r\n",
        "        \"gene_symbol\", \r\n",
        "        \"entrez_id\"\r\n",
        "      ], \r\n",
        "      \"path\": \"expression_feature.csv.gz\", \r\n",
        "      \"compression\": \"gzip\"\r\n",
        "    }, \r\n",
        "    {\r\n",
        "      \"name\": \"expression\", \r\n",
        "      \"log_base\": 2, \r\n",
        "      \"format\": \"csv\", \r\n",
        "      \"thresh\": -Infinity, \r\n",
        "      \"plus_one\": true, \r\n",
        "      \"path\": \"expression.csv.gz\", \r\n",
        "      \"compression\": \"gzip\"\r\n",
        "    }, \r\n",
        "    {\r\n",
        "      \"pooled_col\": \"pooled\", \r\n",
        "      \"name\": \"metadata\", \r\n",
        "      \"phenotype_to_marker\": {\r\n",
        "        \"M1C\": \"o\", \r\n",
        "        \"DTH\": \"o\", \r\n",
        "        \"A1C\": \"o\", \r\n",
        "        \"TCx\": \"o\", \r\n",
        "        \"VFC\": \"o\", \r\n",
        "        \"Ocx\": \"o\", \r\n",
        "        \"V1C\": \"o\", \r\n",
        "        \"HIP\": \"o\", \r\n",
        "        \"PCx\": \"o\", \r\n",
        "        \"MFC\": \"o\", \r\n",
        "        \"MD\": \"o\", \r\n",
        "        \"CGE\": \"o\", \r\n",
        "        \"AMY\": \"o\", \r\n",
        "        \"OFC\": \"o\", \r\n",
        "        \"STC\": \"o\", \r\n",
        "        \"URL\": \"o\", \r\n",
        "        \"CB\": \"o\", \r\n",
        "        \"STR\": \"o\", \r\n",
        "        \"S1C\": \"o\", \r\n",
        "        \"DFC\": \"o\", \r\n",
        "        \"CBC\": \"o\", \r\n",
        "        \"MGE\": \"o\", \r\n",
        "        \"M1C-S1C\": \"o\", \r\n",
        "        \"ITC\": \"o\", \r\n",
        "        \"LGE\": \"o\", \r\n",
        "        \"IPC\": \"o\"\r\n",
        "      }, \r\n",
        "      \"format\": \"csv\", \r\n",
        "      \"minimum_samples\": 0, \r\n",
        "      \"phenotype_to_color\": {\r\n",
        "        \"M1C\": \"#34af87\", \r\n",
        "        \"DTH\": \"#a0a131\", \r\n",
        "        \"A1C\": \"#f77189\", \r\n",
        "        \"TCx\": \"#f35cf4\", \r\n",
        "        \"VFC\": \"#f66da6\", \r\n",
        "        \"Ocx\": \"#3aa5e2\", \r\n",
        "        \"V1C\": \"#f668be\", \r\n",
        "        \"HIP\": \"#8da631\", \r\n",
        "        \"PCx\": \"#639df4\", \r\n",
        "        \"MFC\": \"#36abb0\", \r\n",
        "        \"MD\": \"#36ada4\", \r\n",
        "        \"CGE\": \"#c19632\", \r\n",
        "        \"AMY\": \"#f77461\", \r\n",
        "        \"OFC\": \"#39a8cc\", \r\n",
        "        \"STC\": \"#b486f4\", \r\n",
        "        \"URL\": \"#f563d7\", \r\n",
        "        \"CB\": \"#eb8032\", \r\n",
        "        \"STR\": \"#d276f4\", \r\n",
        "        \"S1C\": \"#9292f4\", \r\n",
        "        \"DFC\": \"#b19c32\", \r\n",
        "        \"CBC\": \"#d38d32\", \r\n",
        "        \"MGE\": \"#37aabd\", \r\n",
        "        \"M1C-S1C\": \"#35ae97\", \r\n",
        "        \"ITC\": \"#31b332\", \r\n",
        "        \"LGE\": \"#33b16f\", \r\n",
        "        \"IPC\": \"#71ac31\"\r\n",
        "      }, \r\n",
        "      \"outlier_col\": \"outlier\", \r\n",
        "      \"path\": \"metadata.csv.gz\", \r\n",
        "      \"phenotype_col\": \"structure_acronym\", \r\n",
        "      \"phenotype_order\": [\r\n",
        "        \"A1C\", \r\n",
        "        \"AMY\", \r\n",
        "        \"CB\", \r\n",
        "        \"CBC\", \r\n",
        "        \"CGE\", \r\n",
        "        \"DFC\", \r\n",
        "        \"DTH\", \r\n",
        "        \"HIP\", \r\n",
        "        \"IPC\", \r\n",
        "        \"ITC\", \r\n",
        "        \"LGE\", \r\n",
        "        \"M1C\", \r\n",
        "        \"M1C-S1C\", \r\n",
        "        \"MD\", \r\n",
        "        \"MFC\", \r\n",
        "        \"MGE\", \r\n",
        "        \"OFC\", \r\n",
        "        \"Ocx\", \r\n",
        "        \"PCx\", \r\n",
        "        \"S1C\", \r\n",
        "        \"STC\", \r\n",
        "        \"STR\", \r\n",
        "        \"TCx\", \r\n",
        "        \"URL\", \r\n",
        "        \"V1C\", \r\n",
        "        \"VFC\"\r\n",
        "      ], \r\n",
        "      \"compression\": \"gzip\"\r\n",
        "    }, \r\n",
        "    {\r\n",
        "      \"name\": \"supplemental\", \r\n",
        "      \"resources\": [\r\n",
        "        {\r\n",
        "          \"path\": \"variant_expression_corr.csv.gz\", \r\n",
        "          \"format\": \"csv\", \r\n",
        "          \"name\": \"variant_expression_corr\", \r\n",
        "          \"compression\": \"gzip\"\r\n",
        "        }\r\n",
        "      ]\r\n",
        "    }\r\n",
        "  ]\r\n",
        "}"
       ]
      }
     ],
     "prompt_number": 9
    },
    {
     "cell_type": "code",
     "collapsed": false,
     "input": [
      "study2.supplemental.variant_expression_corr.head()"
     ],
     "language": "python",
     "metadata": {},
     "outputs": []
    }
   ],
   "metadata": {}
  }
 ]
}