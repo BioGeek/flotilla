{
 "metadata": {
  "name": "",
  "signature": "sha256:7c740b7fbfeb9e757157bbdee1b3b4217a7ff45e4e1381107c7ca510cdab84eb"
 },
 "nbformat": 3,
 "nbformat_minor": 0,
 "worksheets": [
  {
   "cells": [
    {
     "cell_type": "heading",
     "level": 1,
     "metadata": {},
     "source": [
      "Create an advanced datapackage"
     ]
    },
    {
     "cell_type": "markdown",
     "metadata": {
      "slideshow": {
       "slide_type": "slide"
      }
     },
     "source": [
      "In this notebook, we will create a new `flotilla` Study with a few more parameters than we had in the [barebones](barebones) one. We wil cover:\n",
      "\n",
      "* Using the `metadata_phenotype_order`, `metadata_phenotype_to_color`, and `metadata_phenotype_to_marker` arguments to tell flotilla in what order you want your data plotted for violinplots, the color, and the plotting symbol\n",
      "* Using unique ENSEMBL ids for gene ids, and MISO ids for splicing events\n",
      "* Using larger `{expression,splicing}_feature_data` to rename gene ids and splicing events\n",
      "\n",
      "Let's start by importing the packages we'll need."
     ]
    },
    {
     "cell_type": "code",
     "collapsed": false,
     "input": [
      "import pandas as pd\n",
      "import numpy as np\n",
      "import flotilla"
     ],
     "language": "python",
     "metadata": {},
     "outputs": [
      {
       "output_type": "stream",
       "stream": "stdout",
       "text": [
        "Couldn't import dot_parser, loading of dot files will not be possible.\n"
       ]
      }
     ],
     "prompt_number": 2
    },
    {
     "cell_type": "heading",
     "level": 2,
     "metadata": {},
     "source": [
      "The data: a neural induction protocol"
     ]
    },
    {
     "cell_type": "markdown",
     "metadata": {},
     "source": [
      "![](http://i.imgur.com/37xpJvi.png)\n",
      "\n",
      "* Induced pluripotent cells (P, iPSC)\n",
      "* Neural progenitor cells (N, NPC)\n",
      "* Motor neurons (M, MN)\n",
      "* Stressed motor neurons (S, sMN)"
     ]
    },
    {
     "cell_type": "heading",
     "level": 2,
     "metadata": {},
     "source": [
      "Metadata, expression data, and splicing data"
     ]
    },
    {
     "cell_type": "markdown",
     "metadata": {},
     "source": [
      "Load in metadata about the samples, expression data, and their splicing data."
     ]
    },
    {
     "cell_type": "code",
     "collapsed": false,
     "input": [
      "metadata = pd.read_csv('http://sauron.ucsd.edu/flotilla_projects/neural_diff_chr22/metadata.csv', index_col=0)\n",
      "metadata.head()"
     ],
     "language": "python",
     "metadata": {},
     "outputs": [
      {
       "html": [
        "<div style=\"max-height:1000px;max-width:1500px;overflow:auto;\">\n",
        "<table border=\"1\" class=\"dataframe\">\n",
        "  <thead>\n",
        "    <tr style=\"text-align: right;\">\n",
        "      <th></th>\n",
        "      <th>pooled</th>\n",
        "      <th>phenotype</th>\n",
        "      <th>outlier</th>\n",
        "    </tr>\n",
        "    <tr>\n",
        "      <th>original_name</th>\n",
        "      <th></th>\n",
        "      <th></th>\n",
        "      <th></th>\n",
        "    </tr>\n",
        "  </thead>\n",
        "  <tbody>\n",
        "    <tr>\n",
        "      <th>M1_01</th>\n",
        "      <td> False</td>\n",
        "      <td> MN</td>\n",
        "      <td> False</td>\n",
        "    </tr>\n",
        "    <tr>\n",
        "      <th>M1_02</th>\n",
        "      <td> False</td>\n",
        "      <td> MN</td>\n",
        "      <td> False</td>\n",
        "    </tr>\n",
        "    <tr>\n",
        "      <th>M1_03</th>\n",
        "      <td> False</td>\n",
        "      <td> MN</td>\n",
        "      <td> False</td>\n",
        "    </tr>\n",
        "    <tr>\n",
        "      <th>M1_04</th>\n",
        "      <td> False</td>\n",
        "      <td> MN</td>\n",
        "      <td> False</td>\n",
        "    </tr>\n",
        "    <tr>\n",
        "      <th>M1_05</th>\n",
        "      <td> False</td>\n",
        "      <td> MN</td>\n",
        "      <td> False</td>\n",
        "    </tr>\n",
        "  </tbody>\n",
        "</table>\n",
        "</div>"
       ],
       "metadata": {},
       "output_type": "pyout",
       "prompt_number": 6,
       "text": [
        "              pooled phenotype outlier\n",
        "original_name                         \n",
        "M1_01          False        MN   False\n",
        "M1_02          False        MN   False\n",
        "M1_03          False        MN   False\n",
        "M1_04          False        MN   False\n",
        "M1_05          False        MN   False"
       ]
      }
     ],
     "prompt_number": 6
    },
    {
     "cell_type": "code",
     "collapsed": false,
     "input": [
      "expression = pd.read_csv('http://sauron.ucsd.edu/flotilla_projects/neural_diff_chr22/expression.csv', index_col=0)\n",
      "expression.head()"
     ],
     "language": "python",
     "metadata": {},
     "outputs": [
      {
       "html": [
        "<div style=\"max-height:1000px;max-width:1500px;overflow:auto;\">\n",
        "<table border=\"1\" class=\"dataframe\">\n",
        "  <thead>\n",
        "    <tr style=\"text-align: right;\">\n",
        "      <th></th>\n",
        "      <th>ENSG00000233866</th>\n",
        "      <th>ENSG00000229286</th>\n",
        "      <th>ENSG00000235265</th>\n",
        "      <th>ENSG00000223875</th>\n",
        "      <th>ENSG00000215270</th>\n",
        "      <th>ENSG00000206195</th>\n",
        "      <th>ENSG00000271672</th>\n",
        "      <th>ENSG00000272872</th>\n",
        "      <th>ENSG00000232775</th>\n",
        "      <th>ENSG00000271127</th>\n",
        "      <th>...</th>\n",
        "      <th>ENSG00000100299</th>\n",
        "      <th>ENSG00000212569</th>\n",
        "      <th>ENSG00000251322</th>\n",
        "      <th>ENSG00000206841</th>\n",
        "      <th>ENSG00000225929</th>\n",
        "      <th>ENSG00000100312</th>\n",
        "      <th>ENSG00000254499</th>\n",
        "      <th>ENSG00000213683</th>\n",
        "      <th>ENSG00000184319</th>\n",
        "      <th>ENSG00000079974</th>\n",
        "    </tr>\n",
        "    <tr>\n",
        "      <th>sample_id</th>\n",
        "      <th></th>\n",
        "      <th></th>\n",
        "      <th></th>\n",
        "      <th></th>\n",
        "      <th></th>\n",
        "      <th></th>\n",
        "      <th></th>\n",
        "      <th></th>\n",
        "      <th></th>\n",
        "      <th></th>\n",
        "      <th></th>\n",
        "      <th></th>\n",
        "      <th></th>\n",
        "      <th></th>\n",
        "      <th></th>\n",
        "      <th></th>\n",
        "      <th></th>\n",
        "      <th></th>\n",
        "      <th></th>\n",
        "      <th></th>\n",
        "      <th></th>\n",
        "    </tr>\n",
        "  </thead>\n",
        "  <tbody>\n",
        "    <tr>\n",
        "      <th>CVN_01</th>\n",
        "      <td> 0.380964</td>\n",
        "      <td>NaN</td>\n",
        "      <td>NaN</td>\n",
        "      <td>NaN</td>\n",
        "      <td>NaN</td>\n",
        "      <td> 0.988765</td>\n",
        "      <td>NaN</td>\n",
        "      <td> 0</td>\n",
        "      <td>NaN</td>\n",
        "      <td> 0.000000</td>\n",
        "      <td>...</td>\n",
        "      <td> 1.041467</td>\n",
        "      <td>NaN</td>\n",
        "      <td> 0</td>\n",
        "      <td>NaN</td>\n",
        "      <td> 0.745853</td>\n",
        "      <td> 0</td>\n",
        "      <td> 0</td>\n",
        "      <td>NaN</td>\n",
        "      <td>NaN</td>\n",
        "      <td> 3.026128</td>\n",
        "    </tr>\n",
        "    <tr>\n",
        "      <th>CVN_02</th>\n",
        "      <td> 0.678509</td>\n",
        "      <td>NaN</td>\n",
        "      <td>NaN</td>\n",
        "      <td>NaN</td>\n",
        "      <td>NaN</td>\n",
        "      <td> 1.324344</td>\n",
        "      <td>NaN</td>\n",
        "      <td> 0</td>\n",
        "      <td>NaN</td>\n",
        "      <td> 0.000000</td>\n",
        "      <td>...</td>\n",
        "      <td> 1.347575</td>\n",
        "      <td>NaN</td>\n",
        "      <td> 0</td>\n",
        "      <td>NaN</td>\n",
        "      <td> 0.168166</td>\n",
        "      <td> 0</td>\n",
        "      <td> 0</td>\n",
        "      <td>NaN</td>\n",
        "      <td>NaN</td>\n",
        "      <td> 2.871832</td>\n",
        "    </tr>\n",
        "    <tr>\n",
        "      <th>CVN_03</th>\n",
        "      <td> 1.625612</td>\n",
        "      <td>NaN</td>\n",
        "      <td>NaN</td>\n",
        "      <td>NaN</td>\n",
        "      <td>NaN</td>\n",
        "      <td> 0.000000</td>\n",
        "      <td>NaN</td>\n",
        "      <td> 0</td>\n",
        "      <td>NaN</td>\n",
        "      <td> 0.000000</td>\n",
        "      <td>...</td>\n",
        "      <td> 0.000000</td>\n",
        "      <td>NaN</td>\n",
        "      <td> 0</td>\n",
        "      <td>NaN</td>\n",
        "      <td> 0.266781</td>\n",
        "      <td> 0</td>\n",
        "      <td> 0</td>\n",
        "      <td>NaN</td>\n",
        "      <td>NaN</td>\n",
        "      <td> 3.536874</td>\n",
        "    </tr>\n",
        "    <tr>\n",
        "      <th>CVN_04</th>\n",
        "      <td> 1.172500</td>\n",
        "      <td>NaN</td>\n",
        "      <td>NaN</td>\n",
        "      <td>NaN</td>\n",
        "      <td>NaN</td>\n",
        "      <td> 1.921577</td>\n",
        "      <td>NaN</td>\n",
        "      <td> 0</td>\n",
        "      <td>NaN</td>\n",
        "      <td> 0.000000</td>\n",
        "      <td>...</td>\n",
        "      <td> 0.954419</td>\n",
        "      <td>NaN</td>\n",
        "      <td> 0</td>\n",
        "      <td>NaN</td>\n",
        "      <td> 0.204180</td>\n",
        "      <td> 0</td>\n",
        "      <td> 0</td>\n",
        "      <td>NaN</td>\n",
        "      <td>NaN</td>\n",
        "      <td> 2.675213</td>\n",
        "    </tr>\n",
        "    <tr>\n",
        "      <th>CVN_05</th>\n",
        "      <td> 1.993928</td>\n",
        "      <td>NaN</td>\n",
        "      <td>NaN</td>\n",
        "      <td>NaN</td>\n",
        "      <td>NaN</td>\n",
        "      <td> 0.000000</td>\n",
        "      <td>NaN</td>\n",
        "      <td> 0</td>\n",
        "      <td>NaN</td>\n",
        "      <td> 1.925453</td>\n",
        "      <td>...</td>\n",
        "      <td> 1.683804</td>\n",
        "      <td>NaN</td>\n",
        "      <td> 0</td>\n",
        "      <td>NaN</td>\n",
        "      <td> 0.313015</td>\n",
        "      <td> 0</td>\n",
        "      <td> 0</td>\n",
        "      <td>NaN</td>\n",
        "      <td>NaN</td>\n",
        "      <td> 4.263993</td>\n",
        "    </tr>\n",
        "  </tbody>\n",
        "</table>\n",
        "<p>5 rows \u00d7 1263 columns</p>\n",
        "</div>"
       ],
       "metadata": {},
       "output_type": "pyout",
       "prompt_number": 7,
       "text": [
        "           ENSG00000233866  ENSG00000229286  ENSG00000235265  ENSG00000223875  \\\n",
        "sample_id                                                                       \n",
        "CVN_01            0.380964              NaN              NaN              NaN   \n",
        "CVN_02            0.678509              NaN              NaN              NaN   \n",
        "CVN_03            1.625612              NaN              NaN              NaN   \n",
        "CVN_04            1.172500              NaN              NaN              NaN   \n",
        "CVN_05            1.993928              NaN              NaN              NaN   \n",
        "\n",
        "           ENSG00000215270  ENSG00000206195  ENSG00000271672  ENSG00000272872  \\\n",
        "sample_id                                                                       \n",
        "CVN_01                 NaN         0.988765              NaN                0   \n",
        "CVN_02                 NaN         1.324344              NaN                0   \n",
        "CVN_03                 NaN         0.000000              NaN                0   \n",
        "CVN_04                 NaN         1.921577              NaN                0   \n",
        "CVN_05                 NaN         0.000000              NaN                0   \n",
        "\n",
        "           ENSG00000232775  ENSG00000271127       ...         ENSG00000100299  \\\n",
        "sample_id                                         ...                           \n",
        "CVN_01                 NaN         0.000000       ...                1.041467   \n",
        "CVN_02                 NaN         0.000000       ...                1.347575   \n",
        "CVN_03                 NaN         0.000000       ...                0.000000   \n",
        "CVN_04                 NaN         0.000000       ...                0.954419   \n",
        "CVN_05                 NaN         1.925453       ...                1.683804   \n",
        "\n",
        "           ENSG00000212569  ENSG00000251322  ENSG00000206841  ENSG00000225929  \\\n",
        "sample_id                                                                       \n",
        "CVN_01                 NaN                0              NaN         0.745853   \n",
        "CVN_02                 NaN                0              NaN         0.168166   \n",
        "CVN_03                 NaN                0              NaN         0.266781   \n",
        "CVN_04                 NaN                0              NaN         0.204180   \n",
        "CVN_05                 NaN                0              NaN         0.313015   \n",
        "\n",
        "           ENSG00000100312  ENSG00000254499  ENSG00000213683  ENSG00000184319  \\\n",
        "sample_id                                                                       \n",
        "CVN_01                   0                0              NaN              NaN   \n",
        "CVN_02                   0                0              NaN              NaN   \n",
        "CVN_03                   0                0              NaN              NaN   \n",
        "CVN_04                   0                0              NaN              NaN   \n",
        "CVN_05                   0                0              NaN              NaN   \n",
        "\n",
        "           ENSG00000079974  \n",
        "sample_id                   \n",
        "CVN_01            3.026128  \n",
        "CVN_02            2.871832  \n",
        "CVN_03            3.536874  \n",
        "CVN_04            2.675213  \n",
        "CVN_05            4.263993  \n",
        "\n",
        "[5 rows x 1263 columns]"
       ]
      }
     ],
     "prompt_number": 7
    },
    {
     "cell_type": "code",
     "collapsed": false,
     "input": [
      "splicing = pd.read_csv('http://sauron.ucsd.edu/flotilla_projects/neural_diff_chr22/splicing.csv', index_col=0)\n",
      "splicing.head()"
     ],
     "language": "python",
     "metadata": {},
     "outputs": [
      {
       "html": [
        "<div style=\"max-height:1000px;max-width:1500px;overflow:auto;\">\n",
        "<table border=\"1\" class=\"dataframe\">\n",
        "  <thead>\n",
        "    <tr style=\"text-align: right;\">\n",
        "      <th></th>\n",
        "      <th>chr22:16187165:16187302:-@chr22:16186946|16186953:16186811:-</th>\n",
        "      <th>chr22:16189032:16189143:-@chr22:16187278|16187302:16187165:-</th>\n",
        "      <th>chr22:16190681:16190791:-@chr22:16189378|16189411:16189264:-</th>\n",
        "      <th>chr22:16455250:16455438:-@chr22:16454933:16455249:-</th>\n",
        "      <th>chr22:16598138:16598344:-@chr22:16596905:16598137:-</th>\n",
        "      <th>chr22:16950841:16951225:+@chr22:16951226:16952202:+</th>\n",
        "      <th>chr22:17565849:17566119:+@chr22:17577952:17577976:+@chr22:17578687:17578833:+</th>\n",
        "      <th>chr22:17602485:17602929:+@chr22:17603459:17603628:+@chr22:17605545:17605661:+</th>\n",
        "      <th>chr22:17621949:17622123:-@chr22:17619440:17619628:-@chr22:17618410:17619247:-</th>\n",
        "      <th>chr22:17639347:17640058:-@chr22:17630432:17630635:-@chr22:17629338:17629450:-</th>\n",
        "      <th>...</th>\n",
        "      <th>chr22:51207980:51207853|51207883:-@chr22:51207469:51207552:-</th>\n",
        "      <th>chr22:51208333:51208444:-@chr22:51207977|51207980:51207883:-</th>\n",
        "      <th>chr22:51214200:51214279:-@chr22:51208333:51208444:-@chr22:51207883:51207980:-</th>\n",
        "      <th>chr22:51215098:51215177:-@chr22:51214200:51214279:-@chr22:51207883:51207980:-</th>\n",
        "      <th>chr22:51220616:51220779:-@chr22:51219041:51219146:-@chr22:51216380:51216409:-</th>\n",
        "      <th>chr22:51221714:51221467|51221473:-@chr22:51220616:51220779:-</th>\n",
        "      <th>chr22:51221929:51222087:-@chr22:51220775|51220779:51220616:-</th>\n",
        "      <th>chr22:51221929:51222087:-@chr22:51221319:51221473:-@chr22:51220616:51220779:-</th>\n",
        "      <th>chr22:51221929:51222087:-@chr22:51221467:51221714:-@chr22:51220616:51220779:-</th>\n",
        "      <th>chr22:51222225:51222292|51222449:+@chr22:51223601:51223721:+</th>\n",
        "    </tr>\n",
        "  </thead>\n",
        "  <tbody>\n",
        "    <tr>\n",
        "      <th>CVN_01</th>\n",
        "      <td>NaN</td>\n",
        "      <td>  NaN</td>\n",
        "      <td>NaN</td>\n",
        "      <td>  NaN</td>\n",
        "      <td>  NaN</td>\n",
        "      <td>NaN</td>\n",
        "      <td>NaN</td>\n",
        "      <td>  NaN</td>\n",
        "      <td>NaN</td>\n",
        "      <td>NaN</td>\n",
        "      <td>...</td>\n",
        "      <td>NaN</td>\n",
        "      <td>NaN</td>\n",
        "      <td>NaN</td>\n",
        "      <td>NaN</td>\n",
        "      <td>NaN</td>\n",
        "      <td>NaN</td>\n",
        "      <td>NaN</td>\n",
        "      <td>NaN</td>\n",
        "      <td>NaN</td>\n",
        "      <td>NaN</td>\n",
        "    </tr>\n",
        "    <tr>\n",
        "      <th>CVN_02</th>\n",
        "      <td>NaN</td>\n",
        "      <td>  NaN</td>\n",
        "      <td>NaN</td>\n",
        "      <td> 0.96</td>\n",
        "      <td> 0.02</td>\n",
        "      <td>NaN</td>\n",
        "      <td>NaN</td>\n",
        "      <td>  NaN</td>\n",
        "      <td>NaN</td>\n",
        "      <td>NaN</td>\n",
        "      <td>...</td>\n",
        "      <td>NaN</td>\n",
        "      <td>NaN</td>\n",
        "      <td>NaN</td>\n",
        "      <td>NaN</td>\n",
        "      <td>NaN</td>\n",
        "      <td>NaN</td>\n",
        "      <td>NaN</td>\n",
        "      <td>NaN</td>\n",
        "      <td>NaN</td>\n",
        "      <td>NaN</td>\n",
        "    </tr>\n",
        "    <tr>\n",
        "      <th>CVN_03</th>\n",
        "      <td>NaN</td>\n",
        "      <td>  NaN</td>\n",
        "      <td>NaN</td>\n",
        "      <td> 0.99</td>\n",
        "      <td>  NaN</td>\n",
        "      <td>NaN</td>\n",
        "      <td>NaN</td>\n",
        "      <td>  NaN</td>\n",
        "      <td>NaN</td>\n",
        "      <td>NaN</td>\n",
        "      <td>...</td>\n",
        "      <td>NaN</td>\n",
        "      <td>NaN</td>\n",
        "      <td>NaN</td>\n",
        "      <td>NaN</td>\n",
        "      <td>NaN</td>\n",
        "      <td>NaN</td>\n",
        "      <td>NaN</td>\n",
        "      <td>NaN</td>\n",
        "      <td>NaN</td>\n",
        "      <td>NaN</td>\n",
        "    </tr>\n",
        "    <tr>\n",
        "      <th>CVN_04</th>\n",
        "      <td>NaN</td>\n",
        "      <td> 0.07</td>\n",
        "      <td>NaN</td>\n",
        "      <td> 0.93</td>\n",
        "      <td>  NaN</td>\n",
        "      <td>NaN</td>\n",
        "      <td>NaN</td>\n",
        "      <td>  NaN</td>\n",
        "      <td>NaN</td>\n",
        "      <td>NaN</td>\n",
        "      <td>...</td>\n",
        "      <td>NaN</td>\n",
        "      <td>NaN</td>\n",
        "      <td>NaN</td>\n",
        "      <td>NaN</td>\n",
        "      <td>NaN</td>\n",
        "      <td>NaN</td>\n",
        "      <td>NaN</td>\n",
        "      <td>NaN</td>\n",
        "      <td>NaN</td>\n",
        "      <td>NaN</td>\n",
        "    </tr>\n",
        "    <tr>\n",
        "      <th>CVN_05</th>\n",
        "      <td>NaN</td>\n",
        "      <td>  NaN</td>\n",
        "      <td>NaN</td>\n",
        "      <td> 0.98</td>\n",
        "      <td> 0.09</td>\n",
        "      <td>NaN</td>\n",
        "      <td>NaN</td>\n",
        "      <td> 0.01</td>\n",
        "      <td>NaN</td>\n",
        "      <td>NaN</td>\n",
        "      <td>...</td>\n",
        "      <td>NaN</td>\n",
        "      <td>NaN</td>\n",
        "      <td>NaN</td>\n",
        "      <td>NaN</td>\n",
        "      <td>NaN</td>\n",
        "      <td>NaN</td>\n",
        "      <td>NaN</td>\n",
        "      <td>NaN</td>\n",
        "      <td>NaN</td>\n",
        "      <td>NaN</td>\n",
        "    </tr>\n",
        "  </tbody>\n",
        "</table>\n",
        "<p>5 rows \u00d7 1307 columns</p>\n",
        "</div>"
       ],
       "metadata": {},
       "output_type": "pyout",
       "prompt_number": 8,
       "text": [
        "        chr22:16187165:16187302:-@chr22:16186946|16186953:16186811:-  \\\n",
        "CVN_01                                                NaN              \n",
        "CVN_02                                                NaN              \n",
        "CVN_03                                                NaN              \n",
        "CVN_04                                                NaN              \n",
        "CVN_05                                                NaN              \n",
        "\n",
        "        chr22:16189032:16189143:-@chr22:16187278|16187302:16187165:-  \\\n",
        "CVN_01                                                NaN              \n",
        "CVN_02                                                NaN              \n",
        "CVN_03                                                NaN              \n",
        "CVN_04                                               0.07              \n",
        "CVN_05                                                NaN              \n",
        "\n",
        "        chr22:16190681:16190791:-@chr22:16189378|16189411:16189264:-  \\\n",
        "CVN_01                                                NaN              \n",
        "CVN_02                                                NaN              \n",
        "CVN_03                                                NaN              \n",
        "CVN_04                                                NaN              \n",
        "CVN_05                                                NaN              \n",
        "\n",
        "        chr22:16455250:16455438:-@chr22:16454933:16455249:-  \\\n",
        "CVN_01                                                NaN     \n",
        "CVN_02                                               0.96     \n",
        "CVN_03                                               0.99     \n",
        "CVN_04                                               0.93     \n",
        "CVN_05                                               0.98     \n",
        "\n",
        "        chr22:16598138:16598344:-@chr22:16596905:16598137:-  \\\n",
        "CVN_01                                                NaN     \n",
        "CVN_02                                               0.02     \n",
        "CVN_03                                                NaN     \n",
        "CVN_04                                                NaN     \n",
        "CVN_05                                               0.09     \n",
        "\n",
        "        chr22:16950841:16951225:+@chr22:16951226:16952202:+  \\\n",
        "CVN_01                                                NaN     \n",
        "CVN_02                                                NaN     \n",
        "CVN_03                                                NaN     \n",
        "CVN_04                                                NaN     \n",
        "CVN_05                                                NaN     \n",
        "\n",
        "        chr22:17565849:17566119:+@chr22:17577952:17577976:+@chr22:17578687:17578833:+  \\\n",
        "CVN_01                                                NaN                               \n",
        "CVN_02                                                NaN                               \n",
        "CVN_03                                                NaN                               \n",
        "CVN_04                                                NaN                               \n",
        "CVN_05                                                NaN                               \n",
        "\n",
        "        chr22:17602485:17602929:+@chr22:17603459:17603628:+@chr22:17605545:17605661:+  \\\n",
        "CVN_01                                                NaN                               \n",
        "CVN_02                                                NaN                               \n",
        "CVN_03                                                NaN                               \n",
        "CVN_04                                                NaN                               \n",
        "CVN_05                                               0.01                               \n",
        "\n",
        "        chr22:17621949:17622123:-@chr22:17619440:17619628:-@chr22:17618410:17619247:-  \\\n",
        "CVN_01                                                NaN                               \n",
        "CVN_02                                                NaN                               \n",
        "CVN_03                                                NaN                               \n",
        "CVN_04                                                NaN                               \n",
        "CVN_05                                                NaN                               \n",
        "\n",
        "        chr22:17639347:17640058:-@chr22:17630432:17630635:-@chr22:17629338:17629450:-  \\\n",
        "CVN_01                                                NaN                               \n",
        "CVN_02                                                NaN                               \n",
        "CVN_03                                                NaN                               \n",
        "CVN_04                                                NaN                               \n",
        "CVN_05                                                NaN                               \n",
        "\n",
        "                                    ...                               \\\n",
        "CVN_01                              ...                                \n",
        "CVN_02                              ...                                \n",
        "CVN_03                              ...                                \n",
        "CVN_04                              ...                                \n",
        "CVN_05                              ...                                \n",
        "\n",
        "        chr22:51207980:51207853|51207883:-@chr22:51207469:51207552:-  \\\n",
        "CVN_01                                                NaN              \n",
        "CVN_02                                                NaN              \n",
        "CVN_03                                                NaN              \n",
        "CVN_04                                                NaN              \n",
        "CVN_05                                                NaN              \n",
        "\n",
        "        chr22:51208333:51208444:-@chr22:51207977|51207980:51207883:-  \\\n",
        "CVN_01                                                NaN              \n",
        "CVN_02                                                NaN              \n",
        "CVN_03                                                NaN              \n",
        "CVN_04                                                NaN              \n",
        "CVN_05                                                NaN              \n",
        "\n",
        "        chr22:51214200:51214279:-@chr22:51208333:51208444:-@chr22:51207883:51207980:-  \\\n",
        "CVN_01                                                NaN                               \n",
        "CVN_02                                                NaN                               \n",
        "CVN_03                                                NaN                               \n",
        "CVN_04                                                NaN                               \n",
        "CVN_05                                                NaN                               \n",
        "\n",
        "        chr22:51215098:51215177:-@chr22:51214200:51214279:-@chr22:51207883:51207980:-  \\\n",
        "CVN_01                                                NaN                               \n",
        "CVN_02                                                NaN                               \n",
        "CVN_03                                                NaN                               \n",
        "CVN_04                                                NaN                               \n",
        "CVN_05                                                NaN                               \n",
        "\n",
        "        chr22:51220616:51220779:-@chr22:51219041:51219146:-@chr22:51216380:51216409:-  \\\n",
        "CVN_01                                                NaN                               \n",
        "CVN_02                                                NaN                               \n",
        "CVN_03                                                NaN                               \n",
        "CVN_04                                                NaN                               \n",
        "CVN_05                                                NaN                               \n",
        "\n",
        "        chr22:51221714:51221467|51221473:-@chr22:51220616:51220779:-  \\\n",
        "CVN_01                                                NaN              \n",
        "CVN_02                                                NaN              \n",
        "CVN_03                                                NaN              \n",
        "CVN_04                                                NaN              \n",
        "CVN_05                                                NaN              \n",
        "\n",
        "        chr22:51221929:51222087:-@chr22:51220775|51220779:51220616:-  \\\n",
        "CVN_01                                                NaN              \n",
        "CVN_02                                                NaN              \n",
        "CVN_03                                                NaN              \n",
        "CVN_04                                                NaN              \n",
        "CVN_05                                                NaN              \n",
        "\n",
        "        chr22:51221929:51222087:-@chr22:51221319:51221473:-@chr22:51220616:51220779:-  \\\n",
        "CVN_01                                                NaN                               \n",
        "CVN_02                                                NaN                               \n",
        "CVN_03                                                NaN                               \n",
        "CVN_04                                                NaN                               \n",
        "CVN_05                                                NaN                               \n",
        "\n",
        "        chr22:51221929:51222087:-@chr22:51221467:51221714:-@chr22:51220616:51220779:-  \\\n",
        "CVN_01                                                NaN                               \n",
        "CVN_02                                                NaN                               \n",
        "CVN_03                                                NaN                               \n",
        "CVN_04                                                NaN                               \n",
        "CVN_05                                                NaN                               \n",
        "\n",
        "        chr22:51222225:51222292|51222449:+@chr22:51223601:51223721:+  \n",
        "CVN_01                                                NaN             \n",
        "CVN_02                                                NaN             \n",
        "CVN_03                                                NaN             \n",
        "CVN_04                                                NaN             \n",
        "CVN_05                                                NaN             \n",
        "\n",
        "[5 rows x 1307 columns]"
       ]
      }
     ],
     "prompt_number": 8
    },
    {
     "cell_type": "code",
     "collapsed": false,
     "input": [
      "mapping_stats = pd.read_csv('http://sauron.ucsd.edu/flotilla_projects/neural_diff_chr22/mapping_stats.csv', index_col=0)\n",
      "mapping_stats.head()"
     ],
     "language": "python",
     "metadata": {},
     "outputs": [
      {
       "html": [
        "<div style=\"max-height:1000px;max-width:1500px;overflow:auto;\">\n",
        "<table border=\"1\" class=\"dataframe\">\n",
        "  <thead>\n",
        "    <tr style=\"text-align: right;\">\n",
        "      <th></th>\n",
        "      <th>Started job on</th>\n",
        "      <th>Started mapping on</th>\n",
        "      <th>Finished on</th>\n",
        "      <th>Mapping speed, Million of reads per hour</th>\n",
        "      <th>Number of input reads</th>\n",
        "      <th>Average input read length</th>\n",
        "      <th>Uniquely mapped reads number</th>\n",
        "      <th>Uniquely mapped reads %</th>\n",
        "      <th>Average mapped length</th>\n",
        "      <th>Number of splices: Total</th>\n",
        "      <th>...</th>\n",
        "      <th>Number of reads mapped to too many loci</th>\n",
        "      <th>% of reads mapped to too many loci</th>\n",
        "      <th>% of reads unmapped: too many mismatches</th>\n",
        "      <th>% of reads unmapped: too short</th>\n",
        "      <th>% of reads unmapped: other</th>\n",
        "      <th>% splices: Annotated (sjdb)</th>\n",
        "      <th>% splices: GT/AG</th>\n",
        "      <th>% splices: GC/AG</th>\n",
        "      <th>% splices: AT/AC</th>\n",
        "      <th>% splices: Non-canonical</th>\n",
        "    </tr>\n",
        "  </thead>\n",
        "  <tbody>\n",
        "    <tr>\n",
        "      <th>M1_01</th>\n",
        "      <td> Apr 29 19:58:18</td>\n",
        "      <td> Apr 29 19:58:40</td>\n",
        "      <td> Apr 29 20:01:22</td>\n",
        "      <td> 274.58</td>\n",
        "      <td> 12356210</td>\n",
        "      <td> 184</td>\n",
        "      <td> 10684874</td>\n",
        "      <td> 86.47</td>\n",
        "      <td> 181.36</td>\n",
        "      <td> 4629200</td>\n",
        "      <td>...</td>\n",
        "      <td> 19107</td>\n",
        "      <td> 0.15</td>\n",
        "      <td> 0</td>\n",
        "      <td> 11.02</td>\n",
        "      <td> 0.07</td>\n",
        "      <td> 98.500238</td>\n",
        "      <td> 99.251836</td>\n",
        "      <td> 0.516029</td>\n",
        "      <td> 0.109112</td>\n",
        "      <td> 0.123023</td>\n",
        "    </tr>\n",
        "    <tr>\n",
        "      <th>M1_02</th>\n",
        "      <td> Apr 29 17:59:28</td>\n",
        "      <td> Apr 29 18:01:21</td>\n",
        "      <td> Apr 29 18:19:15</td>\n",
        "      <td>  41.62</td>\n",
        "      <td> 12416854</td>\n",
        "      <td> 184</td>\n",
        "      <td> 11235549</td>\n",
        "      <td> 90.49</td>\n",
        "      <td> 181.70</td>\n",
        "      <td> 2706035</td>\n",
        "      <td>...</td>\n",
        "      <td> 15330</td>\n",
        "      <td> 0.12</td>\n",
        "      <td> 0</td>\n",
        "      <td>  7.59</td>\n",
        "      <td> 0.04</td>\n",
        "      <td> 98.155715</td>\n",
        "      <td> 99.029318</td>\n",
        "      <td> 0.766213</td>\n",
        "      <td> 0.077013</td>\n",
        "      <td> 0.127456</td>\n",
        "    </tr>\n",
        "    <tr>\n",
        "      <th>M1_03</th>\n",
        "      <td> Apr 29 19:35:13</td>\n",
        "      <td> Apr 29 19:35:39</td>\n",
        "      <td> Apr 29 19:39:41</td>\n",
        "      <td> 294.61</td>\n",
        "      <td> 19804563</td>\n",
        "      <td> 184</td>\n",
        "      <td> 17584862</td>\n",
        "      <td> 88.79</td>\n",
        "      <td> 181.38</td>\n",
        "      <td> 8496381</td>\n",
        "      <td>...</td>\n",
        "      <td> 22134</td>\n",
        "      <td> 0.11</td>\n",
        "      <td> 0</td>\n",
        "      <td>  8.55</td>\n",
        "      <td> 0.04</td>\n",
        "      <td> 98.976329</td>\n",
        "      <td> 99.134149</td>\n",
        "      <td> 0.632493</td>\n",
        "      <td> 0.117073</td>\n",
        "      <td> 0.116285</td>\n",
        "    </tr>\n",
        "    <tr>\n",
        "      <th>M1_04</th>\n",
        "      <td> Apr 29 18:30:05</td>\n",
        "      <td> Apr 29 18:30:31</td>\n",
        "      <td> Apr 29 18:32:29</td>\n",
        "      <td> 263.10</td>\n",
        "      <td>  8623786</td>\n",
        "      <td> 184</td>\n",
        "      <td>  7599917</td>\n",
        "      <td> 88.13</td>\n",
        "      <td> 181.29</td>\n",
        "      <td> 4547233</td>\n",
        "      <td>...</td>\n",
        "      <td> 12917</td>\n",
        "      <td> 0.15</td>\n",
        "      <td> 0</td>\n",
        "      <td>  8.93</td>\n",
        "      <td> 0.04</td>\n",
        "      <td> 99.004713</td>\n",
        "      <td> 99.043924</td>\n",
        "      <td> 0.717161</td>\n",
        "      <td> 0.105801</td>\n",
        "      <td> 0.133114</td>\n",
        "    </tr>\n",
        "    <tr>\n",
        "      <th>M1_05</th>\n",
        "      <td> Apr 29 19:19:31</td>\n",
        "      <td> Apr 29 19:19:53</td>\n",
        "      <td> Apr 29 19:22:28</td>\n",
        "      <td> 267.28</td>\n",
        "      <td> 11507835</td>\n",
        "      <td> 184</td>\n",
        "      <td>  9726225</td>\n",
        "      <td> 84.52</td>\n",
        "      <td> 181.33</td>\n",
        "      <td> 3429570</td>\n",
        "      <td>...</td>\n",
        "      <td> 11731</td>\n",
        "      <td> 0.10</td>\n",
        "      <td> 0</td>\n",
        "      <td> 13.28</td>\n",
        "      <td> 0.04</td>\n",
        "      <td> 98.303490</td>\n",
        "      <td> 98.887120</td>\n",
        "      <td> 0.901192</td>\n",
        "      <td> 0.117478</td>\n",
        "      <td> 0.094210</td>\n",
        "    </tr>\n",
        "  </tbody>\n",
        "</table>\n",
        "<p>5 rows \u00d7 32 columns</p>\n",
        "</div>"
       ],
       "metadata": {},
       "output_type": "pyout",
       "prompt_number": 9,
       "text": [
        "        Started job on Started mapping on      Finished on  \\\n",
        "M1_01  Apr 29 19:58:18    Apr 29 19:58:40  Apr 29 20:01:22   \n",
        "M1_02  Apr 29 17:59:28    Apr 29 18:01:21  Apr 29 18:19:15   \n",
        "M1_03  Apr 29 19:35:13    Apr 29 19:35:39  Apr 29 19:39:41   \n",
        "M1_04  Apr 29 18:30:05    Apr 29 18:30:31  Apr 29 18:32:29   \n",
        "M1_05  Apr 29 19:19:31    Apr 29 19:19:53  Apr 29 19:22:28   \n",
        "\n",
        "       Mapping speed, Million of reads per hour  Number of input reads  \\\n",
        "M1_01                                    274.58               12356210   \n",
        "M1_02                                     41.62               12416854   \n",
        "M1_03                                    294.61               19804563   \n",
        "M1_04                                    263.10                8623786   \n",
        "M1_05                                    267.28               11507835   \n",
        "\n",
        "       Average input read length  Uniquely mapped reads number  \\\n",
        "M1_01                        184                      10684874   \n",
        "M1_02                        184                      11235549   \n",
        "M1_03                        184                      17584862   \n",
        "M1_04                        184                       7599917   \n",
        "M1_05                        184                       9726225   \n",
        "\n",
        "       Uniquely mapped reads %  Average mapped length  \\\n",
        "M1_01                    86.47                 181.36   \n",
        "M1_02                    90.49                 181.70   \n",
        "M1_03                    88.79                 181.38   \n",
        "M1_04                    88.13                 181.29   \n",
        "M1_05                    84.52                 181.33   \n",
        "\n",
        "       Number of splices: Total            ...             \\\n",
        "M1_01                   4629200            ...              \n",
        "M1_02                   2706035            ...              \n",
        "M1_03                   8496381            ...              \n",
        "M1_04                   4547233            ...              \n",
        "M1_05                   3429570            ...              \n",
        "\n",
        "       Number of reads mapped to too many loci  \\\n",
        "M1_01                                    19107   \n",
        "M1_02                                    15330   \n",
        "M1_03                                    22134   \n",
        "M1_04                                    12917   \n",
        "M1_05                                    11731   \n",
        "\n",
        "       % of reads mapped to too many loci  \\\n",
        "M1_01                                0.15   \n",
        "M1_02                                0.12   \n",
        "M1_03                                0.11   \n",
        "M1_04                                0.15   \n",
        "M1_05                                0.10   \n",
        "\n",
        "       % of reads unmapped: too many mismatches  \\\n",
        "M1_01                                         0   \n",
        "M1_02                                         0   \n",
        "M1_03                                         0   \n",
        "M1_04                                         0   \n",
        "M1_05                                         0   \n",
        "\n",
        "       % of reads unmapped: too short  % of reads unmapped: other  \\\n",
        "M1_01                           11.02                        0.07   \n",
        "M1_02                            7.59                        0.04   \n",
        "M1_03                            8.55                        0.04   \n",
        "M1_04                            8.93                        0.04   \n",
        "M1_05                           13.28                        0.04   \n",
        "\n",
        "       % splices: Annotated (sjdb)  % splices: GT/AG  % splices: GC/AG  \\\n",
        "M1_01                    98.500238         99.251836          0.516029   \n",
        "M1_02                    98.155715         99.029318          0.766213   \n",
        "M1_03                    98.976329         99.134149          0.632493   \n",
        "M1_04                    99.004713         99.043924          0.717161   \n",
        "M1_05                    98.303490         98.887120          0.901192   \n",
        "\n",
        "       % splices: AT/AC  % splices: Non-canonical  \n",
        "M1_01          0.109112                  0.123023  \n",
        "M1_02          0.077013                  0.127456  \n",
        "M1_03          0.117073                  0.116285  \n",
        "M1_04          0.105801                  0.133114  \n",
        "M1_05          0.117478                  0.094210  \n",
        "\n",
        "[5 rows x 32 columns]"
       ]
      }
     ],
     "prompt_number": 9
    },
    {
     "cell_type": "heading",
     "level": 2,
     "metadata": {},
     "source": [
      "Feature data"
     ]
    },
    {
     "cell_type": "markdown",
     "metadata": {},
     "source": [
      "Now we'll get to the more interesting part, where we have to deal with the data about the features and splicing events."
     ]
    },
    {
     "cell_type": "heading",
     "level": 3,
     "metadata": {},
     "source": [
      "Expression feature data"
     ]
    },
    {
     "cell_type": "code",
     "collapsed": false,
     "input": [
      "expression_feature = pd.read_csv('http://sauron.ucsd.edu/flotilla_projects/neural_diff_chr22/expression_feature.csv', \n",
      "                                 index_col=0)\n",
      "expression_feature.head()"
     ],
     "language": "python",
     "metadata": {},
     "outputs": [
      {
       "html": [
        "<div style=\"max-height:1000px;max-width:1500px;overflow:auto;\">\n",
        "<table border=\"1\" class=\"dataframe\">\n",
        "  <thead>\n",
        "    <tr style=\"text-align: right;\">\n",
        "      <th></th>\n",
        "      <th>biomark_neural_panel</th>\n",
        "      <th>confident_rbp</th>\n",
        "      <th>gencode_id</th>\n",
        "      <th>gene_name</th>\n",
        "      <th>gene_status</th>\n",
        "      <th>gene_type</th>\n",
        "      <th>havana_gene</th>\n",
        "      <th>level</th>\n",
        "      <th>rbp</th>\n",
        "      <th>ribosomal</th>\n",
        "      <th>ribosomal_subunit</th>\n",
        "      <th>synapse</th>\n",
        "      <th>tag</th>\n",
        "      <th>transcript_id</th>\n",
        "      <th>transcript_name</th>\n",
        "      <th>transcript_status</th>\n",
        "      <th>transcript_type</th>\n",
        "      <th>transcription_factor</th>\n",
        "    </tr>\n",
        "  </thead>\n",
        "  <tbody>\n",
        "    <tr>\n",
        "      <th>ENSG00000233866</th>\n",
        "      <td> False</td>\n",
        "      <td> False</td>\n",
        "      <td> ENSG00000233866.1</td>\n",
        "      <td>  LA16c-4G1.3</td>\n",
        "      <td> KNOWN</td>\n",
        "      <td>    lincRNA</td>\n",
        "      <td> OTTHUMG00000140195.1</td>\n",
        "      <td> 2</td>\n",
        "      <td> False</td>\n",
        "      <td> False</td>\n",
        "      <td> False</td>\n",
        "      <td> False</td>\n",
        "      <td>            NaN</td>\n",
        "      <td> ENSG00000233866.1</td>\n",
        "      <td>  LA16c-4G1.3</td>\n",
        "      <td> KNOWN</td>\n",
        "      <td>    lincRNA</td>\n",
        "      <td> False</td>\n",
        "    </tr>\n",
        "    <tr>\n",
        "      <th>ENSG00000229286</th>\n",
        "      <td> False</td>\n",
        "      <td> False</td>\n",
        "      <td> ENSG00000229286.1</td>\n",
        "      <td>  LA16c-4G1.4</td>\n",
        "      <td> KNOWN</td>\n",
        "      <td> pseudogene</td>\n",
        "      <td> OTTHUMG00000140193.1</td>\n",
        "      <td> 2</td>\n",
        "      <td> False</td>\n",
        "      <td> False</td>\n",
        "      <td> False</td>\n",
        "      <td> False</td>\n",
        "      <td>            NaN</td>\n",
        "      <td> ENSG00000229286.1</td>\n",
        "      <td>  LA16c-4G1.4</td>\n",
        "      <td> KNOWN</td>\n",
        "      <td> pseudogene</td>\n",
        "      <td> False</td>\n",
        "    </tr>\n",
        "    <tr>\n",
        "      <th>ENSG00000235265</th>\n",
        "      <td> False</td>\n",
        "      <td> False</td>\n",
        "      <td> ENSG00000235265.1</td>\n",
        "      <td>  LA16c-4G1.5</td>\n",
        "      <td> KNOWN</td>\n",
        "      <td> pseudogene</td>\n",
        "      <td> OTTHUMG00000140197.1</td>\n",
        "      <td> 2</td>\n",
        "      <td> False</td>\n",
        "      <td> False</td>\n",
        "      <td> False</td>\n",
        "      <td> False</td>\n",
        "      <td>            NaN</td>\n",
        "      <td> ENSG00000235265.1</td>\n",
        "      <td>  LA16c-4G1.5</td>\n",
        "      <td> KNOWN</td>\n",
        "      <td> pseudogene</td>\n",
        "      <td> False</td>\n",
        "    </tr>\n",
        "    <tr>\n",
        "      <th>ENSG00000223875</th>\n",
        "      <td> False</td>\n",
        "      <td> False</td>\n",
        "      <td> ENSG00000223875.1</td>\n",
        "      <td>       NBEAP3</td>\n",
        "      <td> KNOWN</td>\n",
        "      <td> pseudogene</td>\n",
        "      <td> OTTHUMG00000140196.1</td>\n",
        "      <td> 2</td>\n",
        "      <td> False</td>\n",
        "      <td> False</td>\n",
        "      <td> False</td>\n",
        "      <td> False</td>\n",
        "      <td>            NaN</td>\n",
        "      <td> ENSG00000223875.1</td>\n",
        "      <td>       NBEAP3</td>\n",
        "      <td> KNOWN</td>\n",
        "      <td> pseudogene</td>\n",
        "      <td> False</td>\n",
        "    </tr>\n",
        "    <tr>\n",
        "      <th>ENSG00000215270</th>\n",
        "      <td> False</td>\n",
        "      <td> False</td>\n",
        "      <td> ENSG00000215270.3</td>\n",
        "      <td> LA16c-60H5.7</td>\n",
        "      <td> KNOWN</td>\n",
        "      <td> pseudogene</td>\n",
        "      <td> OTTHUMG00000140200.1</td>\n",
        "      <td> 1</td>\n",
        "      <td> False</td>\n",
        "      <td> False</td>\n",
        "      <td> False</td>\n",
        "      <td> False</td>\n",
        "      <td> pseudo_consens</td>\n",
        "      <td> ENSG00000215270.3</td>\n",
        "      <td> LA16c-60H5.7</td>\n",
        "      <td> KNOWN</td>\n",
        "      <td> pseudogene</td>\n",
        "      <td> False</td>\n",
        "    </tr>\n",
        "  </tbody>\n",
        "</table>\n",
        "</div>"
       ],
       "metadata": {},
       "output_type": "pyout",
       "prompt_number": 11,
       "text": [
        "                biomark_neural_panel confident_rbp         gencode_id  \\\n",
        "ENSG00000233866                False         False  ENSG00000233866.1   \n",
        "ENSG00000229286                False         False  ENSG00000229286.1   \n",
        "ENSG00000235265                False         False  ENSG00000235265.1   \n",
        "ENSG00000223875                False         False  ENSG00000223875.1   \n",
        "ENSG00000215270                False         False  ENSG00000215270.3   \n",
        "\n",
        "                    gene_name gene_status   gene_type           havana_gene  \\\n",
        "ENSG00000233866   LA16c-4G1.3       KNOWN     lincRNA  OTTHUMG00000140195.1   \n",
        "ENSG00000229286   LA16c-4G1.4       KNOWN  pseudogene  OTTHUMG00000140193.1   \n",
        "ENSG00000235265   LA16c-4G1.5       KNOWN  pseudogene  OTTHUMG00000140197.1   \n",
        "ENSG00000223875        NBEAP3       KNOWN  pseudogene  OTTHUMG00000140196.1   \n",
        "ENSG00000215270  LA16c-60H5.7       KNOWN  pseudogene  OTTHUMG00000140200.1   \n",
        "\n",
        "                 level    rbp ribosomal ribosomal_subunit synapse  \\\n",
        "ENSG00000233866      2  False     False             False   False   \n",
        "ENSG00000229286      2  False     False             False   False   \n",
        "ENSG00000235265      2  False     False             False   False   \n",
        "ENSG00000223875      2  False     False             False   False   \n",
        "ENSG00000215270      1  False     False             False   False   \n",
        "\n",
        "                            tag      transcript_id transcript_name  \\\n",
        "ENSG00000233866             NaN  ENSG00000233866.1     LA16c-4G1.3   \n",
        "ENSG00000229286             NaN  ENSG00000229286.1     LA16c-4G1.4   \n",
        "ENSG00000235265             NaN  ENSG00000235265.1     LA16c-4G1.5   \n",
        "ENSG00000223875             NaN  ENSG00000223875.1          NBEAP3   \n",
        "ENSG00000215270  pseudo_consens  ENSG00000215270.3    LA16c-60H5.7   \n",
        "\n",
        "                transcript_status transcript_type transcription_factor  \n",
        "ENSG00000233866             KNOWN         lincRNA                False  \n",
        "ENSG00000229286             KNOWN      pseudogene                False  \n",
        "ENSG00000235265             KNOWN      pseudogene                False  \n",
        "ENSG00000223875             KNOWN      pseudogene                False  \n",
        "ENSG00000215270             KNOWN      pseudogene                False  "
       ]
      }
     ],
     "prompt_number": 11
    },
    {
     "cell_type": "markdown",
     "metadata": {},
     "source": [
      "Notice that the index, or row names of this dataframe contains the ids from `expression`, and has a bunch of columns indicating whether this feature belongs to a group, like `confident_rbp` for \"confident RNA-binding proteins\", or a category such as the `gene_type`. All of these will be used, but I don't want to use *all* of them, so let's make a list of columns to ignore."
     ]
    },
    {
     "cell_type": "code",
     "collapsed": false,
     "input": [
      "ignore_subset_cols = [\"ensembl_gene\", \"gencode_gene\", \"gencode_transcript\", \"ensembl_transcript\", \n",
      "                      \"gene_name\", \"transcript_id\", \"havana_gene\", \"gencode_id\"]\n"
     ],
     "language": "python",
     "metadata": {},
     "outputs": [],
     "prompt_number": 12
    },
    {
     "cell_type": "markdown",
     "metadata": {},
     "source": [
      "Also, we'll want to remember that we want to rename genes using the **gene_name** column."
     ]
    },
    {
     "cell_type": "heading",
     "level": 3,
     "metadata": {},
     "source": [
      "Splicing feature data"
     ]
    },
    {
     "cell_type": "markdown",
     "metadata": {},
     "source": [
      "Next, let's get the metadata about the splicing events."
     ]
    },
    {
     "cell_type": "code",
     "collapsed": false,
     "input": [
      "splicing_feature = pd.read_csv('http://sauron.ucsd.edu/flotilla_projects/neural_diff_chr22/splicing_feature.csv', \n",
      "                                 index_col=0)\n",
      "splicing_feature.head()"
     ],
     "language": "python",
     "metadata": {},
     "outputs": [
      {
       "output_type": "stream",
       "stream": "stderr",
       "text": [
        "[autoreload of flotilla.data_model.base failed: Traceback (most recent call last):\n",
        "  File \"/Users/olga/workspace-git/ipython/IPython/extensions/autoreload.py\", line 247, in check\n",
        "    superreload(m, reload, self.old_objects)\n",
        "AttributeError: 'NoneType' object has no attribute '_subset'\n",
        "]\n"
       ]
      },
      {
       "html": [
        "<div style=\"max-height:1000px;max-width:1500px;overflow:auto;\">\n",
        "<table border=\"1\" class=\"dataframe\">\n",
        "  <thead>\n",
        "    <tr style=\"text-align: right;\">\n",
        "      <th></th>\n",
        "      <th>gene_type</th>\n",
        "      <th>gene_name</th>\n",
        "      <th>gencode_transcript</th>\n",
        "      <th>ensembl_transcript</th>\n",
        "      <th>ensembl_gene</th>\n",
        "      <th>gencode_gene</th>\n",
        "      <th>splice_type</th>\n",
        "      <th>biomark_neural_panel</th>\n",
        "      <th>confident_rbp</th>\n",
        "      <th>rbp</th>\n",
        "      <th>ribosomal</th>\n",
        "      <th>ribosomal_subunit</th>\n",
        "      <th>synapse</th>\n",
        "      <th>transcription_factor</th>\n",
        "    </tr>\n",
        "  </thead>\n",
        "  <tbody>\n",
        "    <tr>\n",
        "      <th>chr22:16187165:16187302:-@chr22:16186946|16186953:16186811:-</th>\n",
        "      <td> processed_transcript</td>\n",
        "      <td> AP000525.9</td>\n",
        "      <td> ENST00000458623.1,ENST00000383038.3,ENST000004...</td>\n",
        "      <td> ENST00000447898,ENST00000383038,ENST0000043778...</td>\n",
        "      <td> ENSG00000206195</td>\n",
        "      <td> ENSG00000206195.6</td>\n",
        "      <td>      A3SS</td>\n",
        "      <td> False</td>\n",
        "      <td> False</td>\n",
        "      <td> False</td>\n",
        "      <td> False</td>\n",
        "      <td> False</td>\n",
        "      <td> False</td>\n",
        "      <td> False</td>\n",
        "    </tr>\n",
        "    <tr>\n",
        "      <th>chr22:16189032:16189143:-@chr22:16187278|16187302:16187165:-</th>\n",
        "      <td> processed_transcript</td>\n",
        "      <td> AP000525.9</td>\n",
        "      <td> ENST00000383038.3,ENST00000447898.1,ENST000004...</td>\n",
        "      <td> ENST00000447898,ENST00000383038,ENST0000043778...</td>\n",
        "      <td> ENSG00000206195</td>\n",
        "      <td> ENSG00000206195.6</td>\n",
        "      <td>      A3SS</td>\n",
        "      <td> False</td>\n",
        "      <td> False</td>\n",
        "      <td> False</td>\n",
        "      <td> False</td>\n",
        "      <td> False</td>\n",
        "      <td> False</td>\n",
        "      <td> False</td>\n",
        "    </tr>\n",
        "    <tr>\n",
        "      <th>chr22:16190681:16190791:-@chr22:16189378|16189411:16189264:-</th>\n",
        "      <td> processed_transcript</td>\n",
        "      <td> AP000525.9</td>\n",
        "      <td> ENST00000383038.3,ENST00000447898.1,ENST000004...</td>\n",
        "      <td> ENST00000447898,ENST00000383038,ENST0000043778...</td>\n",
        "      <td> ENSG00000206195</td>\n",
        "      <td> ENSG00000206195.6</td>\n",
        "      <td>      A3SS</td>\n",
        "      <td> False</td>\n",
        "      <td> False</td>\n",
        "      <td> False</td>\n",
        "      <td> False</td>\n",
        "      <td> False</td>\n",
        "      <td> False</td>\n",
        "      <td> False</td>\n",
        "    </tr>\n",
        "    <tr>\n",
        "      <th>chr22:16455250:16455438:-@chr22:16454933:16455249:-</th>\n",
        "      <td>                  NaN</td>\n",
        "      <td>        NaN</td>\n",
        "      <td>                                               NaN</td>\n",
        "      <td>                                               NaN</td>\n",
        "      <td>             NaN</td>\n",
        "      <td>               NaN</td>\n",
        "      <td> TANDEMUTR</td>\n",
        "      <td>   NaN</td>\n",
        "      <td>   NaN</td>\n",
        "      <td>   NaN</td>\n",
        "      <td>   NaN</td>\n",
        "      <td>   NaN</td>\n",
        "      <td>   NaN</td>\n",
        "      <td>   NaN</td>\n",
        "    </tr>\n",
        "    <tr>\n",
        "      <th>chr22:16598138:16598344:-@chr22:16596905:16598137:-</th>\n",
        "      <td>                  NaN</td>\n",
        "      <td>        NaN</td>\n",
        "      <td>                                               NaN</td>\n",
        "      <td>                                               NaN</td>\n",
        "      <td>             NaN</td>\n",
        "      <td>               NaN</td>\n",
        "      <td> TANDEMUTR</td>\n",
        "      <td>   NaN</td>\n",
        "      <td>   NaN</td>\n",
        "      <td>   NaN</td>\n",
        "      <td>   NaN</td>\n",
        "      <td>   NaN</td>\n",
        "      <td>   NaN</td>\n",
        "      <td>   NaN</td>\n",
        "    </tr>\n",
        "  </tbody>\n",
        "</table>\n",
        "</div>"
       ],
       "metadata": {},
       "output_type": "pyout",
       "prompt_number": 13,
       "text": [
        "                                                                         gene_type  \\\n",
        "chr22:16187165:16187302:-@chr22:16186946|16186953:16186811:-  processed_transcript   \n",
        "chr22:16189032:16189143:-@chr22:16187278|16187302:16187165:-  processed_transcript   \n",
        "chr22:16190681:16190791:-@chr22:16189378|16189411:16189264:-  processed_transcript   \n",
        "chr22:16455250:16455438:-@chr22:16454933:16455249:-                            NaN   \n",
        "chr22:16598138:16598344:-@chr22:16596905:16598137:-                            NaN   \n",
        "\n",
        "                                                               gene_name  \\\n",
        "chr22:16187165:16187302:-@chr22:16186946|16186953:16186811:-  AP000525.9   \n",
        "chr22:16189032:16189143:-@chr22:16187278|16187302:16187165:-  AP000525.9   \n",
        "chr22:16190681:16190791:-@chr22:16189378|16189411:16189264:-  AP000525.9   \n",
        "chr22:16455250:16455438:-@chr22:16454933:16455249:-                  NaN   \n",
        "chr22:16598138:16598344:-@chr22:16596905:16598137:-                  NaN   \n",
        "\n",
        "                                                                                             gencode_transcript  \\\n",
        "chr22:16187165:16187302:-@chr22:16186946|16186953:16186811:-  ENST00000458623.1,ENST00000383038.3,ENST000004...   \n",
        "chr22:16189032:16189143:-@chr22:16187278|16187302:16187165:-  ENST00000383038.3,ENST00000447898.1,ENST000004...   \n",
        "chr22:16190681:16190791:-@chr22:16189378|16189411:16189264:-  ENST00000383038.3,ENST00000447898.1,ENST000004...   \n",
        "chr22:16455250:16455438:-@chr22:16454933:16455249:-                                                         NaN   \n",
        "chr22:16598138:16598344:-@chr22:16596905:16598137:-                                                         NaN   \n",
        "\n",
        "                                                                                             ensembl_transcript  \\\n",
        "chr22:16187165:16187302:-@chr22:16186946|16186953:16186811:-  ENST00000447898,ENST00000383038,ENST0000043778...   \n",
        "chr22:16189032:16189143:-@chr22:16187278|16187302:16187165:-  ENST00000447898,ENST00000383038,ENST0000043778...   \n",
        "chr22:16190681:16190791:-@chr22:16189378|16189411:16189264:-  ENST00000447898,ENST00000383038,ENST0000043778...   \n",
        "chr22:16455250:16455438:-@chr22:16454933:16455249:-                                                         NaN   \n",
        "chr22:16598138:16598344:-@chr22:16596905:16598137:-                                                         NaN   \n",
        "\n",
        "                                                                 ensembl_gene  \\\n",
        "chr22:16187165:16187302:-@chr22:16186946|16186953:16186811:-  ENSG00000206195   \n",
        "chr22:16189032:16189143:-@chr22:16187278|16187302:16187165:-  ENSG00000206195   \n",
        "chr22:16190681:16190791:-@chr22:16189378|16189411:16189264:-  ENSG00000206195   \n",
        "chr22:16455250:16455438:-@chr22:16454933:16455249:-                       NaN   \n",
        "chr22:16598138:16598344:-@chr22:16596905:16598137:-                       NaN   \n",
        "\n",
        "                                                                   gencode_gene  \\\n",
        "chr22:16187165:16187302:-@chr22:16186946|16186953:16186811:-  ENSG00000206195.6   \n",
        "chr22:16189032:16189143:-@chr22:16187278|16187302:16187165:-  ENSG00000206195.6   \n",
        "chr22:16190681:16190791:-@chr22:16189378|16189411:16189264:-  ENSG00000206195.6   \n",
        "chr22:16455250:16455438:-@chr22:16454933:16455249:-                         NaN   \n",
        "chr22:16598138:16598344:-@chr22:16596905:16598137:-                         NaN   \n",
        "\n",
        "                                                             splice_type  \\\n",
        "chr22:16187165:16187302:-@chr22:16186946|16186953:16186811:-        A3SS   \n",
        "chr22:16189032:16189143:-@chr22:16187278|16187302:16187165:-        A3SS   \n",
        "chr22:16190681:16190791:-@chr22:16189378|16189411:16189264:-        A3SS   \n",
        "chr22:16455250:16455438:-@chr22:16454933:16455249:-            TANDEMUTR   \n",
        "chr22:16598138:16598344:-@chr22:16596905:16598137:-            TANDEMUTR   \n",
        "\n",
        "                                                             biomark_neural_panel  \\\n",
        "chr22:16187165:16187302:-@chr22:16186946|16186953:16186811:-                False   \n",
        "chr22:16189032:16189143:-@chr22:16187278|16187302:16187165:-                False   \n",
        "chr22:16190681:16190791:-@chr22:16189378|16189411:16189264:-                False   \n",
        "chr22:16455250:16455438:-@chr22:16454933:16455249:-                           NaN   \n",
        "chr22:16598138:16598344:-@chr22:16596905:16598137:-                           NaN   \n",
        "\n",
        "                                                             confident_rbp  \\\n",
        "chr22:16187165:16187302:-@chr22:16186946|16186953:16186811:-         False   \n",
        "chr22:16189032:16189143:-@chr22:16187278|16187302:16187165:-         False   \n",
        "chr22:16190681:16190791:-@chr22:16189378|16189411:16189264:-         False   \n",
        "chr22:16455250:16455438:-@chr22:16454933:16455249:-                    NaN   \n",
        "chr22:16598138:16598344:-@chr22:16596905:16598137:-                    NaN   \n",
        "\n",
        "                                                                rbp ribosomal  \\\n",
        "chr22:16187165:16187302:-@chr22:16186946|16186953:16186811:-  False     False   \n",
        "chr22:16189032:16189143:-@chr22:16187278|16187302:16187165:-  False     False   \n",
        "chr22:16190681:16190791:-@chr22:16189378|16189411:16189264:-  False     False   \n",
        "chr22:16455250:16455438:-@chr22:16454933:16455249:-             NaN       NaN   \n",
        "chr22:16598138:16598344:-@chr22:16596905:16598137:-             NaN       NaN   \n",
        "\n",
        "                                                             ribosomal_subunit  \\\n",
        "chr22:16187165:16187302:-@chr22:16186946|16186953:16186811:-             False   \n",
        "chr22:16189032:16189143:-@chr22:16187278|16187302:16187165:-             False   \n",
        "chr22:16190681:16190791:-@chr22:16189378|16189411:16189264:-             False   \n",
        "chr22:16455250:16455438:-@chr22:16454933:16455249:-                        NaN   \n",
        "chr22:16598138:16598344:-@chr22:16596905:16598137:-                        NaN   \n",
        "\n",
        "                                                             synapse  \\\n",
        "chr22:16187165:16187302:-@chr22:16186946|16186953:16186811:-   False   \n",
        "chr22:16189032:16189143:-@chr22:16187278|16187302:16187165:-   False   \n",
        "chr22:16190681:16190791:-@chr22:16189378|16189411:16189264:-   False   \n",
        "chr22:16455250:16455438:-@chr22:16454933:16455249:-              NaN   \n",
        "chr22:16598138:16598344:-@chr22:16596905:16598137:-              NaN   \n",
        "\n",
        "                                                             transcription_factor  \n",
        "chr22:16187165:16187302:-@chr22:16186946|16186953:16186811:-                False  \n",
        "chr22:16189032:16189143:-@chr22:16187278|16187302:16187165:-                False  \n",
        "chr22:16190681:16190791:-@chr22:16189378|16189411:16189264:-                False  \n",
        "chr22:16455250:16455438:-@chr22:16454933:16455249:-                           NaN  \n",
        "chr22:16598138:16598344:-@chr22:16596905:16598137:-                           NaN  "
       ]
      }
     ],
     "prompt_number": 13
    },
    {
     "cell_type": "markdown",
     "metadata": {},
     "source": [
      "Again, there's a lot of columns here! Looks like we want to use **gene_name** to convert the crazy MISO ids to a known gene name"
     ]
    },
    {
     "cell_type": "heading",
     "level": 2,
     "metadata": {},
     "source": [
      "Create new phenotype groups with metadata"
     ]
    },
    {
     "cell_type": "markdown",
     "metadata": {},
     "source": [
      "Now that we have all the data that we want, let's manipulate the `metadata` DataFrame to have some more informative data columns. Let's add individual columns of each phenotype."
     ]
    },
    {
     "cell_type": "code",
     "collapsed": false,
     "input": [
      "for phenotype, df in metadata.groupby('phenotype'):\n",
      "    metadata[phenotype] = False\n",
      "    metadata.ix[df.index, phenotype] = True\n",
      "metadata.head()"
     ],
     "language": "python",
     "metadata": {},
     "outputs": [
      {
       "html": [
        "<div style=\"max-height:1000px;max-width:1500px;overflow:auto;\">\n",
        "<table border=\"1\" class=\"dataframe\">\n",
        "  <thead>\n",
        "    <tr style=\"text-align: right;\">\n",
        "      <th></th>\n",
        "      <th>pooled</th>\n",
        "      <th>phenotype</th>\n",
        "      <th>outlier</th>\n",
        "      <th>MN</th>\n",
        "      <th>NPC</th>\n",
        "      <th>iPSC</th>\n",
        "      <th>sMN</th>\n",
        "    </tr>\n",
        "    <tr>\n",
        "      <th>original_name</th>\n",
        "      <th></th>\n",
        "      <th></th>\n",
        "      <th></th>\n",
        "      <th></th>\n",
        "      <th></th>\n",
        "      <th></th>\n",
        "      <th></th>\n",
        "    </tr>\n",
        "  </thead>\n",
        "  <tbody>\n",
        "    <tr>\n",
        "      <th>M1_01</th>\n",
        "      <td> False</td>\n",
        "      <td> MN</td>\n",
        "      <td> False</td>\n",
        "      <td> True</td>\n",
        "      <td> False</td>\n",
        "      <td> False</td>\n",
        "      <td> False</td>\n",
        "    </tr>\n",
        "    <tr>\n",
        "      <th>M1_02</th>\n",
        "      <td> False</td>\n",
        "      <td> MN</td>\n",
        "      <td> False</td>\n",
        "      <td> True</td>\n",
        "      <td> False</td>\n",
        "      <td> False</td>\n",
        "      <td> False</td>\n",
        "    </tr>\n",
        "    <tr>\n",
        "      <th>M1_03</th>\n",
        "      <td> False</td>\n",
        "      <td> MN</td>\n",
        "      <td> False</td>\n",
        "      <td> True</td>\n",
        "      <td> False</td>\n",
        "      <td> False</td>\n",
        "      <td> False</td>\n",
        "    </tr>\n",
        "    <tr>\n",
        "      <th>M1_04</th>\n",
        "      <td> False</td>\n",
        "      <td> MN</td>\n",
        "      <td> False</td>\n",
        "      <td> True</td>\n",
        "      <td> False</td>\n",
        "      <td> False</td>\n",
        "      <td> False</td>\n",
        "    </tr>\n",
        "    <tr>\n",
        "      <th>M1_05</th>\n",
        "      <td> False</td>\n",
        "      <td> MN</td>\n",
        "      <td> False</td>\n",
        "      <td> True</td>\n",
        "      <td> False</td>\n",
        "      <td> False</td>\n",
        "      <td> False</td>\n",
        "    </tr>\n",
        "  </tbody>\n",
        "</table>\n",
        "</div>"
       ],
       "metadata": {},
       "output_type": "pyout",
       "prompt_number": 15,
       "text": [
        "              pooled phenotype outlier    MN    NPC   iPSC    sMN\n",
        "original_name                                                    \n",
        "M1_01          False        MN   False  True  False  False  False\n",
        "M1_02          False        MN   False  True  False  False  False\n",
        "M1_03          False        MN   False  True  False  False  False\n",
        "M1_04          False        MN   False  True  False  False  False\n",
        "M1_05          False        MN   False  True  False  False  False"
       ]
      }
     ],
     "prompt_number": 15
    },
    {
     "cell_type": "markdown",
     "metadata": {},
     "source": [
      "Now, let's create the \"neuron\" group from the motor neurons (MN) and stressed motor neurons (sMN)"
     ]
    },
    {
     "cell_type": "code",
     "collapsed": false,
     "input": [
      "metadata['neuron'] = metadata.MN | metadata.sMN\n",
      "metadata.head()"
     ],
     "language": "python",
     "metadata": {},
     "outputs": [
      {
       "html": [
        "<div style=\"max-height:1000px;max-width:1500px;overflow:auto;\">\n",
        "<table border=\"1\" class=\"dataframe\">\n",
        "  <thead>\n",
        "    <tr style=\"text-align: right;\">\n",
        "      <th></th>\n",
        "      <th>pooled</th>\n",
        "      <th>phenotype</th>\n",
        "      <th>outlier</th>\n",
        "      <th>MN</th>\n",
        "      <th>NPC</th>\n",
        "      <th>iPSC</th>\n",
        "      <th>sMN</th>\n",
        "      <th>neuron</th>\n",
        "    </tr>\n",
        "    <tr>\n",
        "      <th>original_name</th>\n",
        "      <th></th>\n",
        "      <th></th>\n",
        "      <th></th>\n",
        "      <th></th>\n",
        "      <th></th>\n",
        "      <th></th>\n",
        "      <th></th>\n",
        "      <th></th>\n",
        "    </tr>\n",
        "  </thead>\n",
        "  <tbody>\n",
        "    <tr>\n",
        "      <th>M1_01</th>\n",
        "      <td> False</td>\n",
        "      <td> MN</td>\n",
        "      <td> False</td>\n",
        "      <td> True</td>\n",
        "      <td> False</td>\n",
        "      <td> False</td>\n",
        "      <td> False</td>\n",
        "      <td> True</td>\n",
        "    </tr>\n",
        "    <tr>\n",
        "      <th>M1_02</th>\n",
        "      <td> False</td>\n",
        "      <td> MN</td>\n",
        "      <td> False</td>\n",
        "      <td> True</td>\n",
        "      <td> False</td>\n",
        "      <td> False</td>\n",
        "      <td> False</td>\n",
        "      <td> True</td>\n",
        "    </tr>\n",
        "    <tr>\n",
        "      <th>M1_03</th>\n",
        "      <td> False</td>\n",
        "      <td> MN</td>\n",
        "      <td> False</td>\n",
        "      <td> True</td>\n",
        "      <td> False</td>\n",
        "      <td> False</td>\n",
        "      <td> False</td>\n",
        "      <td> True</td>\n",
        "    </tr>\n",
        "    <tr>\n",
        "      <th>M1_04</th>\n",
        "      <td> False</td>\n",
        "      <td> MN</td>\n",
        "      <td> False</td>\n",
        "      <td> True</td>\n",
        "      <td> False</td>\n",
        "      <td> False</td>\n",
        "      <td> False</td>\n",
        "      <td> True</td>\n",
        "    </tr>\n",
        "    <tr>\n",
        "      <th>M1_05</th>\n",
        "      <td> False</td>\n",
        "      <td> MN</td>\n",
        "      <td> False</td>\n",
        "      <td> True</td>\n",
        "      <td> False</td>\n",
        "      <td> False</td>\n",
        "      <td> False</td>\n",
        "      <td> True</td>\n",
        "    </tr>\n",
        "  </tbody>\n",
        "</table>\n",
        "</div>"
       ],
       "metadata": {},
       "output_type": "pyout",
       "prompt_number": 18,
       "text": [
        "              pooled phenotype outlier    MN    NPC   iPSC    sMN neuron\n",
        "original_name                                                           \n",
        "M1_01          False        MN   False  True  False  False  False   True\n",
        "M1_02          False        MN   False  True  False  False  False   True\n",
        "M1_03          False        MN   False  True  False  False  False   True\n",
        "M1_04          False        MN   False  True  False  False  False   True\n",
        "M1_05          False        MN   False  True  False  False  False   True"
       ]
      }
     ],
     "prompt_number": 18
    },
    {
     "cell_type": "markdown",
     "metadata": {},
     "source": [
      "And let's add a \"progenitor\" category with the iPSC and NPCs"
     ]
    },
    {
     "cell_type": "code",
     "collapsed": false,
     "input": [],
     "language": "python",
     "metadata": {},
     "outputs": []
    },
    {
     "cell_type": "markdown",
     "metadata": {},
     "source": [
      "##Requirements for this demonstration.\n",
      "<br>\n",
      "  * Metrics\n",
      "  \n",
      "    * Mapping statistics data file<br>\n",
      "    Combined output from aligner, quantifying number of reads mapped in each sample\n",
      "    <br>\n",
      "    <br>\n",
      "    * Expression data file<br>\n",
      "    [Gencode](http://www.gencodegenes.org/) gene IDs\n",
      "    <br>\n",
      "    <br>\n",
      "    * Splicing data file<br>[MISO](http://miso.readthedocs.org/) qunatification and ids"
     ]
    },
    {
     "cell_type": "markdown",
     "metadata": {
      "slideshow": {
       "slide_type": "fragment"
      }
     },
     "source": [
      "* Metadata\n",
      "\n",
      "  * Sample Colors\n",
      "  \n",
      "  * Pooled samples vs single cells labels\n",
      "  \n",
      "  * A _phenotype_ attribute."
     ]
    },
    {
     "cell_type": "markdown",
     "metadata": {
      "slideshow": {
       "slide_type": "notes"
      }
     },
     "source": [
      "We assume you already have a pipeline in place to analyze and quantify data. If you don't the pipeline is available on the `docker` image. While it is possible to create custom species, that is left for another notebook. Here we assume you have human (hg19/GRCh37) or mouse (mm10/GRCm38) data. "
     ]
    },
    {
     "cell_type": "markdown",
     "metadata": {
      "slideshow": {
       "slide_type": "slide"
      }
     },
     "source": [
      "##Our data\n",
      "<H2 align='center'>_In vitro_ directed differentiation of Craig Venter's fibroblasts</H2>\n",
      "<br>\n",
      "<div align='right'>![craig2](img/craig2.jpg)</div>\n",
      "<H3><div align='right'><font color=#0066CC> Induced pluripotent cells (P) </font> <br>\n",
      "<font color=#29A329> Neural progenitor cells (N) </font><br>\n",
      "<font color=#CC0000> Motor neurons (M) </font><br>\n",
      "<font color=#FF9900> Motor neurons stressed treated with sodium arenite (oxidative stressor) (S) <br> </font></div></H3>"
     ]
    },
    {
     "cell_type": "markdown",
     "metadata": {
      "slideshow": {
       "slide_type": "subslide"
      }
     },
     "source": [
      "<img src=\"img/differentiation.png\">"
     ]
    },
    {
     "cell_type": "markdown",
     "metadata": {
      "slideshow": {
       "slide_type": "slide"
      }
     },
     "source": [
      "##Study Setup\n",
      "<H3 align='center'>Import and Save Data</H3>\n",
      "<br>\n",
      "<div align='right'>Use `pandas` package to manipulate on-disk files.<br>Save the data into a `flotilla` 'datapackage.'</div>"
     ]
    },
    {
     "cell_type": "code",
     "collapsed": false,
     "input": [
      "import flotilla #automatically calls %matplotlib inline\n",
      "import pandas\n",
      "import os\n",
      "from time import time\n",
      "import numpy as np\n",
      "home = os.environ[\"HOME\"]"
     ],
     "language": "python",
     "metadata": {
      "slideshow": {
       "slide_type": "fragment"
      }
     },
     "outputs": []
    },
    {
     "cell_type": "code",
     "collapsed": false,
     "input": [
      "start_time = time()"
     ],
     "language": "python",
     "metadata": {
      "slideshow": {
       "slide_type": "skip"
      }
     },
     "outputs": []
    },
    {
     "cell_type": "markdown",
     "metadata": {
      "slideshow": {
       "slide_type": "slide"
      }
     },
     "source": [
      "<div align='left'><H2>Technical data</H2></div>\n",
      "<H3 align='center'>Mapping statistics.</H3>\n",
      "<br>\n",
      "<div align='right'>Output of [RNA-STAR](https://code.google.com/p/rna-star/) genome aligner.</div>"
     ]
    },
    {
     "cell_type": "code",
     "collapsed": false,
     "input": [
      "a = time()"
     ],
     "language": "python",
     "metadata": {
      "slideshow": {
       "slide_type": "skip"
      }
     },
     "outputs": []
    },
    {
     "cell_type": "code",
     "collapsed": false,
     "input": [],
     "language": "python",
     "metadata": {},
     "outputs": []
    },
    {
     "cell_type": "code",
     "collapsed": false,
     "input": [
      "mapstats_data_file = os.path.join(home, \"flotilla_projects/neural_diff/mapping_stats.tsv\")\n",
      "mapstats_data = pandas.read_table(mapstats_data_file, index_col=0)\n",
      "print \"Loaded data table, size is (samples, genes):\", mapstats_data.shape"
     ],
     "language": "python",
     "metadata": {
      "slideshow": {
       "slide_type": "fragment"
      }
     },
     "outputs": []
    },
    {
     "cell_type": "code",
     "collapsed": false,
     "input": [
      "b = time()\n",
      "\n",
      "print \"This operation took {:.5f} seconds.\".format(b - a)"
     ],
     "language": "python",
     "metadata": {
      "slideshow": {
       "slide_type": "skip"
      }
     },
     "outputs": []
    },
    {
     "cell_type": "code",
     "collapsed": false,
     "input": [
      "mapstats_data.head()"
     ],
     "language": "python",
     "metadata": {
      "slideshow": {
       "slide_type": "fragment"
      }
     },
     "outputs": []
    },
    {
     "cell_type": "markdown",
     "metadata": {
      "slideshow": {
       "slide_type": "subslide"
      }
     },
     "source": [
      "##Expression Data\n",
      "\n",
      "<H3><div align='center'>TPM - Transcripts-per-million.</div></H3>\n",
      "<div align='right'>\n",
      "Quantified with <a href='http://www.cs.cmu.edu/~ckingsf/software/sailfish/'>Sailfish</a>\n",
      "</div>"
     ]
    },
    {
     "cell_type": "code",
     "collapsed": false,
     "input": [
      "a = time()"
     ],
     "language": "python",
     "metadata": {
      "slideshow": {
       "slide_type": "skip"
      }
     },
     "outputs": []
    },
    {
     "cell_type": "code",
     "collapsed": false,
     "input": [
      "expression_data_file = os.path.join(home, \"flotilla_projects/neural_diff/tpm.tsv\")\n",
      "expression_data = pandas.read_table(expression_data_file, index_col=0)\n",
      "print \"Loaded data table, size is (samples, genes):\", expression_data.shape"
     ],
     "language": "python",
     "metadata": {
      "slideshow": {
       "slide_type": "fragment"
      }
     },
     "outputs": []
    },
    {
     "cell_type": "code",
     "collapsed": false,
     "input": [
      "b = time()\n",
      "\n",
      "print \"This operation took {:.1f} seconds.\".format(b - a)"
     ],
     "language": "python",
     "metadata": {
      "slideshow": {
       "slide_type": "skip"
      }
     },
     "outputs": []
    },
    {
     "cell_type": "code",
     "collapsed": false,
     "input": [
      "expression_data.head()"
     ],
     "language": "python",
     "metadata": {
      "slideshow": {
       "slide_type": "fragment"
      }
     },
     "outputs": []
    },
    {
     "cell_type": "markdown",
     "metadata": {
      "slideshow": {
       "slide_type": "subslide"
      }
     },
     "source": [
      "##Splicing Data\n",
      "<H3 align='center'> $\\psi$ - <u>P</u>ercent <u>S</u>pliced <u>I</u>n.</H3>\n",
      "<div align='right'>Quantified with <a href='http://genes.mit.edu/burgelab/miso/'>MISO</a></div>\n",
      "\n",
      "In this case, we filtered by $\\psi$ confidence interval $(CI\\_width < 0.5)$."
     ]
    },
    {
     "cell_type": "code",
     "collapsed": false,
     "input": [
      "a = time()"
     ],
     "language": "python",
     "metadata": {
      "slideshow": {
       "slide_type": "skip"
      }
     },
     "outputs": []
    },
    {
     "cell_type": "code",
     "collapsed": false,
     "input": [
      "splicing_data_file = os.path.join(home, \"flotilla_projects/neural_diff/psi.tsv\")\n",
      "splicing_data = pandas.read_table(splicing_data_file, index_col=0)\n",
      "print \"Loaded data table, size is (samples, genes):\", expression_data.shape\n",
      "print \"{:.2f}% of values are not NaN\".format(100.*splicing_data.count().sum() / np.product(splicing_data.shape))"
     ],
     "language": "python",
     "metadata": {
      "slideshow": {
       "slide_type": "fragment"
      }
     },
     "outputs": []
    },
    {
     "cell_type": "code",
     "collapsed": false,
     "input": [
      "b = time()\n",
      "\n",
      "print \"This operation took {:.1f} seconds.\".format(b - a)"
     ],
     "language": "python",
     "metadata": {
      "slideshow": {
       "slide_type": "skip"
      }
     },
     "outputs": []
    },
    {
     "cell_type": "code",
     "collapsed": false,
     "input": [
      "splicing_data.head()"
     ],
     "language": "python",
     "metadata": {
      "slideshow": {
       "slide_type": "fragment"
      }
     },
     "outputs": []
    },
    {
     "cell_type": "markdown",
     "metadata": {
      "slideshow": {
       "slide_type": "subslide"
      }
     },
     "source": [
      "##Metadata\n",
      "<marker id=\"metadata\"/>\n",
      "<H3 align='center'> Data about data. </H3>\n",
      "<br>\n",
      "<div align='right'>This takes a few minutes the first time,<br> but will never need to be done again.</div>"
     ]
    },
    {
     "cell_type": "code",
     "collapsed": false,
     "input": [
      "metadata = pandas.DataFrame(index = expression_data.index & splicing_data.index)\n",
      "\n",
      "metadata['pooled_samples'] = False\n",
      "\n",
      "pooled = ['P_M2nd_33', 'P_M2nd_34', 'N_CVN_17', 'N_CVN_35', 'M_M2_05', 'M_M2nd_13', 'M_M2nd_21', 'S_MSA_19', 'S_MSA_29']\n",
      "\n",
      "metadata[pooled, 'pooled_samples'] = True"
     ],
     "language": "python",
     "metadata": {
      "slideshow": {
       "slide_type": "fragment"
      }
     },
     "outputs": []
    },
    {
     "cell_type": "markdown",
     "metadata": {
      "slideshow": {
       "slide_type": "fragment"
      }
     },
     "source": [
      "###Set sample \"phenotype.\" In this case, the phenotype is encoded in the first letter of the sample label."
     ]
    },
    {
     "cell_type": "code",
     "collapsed": false,
     "input": [
      "metadata['phenotype'] = [x[0] for x in metadata.index]"
     ],
     "language": "python",
     "metadata": {
      "slideshow": {
       "slide_type": "fragment"
      }
     },
     "outputs": []
    },
    {
     "cell_type": "markdown",
     "metadata": {
      "slideshow": {
       "slide_type": "fragment"
      }
     },
     "source": [
      "\n",
      "###Get some help to choose pleasing colors. [`Set1`](http://matplotlib.org/examples/color/colormaps_reference.html) is my favoriate color palette."
     ]
    },
    {
     "cell_type": "code",
     "collapsed": false,
     "input": [
      "seaborn = flotilla.visualize.seaborn # or import seaborn\n",
      "mpl = flotilla.visualize.generic.mpl # or import matplotlib as mpl\n",
      "palette = map(mpl.colors.rgb2hex, seaborn.color_palette('Set1'))\n",
      "seaborn.palplot(palette)"
     ],
     "language": "python",
     "metadata": {},
     "outputs": []
    },
    {
     "cell_type": "markdown",
     "metadata": {
      "slideshow": {
       "slide_type": "fragment"
      }
     },
     "source": [
      "###Assign colors for phenotypes."
     ]
    },
    {
     "cell_type": "code",
     "collapsed": false,
     "input": [
      "color_map = {'P': palette[1], # blue\n",
      "             'N': palette[2], # green\n",
      "             'M': palette[0], # red\n",
      "             'S': palette[4]} # orange"
     ],
     "language": "python",
     "metadata": {
      "slideshow": {
       "slide_type": "fragment"
      }
     },
     "outputs": []
    },
    {
     "cell_type": "markdown",
     "metadata": {
      "slideshow": {
       "slide_type": "subslide"
      }
     },
     "source": [
      "###Create boolean columns for each phenotype, this will be useful later."
     ]
    },
    {
     "cell_type": "markdown",
     "metadata": {
      "slideshow": {
       "slide_type": "slide"
      }
     },
     "source": [
      "###Assemble data into a <code>flotilla.Study</code> object"
     ]
    },
    {
     "cell_type": "code",
     "collapsed": false,
     "input": [
      "for phenotype in ['P', 'N', 'M', 'S']:\n",
      "    metadata[phenotype + '_cell'] = metadata['phenotype'] == phenotype"
     ],
     "language": "python",
     "metadata": {},
     "outputs": []
    },
    {
     "cell_type": "code",
     "collapsed": false,
     "input": [
      "ignore_subset_cols = [\"ensembl_gene\", \"gencode_gene\", \"gencode_transcript\", \"ensembl_transcript\", \n",
      "                      \"gene_name\", \"transcript_id\", \"havana_gene\", \"gencode_id\"]\n",
      "\n",
      "\n",
      "study = flotilla.Study(#study metadata\n",
      "                       sample_metadata=metadata,\n",
      "                       #a version for this study, to track changes\n",
      "                       version='0.1.0',\n",
      "                       #pandas.DataFrame with expression data, created above\n",
      "                       expression_data=expression_data, \n",
      "                       #column in study.expression.feature_data to map ensg id to symbols\n",
      "                       #(default feature_data is in flotilla_packages/<species>)\n",
      "                       expression_feature_rename_col='gene_name',\n",
      "                       #pandas.DataFrame with splicing data, created above\n",
      "                       splicing_data=splicing_data,\n",
      "                       #column in study.splicing.feature_data to map ensg id to symbols \n",
      "                       #(default feature_data is in flotilla_packages/<species>)\n",
      "                       splicing_feature_rename_col='gene_name',\n",
      "                       #pandas.DataFrame with mapping statistics, created above\n",
      "                       mapping_stats_data=mapstats_data,\n",
      "                       #column with number of mapped reads\n",
      "                       mapping_stats_number_mapped_col='Uniquely mapped reads number',\n",
      "                       #specify species. So far we've built hg19/mm10 ENSEMBL data\n",
      "                       species='hg19',\n",
      "                       #specify which column of metadata holds phenotype information\n",
      "                       metadata_phenotype_col ='phenotype',\n",
      "                       #specify a dictionary mapping phenotype to colors\n",
      "                       metadata_phenotype_to_color=color_map,\n",
      "                       #specify the order which you would like samples to be plotted:\n",
      "                       metadata_phenotype_order=[\"P\", \"N\", \"M\", \"S\"],\n",
      "                       #specify a column that indicates whether a sample is pooled or single-cell\n",
      "                       metadata_pooled_col='pooled_samples',\n",
      "                       default_sample_subset='all_samples',\n",
      "                       )"
     ],
     "language": "python",
     "metadata": {
      "slideshow": {
       "slide_type": "fragment"
      }
     },
     "outputs": []
    },
    {
     "cell_type": "markdown",
     "metadata": {
      "slideshow": {
       "slide_type": "subslide"
      }
     },
     "source": [
      "##Save data and metadata\n",
      "<br>\n",
      "<div align='center'><H3>To be loaded in other notebooks for analysis.</H3></div>"
     ]
    },
    {
     "cell_type": "code",
     "collapsed": false,
     "input": [
      "study.save('neural_diff_demo')"
     ],
     "language": "python",
     "metadata": {
      "slideshow": {
       "slide_type": "fragment"
      }
     },
     "outputs": []
    },
    {
     "cell_type": "markdown",
     "metadata": {
      "slideshow": {
       "slide_type": "slide"
      }
     },
     "source": [
      "##Summary"
     ]
    },
    {
     "cell_type": "markdown",
     "metadata": {
      "slideshow": {
       "slide_type": "fragment"
      }
     },
     "source": [
      "  * Loaded data from multiple sources into a `flotilla.Study` object.\n",
      "  <br>\n",
      "  <br>\n",
      "  * The `Study` object contains mapping data, expression data, splicing data, sample metadata and feature (gene/splicing event) metadata.\n",
      "  <br>\n",
      "  <br>\n",
      "  * This ensures that data will be identical across multiple notebooks where analysis might be performed.\n",
      "  <br>\n",
      "  <br>\n",
      "  * This puts the data in one place, to be shared easily <i>(AWS?)</i>."
     ]
    },
    {
     "cell_type": "markdown",
     "metadata": {
      "slideshow": {
       "slide_type": "subslide"
      }
     },
     "source": [
      "##Next steps\n",
      "<br>\n",
      "Now, continue to the [Dimensionality Reduction](2_Dimensionality%20Reduction.ipynb) notebook."
     ]
    }
   ],
   "metadata": {}
  }
 ]
}