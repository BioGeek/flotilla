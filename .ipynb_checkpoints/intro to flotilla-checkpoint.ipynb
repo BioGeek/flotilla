{
 "metadata": {
  "name": "",
  "signature": "sha256:b00776c45c6cc9453862daaa7d136bd5920bc09ff8362bd57359d55f3cc2fa02"
 },
 "nbformat": 3,
 "nbformat_minor": 0,
 "worksheets": [
  {
   "cells": [
    {
     "cell_type": "code",
     "collapsed": false,
     "input": [
      "%matplotlib inline "
     ],
     "language": "python",
     "metadata": {},
     "outputs": [],
     "prompt_number": 4
    },
    {
     "cell_type": "markdown",
     "metadata": {},
     "source": [
      "# Flotilla introduction"
     ]
    },
    {
     "cell_type": "markdown",
     "metadata": {},
     "source": [
      "Flotilla is a container for software to do genomics things. It is sub-divided into thematic parts that are named after boats.\n",
      "\n",
      "\"object-oriented magic\" - schooner\n",
      "<img src=\"img/schooner.png\" height=200 width=200/>\n",
      "\n",
      "\"exploratory data viz\" - submarine\n",
      "<img src=\"img/submarine.png\" height=200 width=200/>\n",
      "\n",
      "\"things for computation\" - frigate\n",
      "<img src=\"img/frigate.png\" height=200 width=200/>\n",
      "\n",
      "\"draw data from external sources\" - skiff\n",
      "<img src=\"img/skiff.png\" height=200 width=200/>\n",
      "\n",
      "\"slow-loading things\" - cargo\n",
      "<img src=\"img/cargo.png\" height=200 width=200/>\n",
      "\n",
      "\"database things\" - carrier\n",
      "<img src=\"img/carrier.png\" height=200 width=200/>\n"
     ]
    },
    {
     "cell_type": "markdown",
     "metadata": {},
     "source": [
      "Projects are stored in separate git repos, access them by import.\n",
      "\n",
      "`neural_diff_project` is yan's data, but projects can come with `README` files which make the stderr show messages about the data (like below)</p>"
     ]
    },
    {
     "cell_type": "markdown",
     "metadata": {},
     "source": [
      "###users import projects using:\n",
      " \n",
      " <pre><code>import projectname</code></pre>\n",
      " \n",
      " where someone has already installed `projectname` into the Python `PYTHONPATH`. (i.e. via `pip install -e .`)\n",
      " \n",
      " This tutorial uses `neural_diff_project` as an example."
     ]
    },
    {
     "cell_type": "code",
     "collapsed": false,
     "input": [
      "import pandas as pd"
     ],
     "language": "python",
     "metadata": {},
     "outputs": [
      {
       "output_type": "stream",
       "stream": "stderr",
       "text": [
        "/usr/local/lib/python3.4/site-packages/pandas/io/excel.py:626: UserWarning: Installed openpyxl is not supported at this time. Use >=1.6.1 and <2.0.0.\n",
        "  .format(openpyxl_compat.start_ver, openpyxl_compat.stop_ver))\n"
       ]
      }
     ],
     "prompt_number": 5
    },
    {
     "cell_type": "code",
     "collapsed": false,
     "input": [
      "import neural_diff_project"
     ],
     "language": "python",
     "metadata": {},
     "outputs": [
      {
       "ename": "ImportError",
       "evalue": "No module named 'neural_diff_project'",
       "output_type": "pyerr",
       "traceback": [
        "\u001b[0;31m---------------------------------------------------------------------------\u001b[0m\n\u001b[0;31mImportError\u001b[0m                               Traceback (most recent call last)",
        "\u001b[0;32m<ipython-input-7-89eefbeff78d>\u001b[0m in \u001b[0;36m<module>\u001b[0;34m()\u001b[0m\n\u001b[0;32m----> 1\u001b[0;31m \u001b[0;32mimport\u001b[0m \u001b[0mneural_diff_project\u001b[0m\u001b[0;34m\u001b[0m\u001b[0m\n\u001b[0m",
        "\u001b[0;31mImportError\u001b[0m: No module named 'neural_diff_project'"
       ]
      },
      {
       "output_type": "stream",
       "stream": "stdout",
       "text": [
        "> \u001b[0;32m<ipython-input-7-89eefbeff78d>\u001b[0m(1)\u001b[0;36m<module>\u001b[0;34m()\u001b[0m\n",
        "\u001b[0;32m----> 1 \u001b[0;31m\u001b[0;32mimport\u001b[0m \u001b[0mneural_diff_project\u001b[0m\u001b[0;34m\u001b[0m\u001b[0m\n",
        "\u001b[0m\n"
       ]
      },
      {
       "name": "stdout",
       "output_type": "stream",
       "stream": "stdout",
       "text": [
        "ipdb> q\n"
       ]
      }
     ],
     "prompt_number": 7
    },
    {
     "cell_type": "markdown",
     "metadata": {},
     "source": [
      "In the data directory, there is a `README` file, which was just written to `STDERR` (in pink) provides messages about the methods used to make the data.\n"
     ]
    },
    {
     "cell_type": "markdown",
     "metadata": {},
     "source": [
      "##<b>schooner</b> is an object-oriented user interface.<br>\n",
      "<b>`schooner.Study`</b> takes care of organizing data from multiple sources. It inherits subclasses that have tools to interact with data via IPython widgets, which is really nice.<br>\n",
      "<b>`schooner.ExpressionData`</b> and <b>`schooner.SplicingData`</b> do classifcation/regression and dimensionality reduction.<br>\n",
      "All data types should be available for user interaction (and are expected to be used) via the\n",
      "<b>`schooner.Study`</b> object.\n",
      "\n",
      "## <b>submarine</b> is a visualization module that entirely depends on the other modules, this is mostly subclasses of the modules in frigate<br>\n",
      "\n",
      "## <b>frigate</b> is the computational workhorse, it holds the objects that do the maths"
     ]
    },
    {
     "cell_type": "code",
     "collapsed": false,
     "input": [
      "sc_study = neural_diff_project.embark(load_cargo=False, drop_outliers=True) "
     ],
     "language": "python",
     "metadata": {},
     "outputs": []
    },
    {
     "cell_type": "markdown",
     "metadata": {},
     "source": [
      "### what just happened?\n",
      "this puts the expression and splicing data, along with metadata about the samples into an object-oriented interface called `flotilla.schooner.Study` which is now accessible through the `sc_study` variable.\n",
      "\n",
      "`load_cargo=True` takes >40 seconds to load the first time, it loads GO references into memory and sets up gene names for plots and such."
     ]
    },
    {
     "cell_type": "markdown",
     "metadata": {},
     "source": [
      "# Sample Metadata\n",
      "\n",
      "To specify colors and \"markers\" (shape of the plotted symbol) for plotting, make sure these two columns appear in the sample metadata data frame: \"color\" and \"cell_marker\"<br>"
     ]
    },
    {
     "cell_type": "code",
     "collapsed": false,
     "input": [
      "sc_study.sample_metadata.head()"
     ],
     "language": "python",
     "metadata": {},
     "outputs": []
    },
    {
     "cell_type": "markdown",
     "metadata": {},
     "source": [
      "#Raw data for gene expression, TPM:"
     ]
    },
    {
     "cell_type": "code",
     "collapsed": false,
     "input": [
      "sc_study.expression.df.head()"
     ],
     "language": "python",
     "metadata": {},
     "outputs": []
    },
    {
     "cell_type": "markdown",
     "metadata": {},
     "source": [
      "#Raw data for splicing, PSI:"
     ]
    },
    {
     "cell_type": "code",
     "collapsed": false,
     "input": [
      "sc_study.splicing.df.head()"
     ],
     "language": "python",
     "metadata": {},
     "outputs": []
    },
    {
     "cell_type": "markdown",
     "metadata": {},
     "source": [
      "##parameters established in <code>neural_cell_diff</code> poulate the lists of interactive objects"
     ]
    },
    {
     "cell_type": "markdown",
     "metadata": {},
     "source": [
      "## `interactive_pca`\n",
      "\n",
      "runs PCA on the data or a subset, and can play with the settings to see different results.\n",
      "\n",
      "* `group_id` is a subset of samples to use<br>\n",
      "* `data_type` -designates whether you'd like to do PCA with either splicing or gene expression as features<br>\n",
      "* `featurewise` - selects whether you'd like to visualize PCA of samples or of features<br>\n",
      "* `x_pc` and `y_pc` - select the components to display for the x- and y- dimensions<br>\n",
      "* `show_point_labels` - draws sample/feature labels<br>\n",
      "* `list_link` - a local file path (full path) or a http: link to a list of line-delimited features to use for the PCA<br>\n",
      "* `list_name` - contains pre-loaded lists, you can set this to \"custom\" to use list_link<br>\n",
      "* `savefile` - a file to output\n",
      "\n"
     ]
    },
    {
     "cell_type": "code",
     "collapsed": false,
     "input": [
      "sc_study.interactive_pca()"
     ],
     "language": "python",
     "metadata": {},
     "outputs": []
    },
    {
     "cell_type": "markdown",
     "metadata": {},
     "source": [
      "## `interactive_graph`\n",
      "\n",
      "Makes a graph where layout of nodes is determined by their covariance in PCA-space\n",
      "\n",
      "* `group_id` - a subset of samples to use<br>\n",
      "* `data_type` - designates whether you'd like to do PCA with either splicing or gene expression as features<br>\n",
      "* `featurewise` - selects whether you'd like to visualize samples or of features<br>\n",
      "* `draw_labels` - draws sample/feature labels on nodes<br>\n",
      "* `degree_cut` - minimum degree for nodes to be included in the output\n",
      "* `cov_std_cut` - minimum covariance for two nodes to have an edge\n",
      "* `n_pcs` - use the first `n` principal components\n",
      "* `feature_of_interest` - feature to highlight. recommended that you paste into this box, rather than type directly\n",
      "* `use_pc_X` - de-select to exclude component X\n",
      "* `list_name` - contains pre-loaded lists and custom lists added with custom \"list_link\" in interactive_pca<br>\n",
      "* `savefile` - a file to output\n",
      "* `weight_fun` - a function to apply to covariances before filtering\n"
     ]
    },
    {
     "cell_type": "code",
     "collapsed": false,
     "input": [
      "sc_study.interactive_graph()"
     ],
     "language": "python",
     "metadata": {},
     "outputs": []
    },
    {
     "cell_type": "markdown",
     "metadata": {},
     "source": [
      "##<b>interactive_classifier</b> \n",
      "\n",
      "makes a classifier, plots PCA of samples using only important features from the classifier. (default classifier is ExtraTreesClassifier, extremely randomized forests)\n",
      "\n",
      "data_type - designates whether you'd like to do PCA with either splicing or gene expression as features<br>\n",
      "list_name - contains pre-loaded lists and custom lists added with custom \"list_link\" in interactive_pca<br>\n",
      "group_id - a subset of samples to use<br>\n",
      "categorical_variable - a column in expression.sample_descriptors upon which to train a classifier<br>\n",
      "feature_score_std_cutoff - mean + (this x std) is used to select the top features<br>\n",
      "safefile - a file to output"
     ]
    },
    {
     "cell_type": "code",
     "collapsed": false,
     "input": [
      "sc_study.interactive_classifier()"
     ],
     "language": "python",
     "metadata": {},
     "outputs": []
    },
    {
     "cell_type": "code",
     "collapsed": false,
     "input": [
      "print(\"here are the pooled samples\\n\")\n",
      "import pandas as pd\n",
      "for i in sc_study.sample_info.index[pd.Series(sc_study.sample_info['is_pooled'], dtype='bool')]:\n",
      "    print(\"\\t\", i)"
     ],
     "language": "python",
     "metadata": {},
     "outputs": []
    },
    {
     "cell_type": "markdown",
     "metadata": {},
     "source": [
      "## `interatctive_localZ`\n",
      "\n",
      "runs localZ comparision on 2 RNAseq samples... works on any datatype but only really has meaning on expression.<br>\n",
      "\n",
      "* `sample1` - name of sample on x-axis<br>\n",
      "* `sample2` - name of sample on y-axis<br>\n",
      "* `pCut` - p-value cutoff, must be a float. recommended that you paste here, not type in this box.<br>\n",
      "\n",
      "running this updates `sc_study.localZ_result` with a `pandas.DataFrame` of the results to be parsed by the user"
     ]
    },
    {
     "cell_type": "code",
     "collapsed": false,
     "input": [
      "sc_study.interactive_localZ()"
     ],
     "language": "python",
     "metadata": {},
     "outputs": []
    },
    {
     "cell_type": "code",
     "collapsed": false,
     "input": [
      "sc_study.localZ_result"
     ],
     "language": "python",
     "metadata": {},
     "outputs": []
    },
    {
     "cell_type": "code",
     "collapsed": false,
     "input": [],
     "language": "python",
     "metadata": {},
     "outputs": []
    }
   ],
   "metadata": {}
  }
 ]
}