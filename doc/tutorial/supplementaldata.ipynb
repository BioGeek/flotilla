{
 "metadata": {
  "name": "",
  "signature": "sha256:002384ba46548fc44c25619e666c4a00c25a9edd0412d1360d3300fb3075e169"
 },
 "nbformat": 3,
 "nbformat_minor": 0,
 "worksheets": [
  {
   "cells": [
    {
     "cell_type": "heading",
     "level": 1,
     "metadata": {},
     "source": [
      "Storing supplemental data on `Study` objects"
     ]
    },
    {
     "cell_type": "markdown",
     "metadata": {},
     "source": [
      "A recently added feature is the ability to store any arbitrary pandas dataframe on `study.supplemental`, and this will get re-loaded every time you `embark` on that datapackage. Let's start with the batch-corrected [BrainSpan](http://www.brainspan.org/) Allen Brain Institute's Brain Atlas data."
     ]
    },
    {
     "cell_type": "code",
     "collapsed": false,
     "input": [
      "import flotilla\n",
      "study = flotilla.embark(flotilla._brainspan)"
     ],
     "language": "python",
     "metadata": {},
     "outputs": [],
     "prompt_number": null
    },
    {
     "cell_type": "markdown",
     "metadata": {},
     "source": [
      "Let's take a look at how big this expression matrix is."
     ]
    },
    {
     "cell_type": "code",
     "collapsed": false,
     "input": [
      "study.expression.data.shape"
     ],
     "language": "python",
     "metadata": {},
     "outputs": [],
     "prompt_number": null
    },
    {
     "cell_type": "markdown",
     "metadata": {},
     "source": [
      "Yikes, 14,321 features is a lot! Let's subset on just the most variant genes. By default, this is the genes whose variance is two standard deviations away from the mean variance of all genes."
     ]
    },
    {
     "cell_type": "code",
     "collapsed": false,
     "input": [
      "variant_ids = study.expression.feature_subsets['variant']\n",
      "variant_expression = study.expression.data.ix[:, variant_ids]\n",
      "variant_expression.shape"
     ],
     "language": "python",
     "metadata": {},
     "outputs": [],
     "prompt_number": null
    },
    {
     "cell_type": "markdown",
     "metadata": {},
     "source": [
      "564 features isn't so bad. Let's correlate all features to each other in this subset."
     ]
    },
    {
     "cell_type": "code",
     "collapsed": false,
     "input": [
      "%%time\n",
      "variant_expression_corr = variant_expression.corr()\n",
      "variant_expression_corr.head()"
     ],
     "language": "python",
     "metadata": {},
     "outputs": [],
     "prompt_number": null
    },
    {
     "cell_type": "markdown",
     "metadata": {},
     "source": [
      "That didn't take *too* long, but I'm sure you can imagine it would take a really long time for ALL genes!\n",
      "\n",
      "Now let's assign this to the `study.supplemental` object with a name of our choice. To keep things simple, I'm gonna give it the same name."
     ]
    },
    {
     "cell_type": "code",
     "collapsed": false,
     "input": [
      "study.supplemental.variant_expression_corr = variant_expression_corr"
     ],
     "language": "python",
     "metadata": {},
     "outputs": [],
     "prompt_number": null
    },
    {
     "cell_type": "markdown",
     "metadata": {},
     "source": [
      "Now let's save the object and re-`embark` to make sure it's there."
     ]
    },
    {
     "cell_type": "code",
     "collapsed": false,
     "input": [
      "study.save('brainspan2')\n",
      "study2 = flotilla.embark('brainspan2')"
     ],
     "language": "python",
     "metadata": {},
     "outputs": [],
     "prompt_number": null
    },
    {
     "cell_type": "markdown",
     "metadata": {},
     "source": [
      "Let's make sure our `variant_expression_corr` dataframe is really there."
     ]
    },
    {
     "cell_type": "code",
     "collapsed": false,
     "input": [
      "study2.supplemental.variant_expression_corr.head()"
     ],
     "language": "python",
     "metadata": {},
     "outputs": [],
     "prompt_number": null
    },
    {
     "cell_type": "markdown",
     "metadata": {},
     "source": [
      "Yay, it's here!"
     ]
    }
   ],
   "metadata": {}
  }
 ]
}