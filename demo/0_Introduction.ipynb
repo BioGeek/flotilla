{
 "metadata": {
  "celltoolbar": "Slideshow",
  "name": "",
  "signature": "sha256:ed948f260f9eec394f3582c454ca2a0bc9df1aa94549429c50b2b39c628208fd"
 },
 "nbformat": 3,
 "nbformat_minor": 0,
 "worksheets": [
  {
   "cells": [
    {
     "cell_type": "code",
     "collapsed": false,
     "input": [
      "import css_styling"
     ],
     "language": "python",
     "metadata": {},
     "outputs": [
      {
       "html": [
        "\n",
        "<style>\n",
        "\n",
        ".rendered_html\n",
        "{\n",
        "  font-size: 140%;\n",
        "  line-height: 1.1;\n",
        "  margin: 0.5em 0;\n",
        "  }\n",
        "\n",
        ".title\n",
        "{\n",
        "  font-size: 250%;\n",
        "  font-weight:bold;\n",
        "  line-height: 1.2; \n",
        "  margin: 10px 50px 10px;\n",
        "  }\n",
        "\n",
        ".subtitle\n",
        "{\n",
        "  font-size: 180%;\n",
        "  font-weight:bold;\n",
        "  line-height: 1.2; \n",
        "  margin: 20px 50px 20px;\n",
        "  }\n",
        "\n",
        ".slide-header, p.slide-header\n",
        "{\n",
        "  font-size: 200%;\n",
        "  font-weight:bold;\n",
        "  margin: 0px 20px 10px;\n",
        "  page-break-before: always;\n",
        "  text-align: center;\n",
        "  }\n",
        "\n",
        ".rendered_html h1\n",
        "{\n",
        "  color: #00628B;\n",
        "  line-height: 1.2; \n",
        "  margin: 0.15em 0em 0.5em;\n",
        "  page-break-before: always;\n",
        "  text-align: center;\n",
        "  }\n",
        "\n",
        ".rendered_html h2\n",
        "{ \n",
        "  color: #81A594;\n",
        "  line-height: 1.2;\n",
        "  margin: 1.1em 0em 0.5em;\n",
        "  }\n",
        "\n",
        ".rendered_html h3\n",
        "{\n",
        "  color:  #333330; \n",
        "  font-size: 120%;\n",
        "  line-height: 1.2;\n",
        "  margin: 1.1em 0em 0.5em;\n",
        "  }\n",
        "\n",
        ".rendered_html li\n",
        "{\n",
        "  line-height: 1.8;\n",
        "}\n",
        "\n",
        ".input_prompt, .CodeMirror-lines, .output_area\n",
        "{\n",
        "  font-family: Consolas;\n",
        "  font-size: 100%;\n",
        "  }\n",
        "\n",
        ".gap-above\n",
        "{\n",
        "  padding-top: 200px;\n",
        "}\n",
        "\n",
        ".gap01\n",
        "{\n",
        "  padding-top: 10px;\n",
        "  }\n",
        "\n",
        ".gap05\n",
        "{\n",
        "  padding-top: 50px;\n",
        "  }\n",
        "\n",
        ".gap1\n",
        "{\n",
        "  padding-top: 100px;\n",
        "  }\n",
        "\n",
        ".gap2\n",
        "{\n",
        "  padding-top: 200px;\n",
        "  }\n",
        "\n",
        ".gap3\n",
        "{\n",
        "  padding-top: 300px;\n",
        "  }\n",
        "\n",
        "#.emph\n",
        "#{\n",
        "#  color: #386BBC;\n",
        "#  }\n",
        "\n",
        ".warn\n",
        "{\n",
        "  color: red;\n",
        "  }\n",
        "\n",
        ".center\n",
        "{\n",
        "  text-align: center;\n",
        "  }\n",
        "\n",
        ".nb_link\n",
        "{\n",
        "    padding-bottom: 0.5em;\n",
        "}\n",
        "\n",
        "body{   font-family: \"Lucida Grande\", \"HelveticaNeue-Light\", \"Helvetica Neue Light\", \"Helvetica Neue\", Helvetica, Arial, \"Lucida Grande\", sans-serif;  \n",
        "   color: #333330;\n",
        "   background-color: #EBEBEA;\n",
        "}\n",
        "\n",
        ".rendered_html body{\n",
        "   font-family: \"Lucida Grande\", \"HelveticaNeue-Light\", \"Helvetica Neue Light\", \"Helvetica Neue\", Helvetica, Arial, \"Lucida Grande\", sans-serif;   \n",
        "   color: #333330;\n",
        "   background-color: #EBEBEA;\n",
        "}\n",
        ".rendered_html code {\n",
        "   color: #333330;\n",
        "   background-color: #EBEBEA;\n",
        "}\n",
        "</style>"
       ],
       "metadata": {},
       "output_type": "display_data",
       "text": [
        "<IPython.core.display.HTML at 0x101e7a090>"
       ]
      }
     ],
     "prompt_number": 1
    },
    {
     "cell_type": "markdown",
     "metadata": {
      "slideshow": {
       "slide_type": "slide"
      }
     },
     "source": [
      "\n",
      "<img src=\"flotilla-logo.png\" height=610 >\n",
      "<br>\n",
      "<br>\n",
      "<br>\n",
      "\n",
      "#<b><code><font color=\"00628B\">flotilla</font></code> \u2014 An open-source toolkit for single-cell RNA-seq data analysis</b>\n",
      "\n",
      "<H2 align='center'>2014 CSHL Biological Data Science Meeting</H2>\n",
      "<H2 align='center'>Michael T Lovci Ph.D.</H2>\n",
      "\n",
      "<img src=\"yeolab_art.png\" height=250  width=230/><H3 align='right'>@YeoLab</H3>\n"
     ]
    },
    {
     "cell_type": "markdown",
     "metadata": {
      "slideshow": {
       "slide_type": "slide"
      }
     },
     "source": [
      "#Outline\n",
      "\n",
      " * Goals of `flotilla`"
     ]
    },
    {
     "cell_type": "markdown",
     "metadata": {
      "slideshow": {
       "slide_type": "fragment"
      }
     },
     "source": [
      " * Create a new `flotilla.Study`"
     ]
    },
    {
     "cell_type": "markdown",
     "metadata": {
      "slideshow": {
       "slide_type": "fragment"
      }
     },
     "source": [
      " * Results from `flotilla` - <i>Motor Neuron in vitro differentiation</i>"
     ]
    },
    {
     "cell_type": "markdown",
     "metadata": {
      "slideshow": {
       "slide_type": "fragment"
      }
     },
     "source": [
      " * Future work"
     ]
    },
    {
     "cell_type": "markdown",
     "metadata": {
      "slideshow": {
       "slide_type": "slide"
      }
     },
     "source": [
      "# Goals\n",
      "\n",
      "<br>\n",
      "## Data-driven conversations about <i>biology</i>"
     ]
    },
    {
     "cell_type": "markdown",
     "metadata": {
      "slideshow": {
       "slide_type": "fragment"
      }
     },
     "source": [
      " * reproducibility"
     ]
    },
    {
     "cell_type": "markdown",
     "metadata": {
      "slideshow": {
       "slide_type": "fragment"
      }
     },
     "source": [
      " * transparency"
     ]
    },
    {
     "cell_type": "markdown",
     "metadata": {
      "slideshow": {
       "slide_type": "fragment"
      }
     },
     "source": [
      " * \"let biologists do biology\" "
     ]
    },
    {
     "cell_type": "markdown",
     "metadata": {
      "slideshow": {
       "slide_type": "fragment"
      }
     },
     "source": [
      " * fight data senescence (genomics datasets have long-term value)"
     ]
    },
    {
     "cell_type": "markdown",
     "metadata": {
      "slideshow": {
       "slide_type": "fragment"
      }
     },
     "source": [
      " * interactive data exploration "
     ]
    },
    {
     "cell_type": "markdown",
     "metadata": {
      "slideshow": {
       "slide_type": "fragment"
      }
     },
     "source": [
      " * reduce the time from idea to answers"
     ]
    },
    {
     "cell_type": "markdown",
     "metadata": {
      "slideshow": {
       "slide_type": "slide"
      }
     },
     "source": [
      "## How to get <code><font color='#81A594'>flotilla</font></code>\n",
      "\n",
      "There are several routes to obtaining `flotilla`, depending on your interests pursue the following:"
     ]
    },
    {
     "cell_type": "markdown",
     "metadata": {
      "slideshow": {
       "slide_type": "fragment"
      }
     },
     "source": [
      "###Docker Hub\n",
      "<img src='https://d3oypxn00j2a10.cloudfront.net/0.11.2/img/nav/docker-logo-loggedout.png' align='left' width=220> \n",
      "<br>\n",
      "<br>\n",
      "<br>\n",
      "<br>\n",
      "The `docker` Virtual Machine is re-built on <a href=\"hub.docker.com\">Docker Hub</a> with every change to `flotilla`. Use `-v` to mount host directories in the VM for read/write.\n",
      "\n",
      "\n",
      " * <code>docker run \\<pre>-v ${HOME}/flotilla_packages:/root/flotilla_packages \\\n",
      "-v ${HOME}/flotilla_notebooks:/root/home/ipython \\\n",
      "-it \\\n",
      "mlovci/flotilla:latest</code>\n",
      " \n",
      " ( or `mlovci/flotilla:dev`)\n",
      " "
     ]
    },
    {
     "cell_type": "markdown",
     "metadata": {
      "slideshow": {
       "slide_type": "fragment"
      }
     },
     "source": [
      "###PyPI\n",
      "\n",
      "<img src='python-logo.png' align='left' width=200> <br>\n",
      "<br>\n",
      "<br>\n",
      "<br>\n",
      "\n",
      "PyPI is updated with every official release of `flotilla`\n",
      "\n",
      " * `pip install flotilla`"
     ]
    },
    {
     "cell_type": "markdown",
     "metadata": {
      "slideshow": {
       "slide_type": "fragment"
      }
     },
     "source": [
      "###GitHub\n",
      "<img src='labtocat.png' align='left' width=150> \n",
      "<br>\n",
      "<br>\n",
      "<br>\n",
      "<br>\n",
      "<br>\n",
      "<br>\n",
      "<br>\n",
      "\n",
      "New features are available here, community interaction (request new features, watch our progress), report bugs (of course there are none), contribute new features, browse code.\n",
      "\n",
      " * `git clone https://github.com/YeoLab/flotilla.git`"
     ]
    },
    {
     "cell_type": "markdown",
     "metadata": {},
     "source": [
      "Now, proceed to the [examples](examples/) for demonstrations.\n",
      "\n",
      " 1. [Create A New Study](examples/1_Create%20A%20New%20Study.ipynb)\n",
      " * [Perform Outlier Detection](examples/2_Outlier%20Detection.ipynb)\n",
      " * [Dimensionality Reduction](examples/3_Dimensionality%20Reduction.ipynb)\n",
      " "
     ]
    },
    {
     "cell_type": "markdown",
     "metadata": {
      "slideshow": {
       "slide_type": "slide"
      }
     },
     "source": []
    }
   ],
   "metadata": {}
  }
 ]
}