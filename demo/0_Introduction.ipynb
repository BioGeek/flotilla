{
 "metadata": {
  "celltoolbar": "Slideshow",
  "name": "",
  "signature": "sha256:e86e065b61a78025f4aeffec21cd41803d888b57020cec7f70663e69dd9c8471"
 },
 "nbformat": 3,
 "nbformat_minor": 0,
 "worksheets": [
  {
   "cells": [
    {
     "cell_type": "markdown",
     "metadata": {
      "slideshow": {
       "slide_type": "slide"
      }
     },
     "source": [
      "\n",
      "<img src=\"img/flotilla-logo.png\" width=310 >\n",
      "<br>\n",
      "\n",
      "<H1 align='center'><b><code><font color=\"00628B\">flotilla</font></code> \u2014 An open-source toolkit for single-cell RNA-seq data analysis</b></H1>\n",
      "\n",
      "<H2 align='center'>2014 CSHL Biological Data Science Meeting</H2>\n",
      "<H2 align='center'>Michael T Lovci Ph.D.</H2>\n",
      "\n",
      "<img src=\"img/yeolab_art.png\" height=250  width=230/><H3 align='right'>@YeoLab</H3>\n"
     ]
    },
    {
     "cell_type": "code",
     "collapsed": false,
     "input": [
      "import css_styling"
     ],
     "language": "python",
     "metadata": {
      "slideshow": {
       "slide_type": "skip"
      }
     },
     "outputs": [
      {
       "html": [
        "<link rel=\"stylesheet\" href=\"http://bootswatch.com/paper/bootstrap.css\">"
       ],
       "metadata": {},
       "output_type": "display_data",
       "text": [
        "<IPython.core.display.HTML at 0x101e6f7d0>"
       ]
      }
     ],
     "prompt_number": 1
    },
    {
     "cell_type": "markdown",
     "metadata": {
      "slideshow": {
       "slide_type": "slide"
      }
     },
     "source": [
      "#Outline\n",
      "\n",
      " * Goals of `flotilla`"
     ]
    },
    {
     "cell_type": "markdown",
     "metadata": {
      "slideshow": {
       "slide_type": "fragment"
      }
     },
     "source": [
      " * Create a new `flotilla.Study`"
     ]
    },
    {
     "cell_type": "markdown",
     "metadata": {
      "slideshow": {
       "slide_type": "fragment"
      }
     },
     "source": [
      " * Test-drive"
     ]
    },
    {
     "cell_type": "markdown",
     "metadata": {
      "slideshow": {
       "slide_type": "fragment"
      }
     },
     "source": [
      " * Future work"
     ]
    },
    {
     "cell_type": "markdown",
     "metadata": {
      "slideshow": {
       "slide_type": "slide"
      }
     },
     "source": [
      "# Goals\n",
      "\n",
      "<br>\n",
      "##Data-driven conversations about _biology_"
     ]
    },
    {
     "cell_type": "markdown",
     "metadata": {
      "slideshow": {
       "slide_type": "fragment"
      }
     },
     "source": [
      " * interactive data exploration "
     ]
    },
    {
     "cell_type": "markdown",
     "metadata": {
      "slideshow": {
       "slide_type": "fragment"
      }
     },
     "source": [
      " * reduce the time from idea to answers"
     ]
    },
    {
     "cell_type": "markdown",
     "metadata": {
      "slideshow": {
       "slide_type": "fragment"
      }
     },
     "source": [
      " * \"let biologists do biology\" "
     ]
    },
    {
     "cell_type": "markdown",
     "metadata": {
      "slideshow": {
       "slide_type": "fragment"
      }
     },
     "source": [
      " * reproducibility"
     ]
    },
    {
     "cell_type": "markdown",
     "metadata": {
      "slideshow": {
       "slide_type": "fragment"
      }
     },
     "source": [
      " * transparency"
     ]
    },
    {
     "cell_type": "markdown",
     "metadata": {
      "slideshow": {
       "slide_type": "fragment"
      }
     },
     "source": [
      " * fight data senescence (genomics data have long-term value)"
     ]
    },
    {
     "cell_type": "markdown",
     "metadata": {
      "slideshow": {
       "slide_type": "slide"
      }
     },
     "source": [
      "## How to get `flotilla`\n",
      "\n",
      "There are several routes to obtaining `flotilla`.\n",
      "<br>\n",
      "<br>\n",
      "Depending on your interests pursue the following:"
     ]
    },
    {
     "cell_type": "markdown",
     "metadata": {
      "slideshow": {
       "slide_type": "fragment"
      }
     },
     "source": [
      "###Docker Hub\n",
      "<img src='img/docker_logo.png' align='left' width=220> \n",
      "<br>\n",
      "<br>\n",
      "<br>\n",
      "<br>\n",
      "The `docker` Virtual Machine is re-built on <a href=\"http://hub.docker.com\">Docker Hub</a> with every change to `flotilla`. Use `-v` to mount host directories in the VM for read/write.\n",
      "\n",
      "\n",
      "    docker run -v ${HOME}/flotilla_packages:/root/flotilla_packages \\\n",
      "        -v ${HOME}/flotilla_notebooks:/root/home/ipython \\\n",
      "            -it \\\n",
      "            mlovci/flotilla:latest\n",
      " \n",
      " ( or `mlovci/flotilla:dev`)\n",
      " "
     ]
    },
    {
     "cell_type": "markdown",
     "metadata": {
      "slideshow": {
       "slide_type": "fragment"
      }
     },
     "source": [
      "###PyPI\n",
      "\n",
      "<img src='img/python-logo.png' align='left' width=200> <br>\n",
      "<br>\n",
      "<br>\n",
      "<br>\n",
      "\n",
      "PyPI is updated with every versioned release of `flotilla`\n",
      "\n",
      " * `pip install flotilla`"
     ]
    },
    {
     "cell_type": "markdown",
     "metadata": {
      "slideshow": {
       "slide_type": "fragment"
      }
     },
     "source": [
      "###GitHub\n",
      "<br>\n",
      "<img src='img/labtocat.png' align='left' width=150> \n",
      "<br>\n",
      "<br>\n",
      "<br>\n",
      "<br>\n",
      "<br>\n",
      "<br>\n",
      "<br>\n",
      "<br>\n",
      "<br>\n",
      "<br>\n",
      "\n",
      "New features are available here, community interaction (request new features, watch our progress), report bugs (of course there are none), contribute new features, browse code.\n",
      "<br>\n",
      "<br>\n",
      " * `git clone https://github.com/YeoLab/flotilla.git`"
     ]
    },
    {
     "cell_type": "markdown",
     "metadata": {},
     "source": [
      "Now, proceed to the [examples](examples/) for demonstrations.\n",
      "\n",
      " 1. [Create A New Study](examples/1_Create%20A%20New%20Study.ipynb)\n",
      " * [Perform Outlier Detection](examples/2_Outlier%20Detection.ipynb)\n",
      " * [Dimensionality Reduction](examples/3_Dimensionality%20Reduction.ipynb)\n",
      " "
     ]
    }
   ],
   "metadata": {}
  }
 ]
}